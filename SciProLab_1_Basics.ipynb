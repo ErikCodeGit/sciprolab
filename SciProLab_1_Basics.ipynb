{
 "cells": [
  {
   "cell_type": "code",
   "execution_count": null,
   "id": "71725de8",
   "metadata": {
    "slideshow": {
     "slide_type": "skip"
    }
   },
   "outputs": [],
   "source": [
    "#Bitte ausführen, damit alles Notwendige importiert wird\n",
    "#Note: Bei Änderungen der zugrundeliegenden Python-Files muss Jupyter neugestartet werden\n",
    "import scipro"
   ]
  },
  {
   "cell_type": "code",
   "execution_count": null,
   "id": "2670d2e4",
   "metadata": {
    "scrolled": true,
    "slideshow": {
     "slide_type": "skip"
    }
   },
   "outputs": [],
   "source": [
    "%%html\n",
    "<!--Bitte diese Cell mit Run ausführen, damit die Styles geladen werden-->\n",
    "<!--Bei Änderungen des CSS muss das Notebook im Browser neu geladen werden-->\n",
    "<link rel=\"stylesheet\" href=\"./styles/sciprolab.css\">\n"
   ]
  },
  {
   "cell_type": "markdown",
   "id": "unique-crisis",
   "metadata": {
    "slideshow": {
     "slide_type": "slide"
    }
   },
   "source": [
    "# Scientific Programming Lab\n"
   ]
  },
  {
   "cell_type": "markdown",
   "id": "543a2d73",
   "metadata": {
    "slideshow": {
     "slide_type": "slide"
    }
   },
   "source": [
    "## Ziele und Inhalte\n",
    "\n",
    "- Basis-Techniken der Python-Programmierung\n",
    "- Näherbringen der Idiomatische Form wie man gewisse Dinge in Python 3 angeht - der sogenannte _Pythonic Way_\n",
    "- Basistechniken für das Daten-Handling und die Visualisierung von Daten\n",
    "- Wiederholung wichtiger mathematischer Konzepte\n",
    "- Handwerkszeug für weitere Module, z.B. im Bereich Data Science\n",
    "\n",
    "\n"
   ]
  },
  {
   "cell_type": "markdown",
   "id": "korean-analysis",
   "metadata": {
    "slideshow": {
     "slide_type": "slide"
    }
   },
   "source": [
    "## Jupyter Notebooks\n",
    "* Interaktive Umgebung, die es ermöglicht ein Dokument (das ´Notebook´) zu schreiben, das folgende Elemente enthält:\n",
    " * Live Code\n",
    " * Plots, Interaktive GUI-Widgets\n",
    " * Beschreibender Text, Gleichungen und Formeln\n",
    " * Bilder und Videos\n",
    "\n"
   ]
  },
  {
   "cell_type": "markdown",
   "id": "bd8e74c2",
   "metadata": {
    "slideshow": {
     "slide_type": "slide"
    }
   },
   "source": [
    "* Verbindet eine Web-Applikation für das Schreiben und Anzeigen mit einem *Computing-Kernel*\n",
    "* Der Kernel ist für unsere Zwecke `IPython` (**I**nteractive **Python**). Es gibt eine Vielzahl an <a href=\"http://jupyter-notebook.readthedocs.io/en/latest/examples/Notebook/What%20is%20the%20Jupyter%20Notebook.html#Kernels\">Kernels</a> für viele verschiedene Sprachen\n",
    "* Jupyter ist **nicht** Python - es benutzt Python."
   ]
  },
  {
   "cell_type": "markdown",
   "id": "91cfbab7",
   "metadata": {
    "slideshow": {
     "slide_type": "slide"
    }
   },
   "source": [
    "* Öffnen des Notebooks\n",
    " * Windows: Klicken auf das entsprechende Symbol im Menü\n",
    " * Linux/Mac: Eingabe von `jupyter notebook` im Terminal\n",
    " * New &rarr; Python 3 | Eingabe von Markdown oder Python Code | Drücken von Shift+Return "
   ]
  },
  {
   "cell_type": "markdown",
   "id": "southwest-alarm",
   "metadata": {
    "slideshow": {
     "slide_type": "slide"
    }
   },
   "source": [
    "### Philosophie von Python:"
   ]
  },
  {
   "cell_type": "code",
   "execution_count": null,
   "id": "polar-fighter",
   "metadata": {
    "slideshow": {
     "slide_type": "fragment"
    }
   },
   "outputs": [],
   "source": [
    "import this"
   ]
  },
  {
   "cell_type": "markdown",
   "id": "cognitive-purse",
   "metadata": {
    "slideshow": {
     "slide_type": "slide"
    }
   },
   "source": [
    "## Arbeiten mit Jupyter"
   ]
  },
  {
   "cell_type": "markdown",
   "id": "efficient-exclusive",
   "metadata": {
    "slideshow": {
     "slide_type": "slide"
    }
   },
   "source": [
    "Es gibt zwei Arten von __Modi__:\n",
    "- __Edit__ \n",
    "- __Command__\n"
   ]
  },
  {
   "cell_type": "markdown",
   "id": "connected-daughter",
   "metadata": {
    "slideshow": {
     "slide_type": "fragment"
    }
   },
   "source": [
    "Für __Edit__ Mode &rarr; (Einfach- or Doppel-) __Click__ in eine Zelle oder __Enter__ drücken in einer Zelle.\n",
    "\n",
    "Für __Command__ Mode &rarr; Escape Button __`ESC`__."
   ]
  },
  {
   "cell_type": "markdown",
   "id": "adolescent-strip",
   "metadata": {
    "slideshow": {
     "slide_type": "slide"
    }
   },
   "source": [
    "Es existiert ein Vielzahl an hilfreichen Shortcuts. Drücken Sie im __Command__ Mode __`H`__ für eine Liste ...\n",
    "\n",
    "Einige hilfreiche:\n",
    "- __Shift + Enter__, Alt + Enter, Ctrl + Enter\n",
    "- `C`, `X`, `V` (Copy, Cut, Paste)\n",
    "- `A`, `B` (Insert Above/Below)\n",
    "- `DD`, `Z`..."
   ]
  },
  {
   "cell_type": "markdown",
   "id": "medieval-twelve",
   "metadata": {
    "slideshow": {
     "slide_type": "slide"
    }
   },
   "source": [
    "Einige einfache Eingaben - Python als Taschenrechner ...<br>\n",
    "Drücken Sie den Play-Button links des Codes, um die Beispiele auszuführen."
   ]
  },
  {
   "cell_type": "code",
   "execution_count": null,
   "id": "brazilian-trading",
   "metadata": {
    "slideshow": {
     "slide_type": "fragment"
    }
   },
   "outputs": [],
   "source": [
    "print(\"Hallo\" + \" \" + \"Welt\")"
   ]
  },
  {
   "cell_type": "code",
   "execution_count": null,
   "id": "thrown-irish",
   "metadata": {
    "slideshow": {
     "slide_type": "fragment"
    }
   },
   "outputs": [],
   "source": [
    "#Zeilen, die mit # starten, sind Kommentare\n",
    "#print(\"Diese Zeile wird nicht ausgeführt\")\n",
    "print(\"Diese Zeile wird ausgeführt\")"
   ]
  },
  {
   "cell_type": "markdown",
   "id": "intellectual-technique",
   "metadata": {
    "slideshow": {
     "slide_type": "slide"
    }
   },
   "source": [
    "## Operationen\n",
    "* Genauso wie in der Mathematik gibt es in Python Operationen\n",
    "* Diese erhalten einen oder mehrere __Operanden__ und liefern ein __Ergebnis__"
   ]
  },
  {
   "cell_type": "markdown",
   "id": "bc3027de",
   "metadata": {
    "slideshow": {
     "slide_type": "slide"
    }
   },
   "source": [
    "### Addition und Subtraktion\n",
    "* Definiert mittels `+` und `-`\n",
    "* Nachkommastellen mittels `.`\n",
    "* Drücken Sie den Play-Button, um die Beispiele auszuführen."
   ]
  },
  {
   "cell_type": "code",
   "execution_count": null,
   "id": "8b59bcc5",
   "metadata": {
    "slideshow": {
     "slide_type": "fragment"
    }
   },
   "outputs": [],
   "source": [
    " 1+1"
   ]
  },
  {
   "cell_type": "code",
   "execution_count": null,
   "id": "cd9a68e4",
   "metadata": {
    "slideshow": {
     "slide_type": "fragment"
    }
   },
   "outputs": [],
   "source": [
    "1.4 + 3.2"
   ]
  },
  {
   "cell_type": "code",
   "execution_count": null,
   "id": "2538222d",
   "metadata": {
    "slideshow": {
     "slide_type": "fragment"
    }
   },
   "outputs": [],
   "source": [
    "17 - 4"
   ]
  },
  {
   "cell_type": "code",
   "execution_count": null,
   "id": "7d1f7491",
   "metadata": {
    "slideshow": {
     "slide_type": "fragment"
    }
   },
   "outputs": [],
   "source": [
    "-2 + -2"
   ]
  },
  {
   "cell_type": "markdown",
   "id": "5687b57c",
   "metadata": {
    "slideshow": {
     "slide_type": "slide"
    }
   },
   "source": [
    "### Multiplikation und Division\n",
    "* Multiplikation mittels `*`\n",
    "* Zwei Arten von Division `/` und `//` \n",
    "* Drücken Sie den Play-Button links des Codes, um die Beispiele auszuführen."
   ]
  },
  {
   "cell_type": "code",
   "execution_count": null,
   "id": "altered-albany",
   "metadata": {
    "slideshow": {
     "slide_type": "fragment"
    }
   },
   "outputs": [],
   "source": [
    "3 * 5"
   ]
  },
  {
   "cell_type": "code",
   "execution_count": null,
   "id": "honey-disorder",
   "metadata": {
    "slideshow": {
     "slide_type": "fragment"
    }
   },
   "outputs": [],
   "source": [
    "10/2"
   ]
  },
  {
   "cell_type": "code",
   "execution_count": null,
   "id": "regulation-walter",
   "metadata": {
    "slideshow": {
     "slide_type": "fragment"
    }
   },
   "outputs": [],
   "source": [
    "10//2"
   ]
  },
  {
   "cell_type": "markdown",
   "id": "engaging-secretariat",
   "metadata": {
    "slideshow": {
     "slide_type": "slide"
    }
   },
   "source": [
    "<div class=\"aufgabe\">\n",
    "    <h3>Division</h3>\n",
    "    Was ist der Unterschied zwischen `/` und `//`?<br>\n",
    "    Zeigen Sie diesen Unterschied anhand von zwei Beispielen.\n",
    "</div>"
   ]
  },
  {
   "cell_type": "markdown",
   "id": "34047623",
   "metadata": {
    "slideshow": {
     "slide_type": "skip"
    }
   },
   "source": [
    "<details class=\"hint\">\n",
    "<summary></summary>\n",
    "Was ist der Unterschied im Output zwischen `10/2` und `10//2`?\n",
    "    <details class=\"nexthint\">\n",
    "    <summary></summary>\n",
    "        Suchen Sie ein Paar von Operanden, bei dem das Ergebnis Nachkommstellen hat\n",
    "    </details>\n",
    "</details>\n"
   ]
  },
  {
   "cell_type": "code",
   "execution_count": null,
   "id": "7403cca1",
   "metadata": {
    "slideshow": {
     "slide_type": "fragment"
    }
   },
   "outputs": [],
   "source": [
    "#Beispiel für /\n",
    "/"
   ]
  },
  {
   "cell_type": "code",
   "execution_count": null,
   "id": "fff6f307",
   "metadata": {
    "slideshow": {
     "slide_type": "fragment"
    }
   },
   "outputs": [],
   "source": [
    "#Beispiel für /\n",
    "//"
   ]
  },
  {
   "cell_type": "markdown",
   "id": "54ad5420",
   "metadata": {
    "slideshow": {
     "slide_type": "slide"
    }
   },
   "source": [
    "# Variablen"
   ]
  },
  {
   "cell_type": "markdown",
   "id": "44af6924",
   "metadata": {},
   "source": [
    "<div class=\"definition\">\n",
    "    <h3>Variable (Mathematik)</h3>\n",
    "    Eine Variable ist eine symbolische Repräsentation eines mathematischen Objekts, z.B. einer Zahl oder Menge.<br>\n",
    "    Beispiele für Gleichungen mit Variablen x,y, und z:\n",
    "    $$\n",
    "      x^2 = 25 \\text{ genau dann, wenn } x = -5 \\text{ oder } x=5\\\\\n",
    "      \\text{ aus } y=3 \\text{ und } z = 4 \\text{ folgt } y+z=7\n",
    "    $$\n",
    "</div>"
   ]
  },
  {
   "cell_type": "markdown",
   "id": "271c433c",
   "metadata": {
    "slideshow": {
     "slide_type": "slide"
    }
   },
   "source": [
    "<div class=\"definition\">\n",
    "    <h3>Variable (Programmierung)</h3>\n",
    "    Eine Variable ist eine Repräsentation eines Speicherorts für einen Wert, z.B. eine Zahl oder eine Zeichenkette.<br>\n",
    "    Variablen sind durch einen Bezeichner eindeutig definiert.<br>\n",
    "    Beispiel für die Verwendung von Variablen x,y,z:\n",
    "</div>"
   ]
  },
  {
   "cell_type": "code",
   "execution_count": null,
   "id": "fb7257c3",
   "metadata": {
    "slideshow": {
     "slide_type": "fragment"
    }
   },
   "outputs": [],
   "source": [
    "x = \"Studis\"\n",
    "print(\"Hallo, \" + x + \"!\")"
   ]
  },
  {
   "cell_type": "code",
   "execution_count": null,
   "id": "55d44c13",
   "metadata": {
    "slideshow": {
     "slide_type": "fragment"
    }
   },
   "outputs": [],
   "source": [
    "y = 3\n",
    "z = 4\n",
    "print(y + z)"
   ]
  },
  {
   "cell_type": "markdown",
   "id": "9af79895",
   "metadata": {
    "slideshow": {
     "slide_type": "slide"
    }
   },
   "source": [
    "### Zuweisung und Gleichheit\n",
    "* Der Operator `=` hat in der Mathematik und in Python verschiedene Bedeutungen\n",
    "    * In der Mathematik _Gleichheit_, z.B. $x=5$ bedeutet, dass der Wert von x (immer und zu jeder Zeit) 5 ist\n",
    "    * In Python _Zuweisung_, z.B. `x=5` bedeutet, dass der Wert von X auf 5 gesetzt wird (und evtl. vorher ein anderer war)\n",
    "\n",
    "    "
   ]
  },
  {
   "cell_type": "code",
   "execution_count": null,
   "id": "3bdf5f92",
   "metadata": {
    "slideshow": {
     "slide_type": "fragment"
    }
   },
   "outputs": [],
   "source": [
    "x=5\n",
    "print(x)\n",
    "x=7\n",
    "print(x)"
   ]
  },
  {
   "cell_type": "markdown",
   "id": "1c587d35",
   "metadata": {
    "slideshow": {
     "slide_type": "slide"
    }
   },
   "source": [
    "* In Python wird für den Vergleich das doppelte Gleichheitszeichen `==` benutzt"
   ]
  },
  {
   "cell_type": "code",
   "execution_count": null,
   "id": "5b883ba0",
   "metadata": {
    "slideshow": {
     "slide_type": "fragment"
    }
   },
   "outputs": [],
   "source": [
    "x=5\n",
    "print(x==5)\n",
    "print(x==7)"
   ]
  },
  {
   "cell_type": "markdown",
   "id": "1f4f3e89",
   "metadata": {
    "slideshow": {
     "slide_type": "slide"
    }
   },
   "source": [
    "* Bei der Zuweisung werden _zuerst_ alle Operationen auf der rechten Seite ausgeführt, erst _dann_ wird das Ergebnis in der Variable auf der linken Seite gespeichert"
   ]
  },
  {
   "cell_type": "code",
   "execution_count": null,
   "id": "fa36dc91",
   "metadata": {
    "slideshow": {
     "slide_type": "fragment"
    }
   },
   "outputs": [],
   "source": [
    "x = 3\n",
    "print(x)\n",
    "x = x + 5\n",
    "print(x)\n",
    "x = x * x\n",
    "print(x)"
   ]
  },
  {
   "cell_type": "markdown",
   "id": "6cc90290",
   "metadata": {
    "slideshow": {
     "slide_type": "slide"
    }
   },
   "source": [
    "<div class=\"aufgabe\">\n",
    "    <h3>Zuweisung</h3>\n",
    "    Schreiben Sie die Zeilen Code, die den Inhalt der Variablen `a` und `b`tauschen!\n",
    "</div>"
   ]
  },
  {
   "cell_type": "code",
   "execution_count": null,
   "id": "c328f382",
   "metadata": {
    "slideshow": {
     "slide_type": "fragment"
    }
   },
   "outputs": [],
   "source": [
    "a = 1\n",
    "b = 5\n",
    "print(a,b)\n",
    "#Schreiben Sie Ihren Code hier\n",
    "\n",
    "#Dieser Code testet, ob Ihr Code das Richtige tut\n",
    "scipro.Test(\"Zuweisung\").equals(\"a\", a, 5).equals(\"b\", b, 1).report()"
   ]
  },
  {
   "cell_type": "markdown",
   "id": "4305a34d",
   "metadata": {
    "slideshow": {
     "slide_type": "slide"
    }
   },
   "source": [
    "### Doppelte Zuweisung"
   ]
  },
  {
   "cell_type": "code",
   "execution_count": null,
   "id": "05aacf87",
   "metadata": {
    "slideshow": {
     "slide_type": "fragment"
    }
   },
   "outputs": [],
   "source": [
    "a=1\n",
    "b=5\n",
    "a,b\n",
    "temp = a\n",
    "a = b\n",
    "b = temp\n",
    "a,b"
   ]
  },
  {
   "cell_type": "markdown",
   "id": "91a71a25",
   "metadata": {
    "slideshow": {
     "slide_type": "fragment"
    }
   },
   "source": [
    "In Python geht das aber einfacher ... also tauschen wir (idomatisch = pythonic) zurück ..."
   ]
  },
  {
   "cell_type": "code",
   "execution_count": null,
   "id": "78e3eb52",
   "metadata": {
    "slideshow": {
     "slide_type": "fragment"
    }
   },
   "outputs": [],
   "source": [
    "a,b = b,a\n",
    "a,b"
   ]
  },
  {
   "cell_type": "markdown",
   "id": "66e3f07f",
   "metadata": {
    "slideshow": {
     "slide_type": "slide"
    }
   },
   "source": [
    "## Variablennamen\n",
    "- Sollten einigermaßen deskriptiv und dabei nicht zu lang sein, wie z.B. `mass`, `kNN`,`frequency`, `pop_size`...\n",
    "- Groß- und Kleinschreibung zählt (`knn` $\\neq$ `kNN`)\n",
    "- können Buchstaben, Zahlen und “_” enthalten, können aber nicht mit einer Zahl beginnen\n",
    "- Vorbelegte Namen wie `type` sollten nicht verwendet werden"
   ]
  },
  {
   "cell_type": "markdown",
   "id": "478977fb",
   "metadata": {
    "slideshow": {
     "slide_type": "slide"
    }
   },
   "source": [
    "Versucht man nicht erlaubte Namen zu verwenden, produziert Python eine Fehlermeldung ..."
   ]
  },
  {
   "cell_type": "code",
   "execution_count": null,
   "id": "86a54f6e",
   "metadata": {
    "slideshow": {
     "slide_type": "fragment"
    }
   },
   "outputs": [],
   "source": [
    "1toMany = 3"
   ]
  },
  {
   "cell_type": "code",
   "execution_count": null,
   "id": "b9736453",
   "metadata": {
    "slideshow": {
     "slide_type": "fragment"
    }
   },
   "outputs": [],
   "source": [
    "pass = True"
   ]
  },
  {
   "cell_type": "markdown",
   "id": "36085bb8",
   "metadata": {
    "slideshow": {
     "slide_type": "slide"
    }
   },
   "source": [
    "Python hat 31 Schlüssewörter, die nicht als Variablennamen benutzt werden können:\n",
    "\n",
    "|  |  |  |  |  |  |\n",
    "| :----: | :----: | :----: | :----: | :----: | :----: |\n",
    "|and|as|assert|break|class|continue|\n",
    "|def|del|elif|else|except|exec|\n",
    "|finally|for|from|global|if|import|\n",
    "|in|is|lambda|not|or|pass|\n",
    "|print|raise|return|try|while|with|\n",
    "|yield"
   ]
  },
  {
   "cell_type": "markdown",
   "id": "7bf99506",
   "metadata": {
    "slideshow": {
     "slide_type": "subslide"
    }
   },
   "source": [
    "Schlüsselwörter werden in Jupyter hervorgehoben, so dass Sie erkennen sollten, dass Sie sie nicht benutzen können:\n",
    "\n",
    "```python\n",
    "global\n",
    "```\n",
    "\n",
    "Benutzen Sie auch keine Funktionsnamen bereits existierender Funktionen, wie z.B. `int`, `float`, `len`, ..."
   ]
  },
  {
   "cell_type": "markdown",
   "id": "future-australia",
   "metadata": {
    "slideshow": {
     "slide_type": "slide"
    }
   },
   "source": [
    "## Mehr Operationen: Potenzieren"
   ]
  },
  {
   "cell_type": "code",
   "execution_count": null,
   "id": "induced-regular",
   "metadata": {
    "slideshow": {
     "slide_type": "fragment"
    }
   },
   "outputs": [],
   "source": [
    "10^2"
   ]
  },
  {
   "cell_type": "markdown",
   "id": "heavy-defendant",
   "metadata": {
    "slideshow": {
     "slide_type": "fragment"
    }
   },
   "source": [
    "Mas macht Python hier?"
   ]
  },
  {
   "cell_type": "code",
   "execution_count": null,
   "id": "nearby-floor",
   "metadata": {
    "slideshow": {
     "slide_type": "fragment"
    }
   },
   "outputs": [],
   "source": [
    "help('^')"
   ]
  },
  {
   "cell_type": "markdown",
   "id": "musical-future",
   "metadata": {
    "slideshow": {
     "slide_type": "slide"
    }
   },
   "source": [
    "`help()` um nach Hilfe zu fragen, aber manchmal ist das nicht allzu hilfreich ..."
   ]
  },
  {
   "cell_type": "markdown",
   "id": "qualified-syria",
   "metadata": {
    "slideshow": {
     "slide_type": "fragment"
    }
   },
   "source": [
    "`^` ist der Python-Operator für bitweises exklusives oder (`XOR`):\n",
    "\n",
    "        1010 = 10\n",
    "    XOR 0010 =  2\n",
    "    ->  1000 =  8\n",
    "    \n",
    "Was genau das ist, lernen Sie in Digitaltechnik."
   ]
  },
  {
   "cell_type": "markdown",
   "id": "746d0384",
   "metadata": {
    "slideshow": {
     "slide_type": "fragment"
    }
   },
   "source": [
    "Was wir eigentlich möchten, ist '**'."
   ]
  },
  {
   "cell_type": "code",
   "execution_count": null,
   "id": "secret-intranet",
   "metadata": {
    "slideshow": {
     "slide_type": "fragment"
    }
   },
   "outputs": [],
   "source": [
    "10**2"
   ]
  },
  {
   "cell_type": "markdown",
   "id": "elder-shoot",
   "metadata": {
    "slideshow": {
     "slide_type": "slide"
    }
   },
   "source": [
    "## Operatoren-Präzedenz\n",
    "\n",
    "In der Mathematik bestimmen Regeln wie _Punkt-Vor-Strich_, welche Operatoren zuerst ausgewertet werden. \n",
    "\n",
    "Python folgt der *BODMAS*-Regel:\n",
    "* **B**rackets\n",
    "* **O**rder (Potenzen)\n",
    "* **D**ivide / **M**ultiply\n",
    "* **A**dd / **S**ubtract"
   ]
  },
  {
   "cell_type": "code",
   "execution_count": null,
   "id": "mechanical-white",
   "metadata": {
    "slideshow": {
     "slide_type": "subslide"
    }
   },
   "outputs": [],
   "source": [
    "2 + 4 * 10"
   ]
  },
  {
   "cell_type": "code",
   "execution_count": null,
   "id": "deadly-criterion",
   "metadata": {
    "slideshow": {
     "slide_type": "fragment"
    }
   },
   "outputs": [],
   "source": [
    "5 * 10 ** 2"
   ]
  },
  {
   "cell_type": "code",
   "execution_count": null,
   "id": "peaceful-platinum",
   "metadata": {
    "slideshow": {
     "slide_type": "fragment"
    }
   },
   "outputs": [],
   "source": [
    "(5 * 10) ** 2"
   ]
  },
  {
   "cell_type": "markdown",
   "id": "0b0f6ba5",
   "metadata": {
    "slideshow": {
     "slide_type": "fragment"
    }
   },
   "source": [
    "Im Zweifelsfall gilt: Lieber eine Klammer zu viel, als zu wenig! \n",
    "\n",
    "Vergleichen Sie folgende Beispiele. Was ist für den Menschen besser verständlich?"
   ]
  },
  {
   "cell_type": "code",
   "execution_count": null,
   "id": "9a98e06a",
   "metadata": {
    "slideshow": {
     "slide_type": "-"
    }
   },
   "outputs": [],
   "source": [
    "9 + 8 * 5 / 2 + 16 - 3"
   ]
  },
  {
   "cell_type": "code",
   "execution_count": null,
   "id": "048fdfde",
   "metadata": {
    "slideshow": {
     "slide_type": "fragment"
    }
   },
   "outputs": [],
   "source": [
    "9 + ((8 * 5) / 2) + (16 - 3)"
   ]
  },
  {
   "cell_type": "markdown",
   "id": "6d862064",
   "metadata": {
    "slideshow": {
     "slide_type": "slide"
    }
   },
   "source": [
    "# Datentypen"
   ]
  },
  {
   "cell_type": "markdown",
   "id": "a2c62fe0",
   "metadata": {
    "slideshow": {
     "slide_type": "-"
    }
   },
   "source": [
    "<div class=\"definition\">\n",
    "    <h3>Datentyp</h3>\n",
    "    Eine Datentyp ist eine Gruppe von Datenwerten, die ein eigenes Format aufweisen.<br>\n",
    "    Für einen Datenwert können spezifische Operatoren definiert werden.<br>\n",
    "    z.B. umfasst der Datentyp `int` die ganzen Zahlen, für die die Addition `+` als Operator definiert ist.\n",
    "</div>"
   ]
  },
  {
   "cell_type": "markdown",
   "id": "1edbbab2",
   "metadata": {
    "slideshow": {
     "slide_type": "slide"
    }
   },
   "source": [
    "| Datentyp | Abkürzung | Datenmenge | Beispiele |\n",
    "| --- | --- | --- |--- |\n",
    "|integer|int|\tganze Zahl\t|19|\n",
    "|float|float|\tFließkommazahl\t|3.1415|\n",
    "|boolean|bool|Wahrheitswerte\t|True, False|\n",
    "|string|str|Zeichenkette\t|“Hallo Welt“|\n",
    "|list|list|Liste|\t[4,8,15,16,23,42]|\n",
    "|tuple|tuple|Wertepaar|\t('Max', 'Mustermann')|"
   ]
  },
  {
   "cell_type": "markdown",
   "id": "8a7c08ad",
   "metadata": {
    "slideshow": {
     "slide_type": "slide"
    }
   },
   "source": [
    "Der Typ einer Variable oder eines Ausdrucks läßt sich mit `type()` überprüfen"
   ]
  },
  {
   "cell_type": "code",
   "execution_count": null,
   "id": "dedc3e3e",
   "metadata": {
    "scrolled": true,
    "slideshow": {
     "slide_type": "fragment"
    }
   },
   "outputs": [],
   "source": [
    "type(4)"
   ]
  },
  {
   "cell_type": "code",
   "execution_count": null,
   "id": "81da0e34",
   "metadata": {
    "slideshow": {
     "slide_type": "fragment"
    }
   },
   "outputs": [],
   "source": [
    "type(1.0+1)"
   ]
  },
  {
   "cell_type": "code",
   "execution_count": null,
   "id": "d0baad92",
   "metadata": {
    "slideshow": {
     "slide_type": "fragment"
    }
   },
   "outputs": [],
   "source": [
    "type(\"Hallo\")"
   ]
  },
  {
   "cell_type": "markdown",
   "id": "4a8c4781",
   "metadata": {
    "slideshow": {
     "slide_type": "fragment"
    }
   },
   "source": [
    "Im Vergleich zu anderen Programmiersprachen wie z.B. Java haben Variablen in Python keinen vorbestimmten Typen."
   ]
  },
  {
   "cell_type": "code",
   "execution_count": null,
   "id": "583d4311",
   "metadata": {
    "slideshow": {
     "slide_type": "-"
    }
   },
   "outputs": [],
   "source": [
    "x=\"Dies\"\n",
    "print(\"Type mit \\\"Dies\\\": \",  type(x))\n",
    "x=3\n",
    "print(\"Type mit 3: \",  type(x))"
   ]
  },
  {
   "cell_type": "markdown",
   "id": "bd19ee3f",
   "metadata": {
    "slideshow": {
     "slide_type": "subslide"
    }
   },
   "source": [
    "Ob die Datentypen zueinander passen, wird erst beim Ausführen geprüft."
   ]
  },
  {
   "cell_type": "code",
   "execution_count": null,
   "id": "55c18525",
   "metadata": {
    "slideshow": {
     "slide_type": "fragment"
    }
   },
   "outputs": [],
   "source": [
    "x=7\n",
    "y=7\n",
    "x * y"
   ]
  },
  {
   "cell_type": "code",
   "execution_count": null,
   "id": "e35c8541",
   "metadata": {
    "slideshow": {
     "slide_type": "fragment"
    }
   },
   "outputs": [],
   "source": [
    "x=\"Feiner Sand\"\n",
    "y=7\n",
    "x / y"
   ]
  },
  {
   "cell_type": "markdown",
   "id": "e3853bbf",
   "metadata": {},
   "source": [
    "Wir sagen daher, Python ist **dynamisch typisiert**."
   ]
  },
  {
   "cell_type": "markdown",
   "id": "66d2d9a3",
   "metadata": {
    "slideshow": {
     "slide_type": "slide"
    }
   },
   "source": [
    "## Zahlen - int und float"
   ]
  },
  {
   "cell_type": "markdown",
   "id": "17da016a",
   "metadata": {
    "slideshow": {
     "slide_type": "subslide"
    }
   },
   "source": [
    "<div class=\"definition\">\n",
    "    <h3>Integer</h3>\n",
    "    Integer (int) ist ein Datentyp, der die ganzen Zahlen ℤ repräsentiert.<br>\n",
    "</div>"
   ]
  },
  {
   "cell_type": "markdown",
   "id": "a11ba726",
   "metadata": {
    "slideshow": {
     "slide_type": "fragment"
    }
   },
   "source": [
    "Die bekannten Grundrechenarten sind als Operatoren implementiert"
   ]
  },
  {
   "cell_type": "code",
   "execution_count": null,
   "id": "5ae9d1eb",
   "metadata": {
    "slideshow": {
     "slide_type": "-"
    }
   },
   "outputs": [],
   "source": [
    "print(\"1+1=\", 1+1)\n",
    "print(\"10-2=\", 10-2)\n",
    "print(\"5*5=\", 5*5)\n",
    "print(\"9//3=\", 9//3)"
   ]
  },
  {
   "cell_type": "markdown",
   "id": "9fd92286",
   "metadata": {
    "slideshow": {
     "slide_type": "fragment"
    }
   },
   "source": [
    "ℤ umfasst auch die negativen Zahlen."
   ]
  },
  {
   "cell_type": "code",
   "execution_count": null,
   "id": "a4b5a36d",
   "metadata": {
    "slideshow": {
     "slide_type": "-"
    }
   },
   "outputs": [],
   "source": [
    "print(\"-3+5=\", -3+5)\n",
    "print(\"1-2=\", 1-2)\n",
    "print(\"-2*-2=\", -2*-2)\n",
    "print(\"12//-4=\", 12//-4)"
   ]
  },
  {
   "cell_type": "markdown",
   "id": "5caea80c",
   "metadata": {
    "slideshow": {
     "slide_type": "slide"
    }
   },
   "source": [
    "Im Gegensatz zu anderen Programmiersprachen hat Integer keine Größenbeschränkung."
   ]
  },
  {
   "cell_type": "code",
   "execution_count": null,
   "id": "cbe21f70",
   "metadata": {
    "slideshow": {
     "slide_type": "fragment"
    }
   },
   "outputs": [],
   "source": [
    "#Dieser Code erlaubt es, lange Zahlen auch auszugeben\n",
    "import sys\n",
    "sys.set_int_max_str_digits(10000000) \n",
    "#Das Ergebnis dieser Berechnung ist ein int, der ausgegeben wird\n",
    "2**2**2**2**2"
   ]
  },
  {
   "cell_type": "markdown",
   "id": "d8e6a2e4",
   "metadata": {
    "slideshow": {
     "slide_type": "slide"
    }
   },
   "source": [
    "<div class=\"definition\">\n",
    "    <h3>Float</h3>\n",
    "    Float (float) ist ein Datentyp, der die reellen Zahlen ℝ repräsentiert.<br>\n",
    "    Float steht für Floating Point Number, im Deutschen Gleitkommazahl.<br>\n",
    "    Vereinfacht gesagt speichert dieser Datentyp nur eine begrenzte Anzahl an Vor- bzw. Nachkommastellen. Die Präzision ist dadurch begrenzt.<br>\n",
    "    Eine reelle Zahl wie π=3,14159... kann daher nicht perfekt im Computer abgebildet werden.<br>\n",
    "</div>"
   ]
  },
  {
   "cell_type": "markdown",
   "id": "97bb7423",
   "metadata": {
    "slideshow": {
     "slide_type": "fragment"
    }
   },
   "source": [
    "Durch die begrenzte Präzision von ´float´ kommt es zu sog. **Rundungsfehlern**.\n",
    "Diese müssen beim Arbeiten mit Nachkommastellen berücksichtigt werden."
   ]
  },
  {
   "cell_type": "markdown",
   "id": "dddc6ed1",
   "metadata": {
    "slideshow": {
     "slide_type": "slide"
    }
   },
   "source": [
    "Folgende mathematische Gleichung zeigt, wie die Multiplikation und Divison von 7 zu 1 das Ergebnis nicht verändert, egal, in welcher Reihenfolge die Multiplikationen und Divisionen durchgeführt werden."
   ]
  },
  {
   "cell_type": "markdown",
   "id": "c5ee0a24",
   "metadata": {},
   "source": [
    "$$\n",
    "  1=1 * \\frac{7^7}{7^7}=1 * 7^7 / 7^7 =1 / 7^7 * 7^7 =1(/7/7/7/7/7/7/7)*(7*7*7*7*7*7*7) = 1\n",
    "$$"
   ]
  },
  {
   "cell_type": "markdown",
   "id": "c2f71889",
   "metadata": {
    "slideshow": {
     "slide_type": "slide"
    }
   },
   "source": [
    "In Python kommt es aber je nach Reihenfolge zu Rundungsfehlern. "
   ]
  },
  {
   "cell_type": "code",
   "execution_count": null,
   "id": "fc117a53",
   "metadata": {
    "slideshow": {
     "slide_type": "-"
    }
   },
   "outputs": [],
   "source": [
    "siebengeteilt = 1.0      /(7**7)\n",
    "eins = siebengeteilt     *(7**7)\n",
    "print(eins)"
   ]
  },
  {
   "cell_type": "code",
   "execution_count": null,
   "id": "ba73d1dc",
   "metadata": {
    "slideshow": {
     "slide_type": "fragment"
    }
   },
   "outputs": [],
   "source": [
    "siebengeteilt = 1.0      /7/7/7/7/7/7/7\n",
    "eins = siebengeteilt     *7*7*7*7*7*7*7\n",
    "print(eins)"
   ]
  },
  {
   "cell_type": "markdown",
   "id": "beb1cfc0",
   "metadata": {
    "slideshow": {
     "slide_type": "fragment"
    }
   },
   "source": [
    "Im Scientific Programming müssen **Rundungsfehler** beim Arbeiten mit Nachkommastellen **immer berücksichtigt** werden!\n",
    "Die **Numerik** ist ein Teilgebiet der Mathematik, das sich mit der Lösung mathematischer Probleme unter Minimierung der Rundungsfehler beschäftigt."
   ]
  },
  {
   "cell_type": "markdown",
   "id": "physical-warren",
   "metadata": {
    "slideshow": {
     "slide_type": "slide"
    }
   },
   "source": [
    "## Strings"
   ]
  },
  {
   "cell_type": "markdown",
   "id": "ca5ae7de",
   "metadata": {},
   "source": [
    "<div class=\"definition\">\n",
    "    <h3>String</h3>\n",
    "    Eine String ist ein Datentyp, der eine Zeichenkette repräsentiert.<br>\n",
    "    Zeichen sind Buchstaben, Ziffern, Satzzeichen, etc.\n",
    "</div>"
   ]
  },
  {
   "cell_type": "markdown",
   "id": "eligible-welsh",
   "metadata": {
    "slideshow": {
     "slide_type": "fragment"
    }
   },
   "source": [
    "\n",
    "* Strings können mittels Single- oder Double-Quotes definiert werden\n",
    "* Aber nicht in \"Strange-Quote's\" (\\`)"
   ]
  },
  {
   "cell_type": "code",
   "execution_count": null,
   "id": "twenty-guitar",
   "metadata": {
    "slideshow": {
     "slide_type": "fragment"
    }
   },
   "outputs": [],
   "source": [
    "'Hallo!'"
   ]
  },
  {
   "cell_type": "code",
   "execution_count": null,
   "id": "dietary-anaheim",
   "metadata": {
    "slideshow": {
     "slide_type": "fragment"
    }
   },
   "outputs": [],
   "source": [
    "`Hallo!`"
   ]
  },
  {
   "cell_type": "code",
   "execution_count": null,
   "id": "starting-findings",
   "metadata": {
    "slideshow": {
     "slide_type": "fragment"
    }
   },
   "outputs": [],
   "source": [
    "\"Hallo!\""
   ]
  },
  {
   "cell_type": "markdown",
   "id": "standard-purple",
   "metadata": {
    "slideshow": {
     "slide_type": "slide"
    }
   },
   "source": [
    "## String-Operationen"
   ]
  },
  {
   "cell_type": "markdown",
   "id": "e8f0a820",
   "metadata": {
    "slideshow": {
     "slide_type": "fragment"
    }
   },
   "source": [
    "Die String-Konkatenation (engl. concatenate, '+') ist das Aneinanderreihen von Strings."
   ]
  },
  {
   "cell_type": "code",
   "execution_count": null,
   "id": "integrated-rogers",
   "metadata": {
    "slideshow": {
     "slide_type": "-"
    }
   },
   "outputs": [],
   "source": [
    "\"Dies\" + \" und \" + \"Das\""
   ]
  },
  {
   "cell_type": "markdown",
   "id": "c52b0da2",
   "metadata": {
    "slideshow": {
     "slide_type": "subslide"
    }
   },
   "source": [
    "Konkatenieren funktioniert allerdings nicht, wenn ein Operand kein String ist."
   ]
  },
  {
   "cell_type": "code",
   "execution_count": null,
   "id": "5b869df3",
   "metadata": {},
   "outputs": [],
   "source": [
    "\"Dies\" + 5"
   ]
  },
  {
   "cell_type": "markdown",
   "id": "045623df",
   "metadata": {
    "slideshow": {
     "slide_type": "fragment"
    }
   },
   "source": [
    "Möchte man einen String wiederholen, geht das - ganz *pythonic* mittels - '*'."
   ]
  },
  {
   "cell_type": "code",
   "execution_count": null,
   "id": "designing-turtle",
   "metadata": {
    "slideshow": {
     "slide_type": "-"
    }
   },
   "outputs": [],
   "source": [
    "\"Dies\" * 3"
   ]
  },
  {
   "cell_type": "markdown",
   "id": "92d3075b",
   "metadata": {
    "slideshow": {
     "slide_type": "fragment"
    }
   },
   "source": [
    "Auch hier sind die Datentypen wichtig."
   ]
  },
  {
   "cell_type": "code",
   "execution_count": null,
   "id": "passing-juice",
   "metadata": {
    "slideshow": {
     "slide_type": "-"
    }
   },
   "outputs": [],
   "source": [
    "\"Dies\" * \"Das\""
   ]
  },
  {
   "cell_type": "markdown",
   "id": "asian-thought",
   "metadata": {
    "slideshow": {
     "slide_type": "slide"
    }
   },
   "source": [
    "<div class=\"aufgabe\">\n",
    "    <h3>String-Operationen</h3>\n",
    "    Weisen Sie der Variable `k` den Wert \"kuckuck\" zu, indem Sie ein '+', ein '*' und maximal vier Buchstaben benutzen.\n",
    "</div>"
   ]
  },
  {
   "cell_type": "code",
   "execution_count": null,
   "id": "2f9b8472",
   "metadata": {},
   "outputs": [],
   "source": [
    "#Ergänzen Sie die Zuweisung hier\n",
    "\n",
    "# YOUR CODE HERE\n",
    "raise NotImplementedError()\n",
    "\n",
    "#Dieser Code testet, ob Ihr Code das Richtige tut\n",
    "scipro.Test(\"String-Operationen\").equals(\"k\", k, \"kuckuck\").report()"
   ]
  },
  {
   "cell_type": "markdown",
   "id": "matched-tyler",
   "metadata": {
    "slideshow": {
     "slide_type": "fragment"
    }
   },
   "source": [
    "Die **Länge** eines Strings sit die Anzahl der Zeichen und kann mittels 'len()' ermittelt werden."
   ]
  },
  {
   "cell_type": "code",
   "execution_count": null,
   "id": "constant-mistake",
   "metadata": {
    "slideshow": {
     "slide_type": "-"
    }
   },
   "outputs": [],
   "source": [
    "len(\"Hallo Python!\")"
   ]
  },
  {
   "cell_type": "markdown",
   "id": "3613cd95",
   "metadata": {
    "slideshow": {
     "slide_type": "subslide"
    }
   },
   "source": [
    "Der leere String hat die Länge 0."
   ]
  },
  {
   "cell_type": "code",
   "execution_count": null,
   "id": "6c3dc153",
   "metadata": {},
   "outputs": [],
   "source": [
    "len(\"\")"
   ]
  },
  {
   "cell_type": "markdown",
   "id": "e78a0019",
   "metadata": {
    "slideshow": {
     "slide_type": "fragment"
    }
   },
   "source": [
    "Achtung: 'len()' erwartet einen String als Parameter."
   ]
  },
  {
   "cell_type": "code",
   "execution_count": null,
   "id": "27b636a0",
   "metadata": {},
   "outputs": [],
   "source": [
    "len(13)"
   ]
  },
  {
   "cell_type": "markdown",
   "id": "14bf7931",
   "metadata": {
    "slideshow": {
     "slide_type": "slide"
    }
   },
   "source": [
    "## Boolean- wahr oder falsch? "
   ]
  },
  {
   "cell_type": "markdown",
   "id": "e22fe749",
   "metadata": {},
   "source": [
    "<div class=\"definition\">\n",
    "    <h3>Boolean</h3>\n",
    "    Ein Boolean (bool) ist ein Datentyp, der einen logischen Wahrheitswert repräsentiert.<br>\n",
    "    Es gibt zwei mögliche Wahrheitswerte: 'True' (wahr) und 'False' (falsch)<br>\n",
    "</div>"
   ]
  },
  {
   "cell_type": "markdown",
   "id": "c7a3d497",
   "metadata": {
    "slideshow": {
     "slide_type": "subslide"
    }
   },
   "source": [
    "Das Ergebnis eines Vergleichs ist ein Boolean."
   ]
  },
  {
   "cell_type": "code",
   "execution_count": null,
   "id": "8b8a1017",
   "metadata": {},
   "outputs": [],
   "source": [
    "1+1 == 2"
   ]
  },
  {
   "cell_type": "code",
   "execution_count": null,
   "id": "b84a4000",
   "metadata": {
    "slideshow": {
     "slide_type": "fragment"
    }
   },
   "outputs": [],
   "source": [
    "\"mama\" == \"ma\" * 2"
   ]
  },
  {
   "cell_type": "markdown",
   "id": "32cf7d89",
   "metadata": {
    "slideshow": {
     "slide_type": "subslide"
    }
   },
   "source": [
    "Python unterstützt auch andere Vergleichsoperatoren."
   ]
  },
  {
   "cell_type": "code",
   "execution_count": null,
   "id": "04207c09",
   "metadata": {},
   "outputs": [],
   "source": [
    "17 > 4"
   ]
  },
  {
   "cell_type": "code",
   "execution_count": null,
   "id": "da35e5cc",
   "metadata": {
    "slideshow": {
     "slide_type": "fragment"
    }
   },
   "outputs": [],
   "source": [
    "5+1 < 5"
   ]
  },
  {
   "cell_type": "code",
   "execution_count": null,
   "id": "b08365d3",
   "metadata": {
    "slideshow": {
     "slide_type": "fragment"
    }
   },
   "outputs": [],
   "source": [
    "7*7 <= 49"
   ]
  },
  {
   "cell_type": "code",
   "execution_count": null,
   "id": "5b07863c",
   "metadata": {
    "slideshow": {
     "slide_type": "fragment"
    }
   },
   "outputs": [],
   "source": [
    "3*3 > 3+3"
   ]
  },
  {
   "cell_type": "markdown",
   "id": "25961049",
   "metadata": {
    "slideshow": {
     "slide_type": "fragment"
    }
   },
   "source": [
    "Neben der Gleichheit (mathematisch `=`, Python '==') gibt es auch das ungleich (mathematisch `≠`, Python '!=')"
   ]
  },
  {
   "cell_type": "code",
   "execution_count": null,
   "id": "5582cb3e",
   "metadata": {},
   "outputs": [],
   "source": [
    "17 != 4"
   ]
  },
  {
   "cell_type": "code",
   "execution_count": null,
   "id": "d1194839",
   "metadata": {
    "slideshow": {
     "slide_type": "fragment"
    }
   },
   "outputs": [],
   "source": [
    "\"mama\" != \"papa\""
   ]
  },
  {
   "cell_type": "markdown",
   "id": "8cf32a08",
   "metadata": {
    "slideshow": {
     "slide_type": "subslide"
    }
   },
   "source": [
    "Python beinhaltet auch logische Operatoren: \n",
    "* Logisches Und (`∧`, Python 'and')\n",
    "* Logisches Oder (`∨`, Python 'or')\n",
    "* Logisches Nicht (`¬`, Python 'not()')\n",
    "\n",
    "Mehr dazu in der Logik-Vorlesung."
   ]
  },
  {
   "cell_type": "code",
   "execution_count": null,
   "id": "edbc861b",
   "metadata": {},
   "outputs": [],
   "source": [
    "True and False"
   ]
  },
  {
   "cell_type": "code",
   "execution_count": null,
   "id": "b280fb60",
   "metadata": {
    "slideshow": {
     "slide_type": "fragment"
    }
   },
   "outputs": [],
   "source": [
    "True or False"
   ]
  },
  {
   "cell_type": "code",
   "execution_count": null,
   "id": "8429f9c5",
   "metadata": {
    "slideshow": {
     "slide_type": "subslide"
    }
   },
   "outputs": [],
   "source": [
    "not(True)"
   ]
  },
  {
   "cell_type": "code",
   "execution_count": null,
   "id": "0350b134",
   "metadata": {
    "slideshow": {
     "slide_type": "fragment"
    }
   },
   "outputs": [],
   "source": [
    "a,b,c=True,False,True\n",
    "a and b or c and not(b)"
   ]
  },
  {
   "cell_type": "markdown",
   "id": "07a92fd9",
   "metadata": {
    "slideshow": {
     "slide_type": "subslide"
    }
   },
   "source": [
    "Achtung **Operatorenpräzenz**! 'and' wird vor 'or' ausgewertet"
   ]
  },
  {
   "cell_type": "code",
   "execution_count": null,
   "id": "31b613f9",
   "metadata": {},
   "outputs": [],
   "source": [
    "a,b,c=False,True,True\n",
    "a and c or b and c"
   ]
  },
  {
   "cell_type": "code",
   "execution_count": null,
   "id": "6c845e6a",
   "metadata": {
    "slideshow": {
     "slide_type": "fragment"
    }
   },
   "outputs": [],
   "source": [
    "a,b,c=False,True,True\n",
    "a and (c or b) and c"
   ]
  },
  {
   "cell_type": "markdown",
   "id": "df37100c",
   "metadata": {
    "slideshow": {
     "slide_type": "slide"
    }
   },
   "source": [
    "<div class=\"aufgabe\">\n",
    "    <h3>Variablenbelegung</h3>\n",
    "    Weisen Sie den Variablen 'a,b,c' Wahrheitswerte zu, die die Variable 'f' wahr machen.\n",
    "</div>"
   ]
  },
  {
   "cell_type": "code",
   "execution_count": null,
   "id": "bfaa229c",
   "metadata": {},
   "outputs": [],
   "source": [
    "#Ergänzen Sie die Zuweisung hier\n",
    "# YOUR CODE HERE\n",
    "raise NotImplementedError()\n",
    "\n",
    "f= not(a) and (a or b or c) and (a or not(b))\n",
    "print(f)\n",
    "\n",
    "\n",
    "#Dieser Code testet, ob Ihr Code das Richtige tut\n",
    "scipro.Test(\"Variablenbelegung\").equals(\"f\", f, True).report()"
   ]
  },
  {
   "cell_type": "markdown",
   "id": "4c555f55",
   "metadata": {
    "slideshow": {
     "slide_type": "slide"
    }
   },
   "source": [
    "# Input und Output"
   ]
  },
  {
   "cell_type": "markdown",
   "id": "e5eeb934",
   "metadata": {},
   "source": [
    "Wir haben die Funktion 'print()' bereits verwendet, um Test auszugeben."
   ]
  },
  {
   "cell_type": "code",
   "execution_count": null,
   "id": "e73bd4b1",
   "metadata": {},
   "outputs": [],
   "source": [
    "print(\"Kennen wir schon.\")"
   ]
  },
  {
   "cell_type": "code",
   "execution_count": null,
   "id": "ef63a108",
   "metadata": {
    "slideshow": {
     "slide_type": "fragment"
    }
   },
   "outputs": [],
   "source": [
    "print(\"Funktioniert\", \"mit\", \"mehr\", \"als\",1,\"Parameter\")"
   ]
  },
  {
   "cell_type": "markdown",
   "id": "9839e127",
   "metadata": {
    "slideshow": {
     "slide_type": "subslide"
    }
   },
   "source": [
    "Mittels einem sogenannten **Format-String** kann man beeinflussen, wie Zahlen ausgegeben werden."
   ]
  },
  {
   "cell_type": "code",
   "execution_count": null,
   "id": "8982706e",
   "metadata": {},
   "outputs": [],
   "source": [
    "parameter = \"Hallo\"\n",
    "print(f\"Mit dem f am Anfang ist es ein Formatstring: {parameter}\")"
   ]
  },
  {
   "cell_type": "code",
   "execution_count": null,
   "id": "c5d1d07a",
   "metadata": {
    "slideshow": {
     "slide_type": "fragment"
    }
   },
   "outputs": [],
   "source": [
    "drittel = 1.0/3.0\n",
    "print(\"Ausgabe ohne Format:\", drittel)\n",
    "print(f\"Ausgabe mit zwei Nachkommastellen: {drittel:.2}\")"
   ]
  },
  {
   "cell_type": "code",
   "execution_count": null,
   "id": "69f5d0d2",
   "metadata": {
    "slideshow": {
     "slide_type": "fragment"
    }
   },
   "outputs": [],
   "source": [
    "eins,zehn,hundert,tausend=1,10,100,1000\n",
    "print(f\"{eins:4}\")\n",
    "print(f\"{zehn:4}\")\n",
    "print(f\"{hundert:4}\")\n",
    "print(f\"{tausend:4}\")\n"
   ]
  },
  {
   "cell_type": "markdown",
   "id": "577b2f5d",
   "metadata": {
    "slideshow": {
     "slide_type": "subslide"
    }
   },
   "source": [
    "'print()' gibt auch direkt Ergebnisse von Funktionen und Operationen aus, wenn die Datentypen passen."
   ]
  },
  {
   "cell_type": "code",
   "execution_count": null,
   "id": "c426989f",
   "metadata": {},
   "outputs": [],
   "source": [
    "print(\"Ha\" + 2 * \"l\" + \"o\")"
   ]
  },
  {
   "cell_type": "code",
   "execution_count": null,
   "id": "ca08601a",
   "metadata": {
    "slideshow": {
     "slide_type": "fragment"
    }
   },
   "outputs": [],
   "source": [
    "print(len(\"Lineal\"))"
   ]
  },
  {
   "cell_type": "code",
   "execution_count": null,
   "id": "506d2a56",
   "metadata": {
    "slideshow": {
     "slide_type": "fragment"
    }
   },
   "outputs": [],
   "source": [
    "len(print(\"Lineal\"))"
   ]
  },
  {
   "cell_type": "markdown",
   "id": "f41fba92",
   "metadata": {
    "slideshow": {
     "slide_type": "fragment"
    }
   },
   "source": [
    "Mittels 'input()' wird das Programm interaktiv. Der User muss einen Text eingeben, der in einer Variable gespeichert wird."
   ]
  },
  {
   "cell_type": "code",
   "execution_count": null,
   "id": "b616d77a",
   "metadata": {},
   "outputs": [],
   "source": [
    "print(\"Bitte gib deinen Namen ein.\")\n",
    "ein = input()\n",
    "print(f\"Hallo, {ein}!\")"
   ]
  },
  {
   "cell_type": "markdown",
   "id": "fdc03345",
   "metadata": {
    "slideshow": {
     "slide_type": "subslide"
    }
   },
   "source": [
    "Achtung, der Datentyp der Eingabe ist String, auch wenn man nur Zahlen eingibt."
   ]
  },
  {
   "cell_type": "code",
   "execution_count": null,
   "id": "b050a5ba",
   "metadata": {},
   "outputs": [],
   "source": [
    "print(\"Bitte gib eine Zahl ein.\")\n",
    "num = input()\n",
    "doublednum = 2 * num\n",
    "print(num,\"* 2 =\",doublednum)"
   ]
  },
  {
   "cell_type": "markdown",
   "id": "80fbf64b",
   "metadata": {
    "slideshow": {
     "slide_type": "fragment"
    }
   },
   "source": [
    "Mittels **Typumwandlung** kann man Strings aber in einen anderen Datentyp umwandeln."
   ]
  },
  {
   "cell_type": "code",
   "execution_count": null,
   "id": "90e1e652",
   "metadata": {},
   "outputs": [],
   "source": [
    "str_seven = \"7\"\n",
    "print(\"String: \", str_seven + str_seven)\n",
    "int_seven = int(str_seven)\n",
    "print(\"Integer:\", int_seven + int_seven)\n",
    "float_seven = float(str_seven)\n",
    "print(\"Float:  \", float_seven + float_seven)"
   ]
  },
  {
   "cell_type": "markdown",
   "id": "42a1fc7b",
   "metadata": {
    "slideshow": {
     "slide_type": "slide"
    }
   },
   "source": [
    "<div class=\"aufgabe\">\n",
    "    <h3>Integer-Eingabe</h3>\n",
    "    Korrigieren Sie das Programm von oben so, dass es die  vom User eingegebene Zahl verdoppelt.\n",
    "</div>"
   ]
  },
  {
   "cell_type": "code",
   "execution_count": null,
   "id": "0c9f298f",
   "metadata": {},
   "outputs": [],
   "source": [
    "#Korrigieren Sie das Originalprogramm\n",
    "print(\"Bitte gib eine Zahl ein.\")\n",
    "num = input()\n",
    "doublednum = 2 * num\n",
    "print(num,\"* 2 =\",doublednum)"
   ]
  },
  {
   "cell_type": "markdown",
   "id": "b042f4c9",
   "metadata": {},
   "source": [
    "Was passiert, wenn Sie in Ihr Programm einen Wert eingeben, der keine Zahl ist? Warum funktioniert es nicht?"
   ]
  },
  {
   "cell_type": "markdown",
   "id": "dd6298b6",
   "metadata": {
    "slideshow": {
     "slide_type": "slide"
    }
   },
   "source": [
    "# Module"
   ]
  },
  {
   "cell_type": "markdown",
   "id": "8d8bec6f",
   "metadata": {},
   "source": [
    "Module sind Dateien, die Python-Code enthalten.\n",
    "Mittels Modulen können Funktionen etc., die man öfter braucht, wiederverwendet werden. Man spricht auch von Softwarebibliotheken.\n",
    "Für Python gibt es zahlreiche mitgelieferte bzw. von Drittanbietern bereitgestelle Module."
   ]
  },
  {
   "cell_type": "markdown",
   "id": "055a1882",
   "metadata": {
    "slideshow": {
     "slide_type": "fragment"
    }
   },
   "source": [
    "Vor der Verwendung muss ein Modul importiert werden. Auf die Elemente des Moduls wird mittels des Modulnamens zugegriffen."
   ]
  },
  {
   "cell_type": "code",
   "execution_count": null,
   "id": "711cfb28",
   "metadata": {
    "slideshow": {
     "slide_type": "-"
    }
   },
   "outputs": [],
   "source": [
    "import math\n",
    "math.sqrt(16)"
   ]
  },
  {
   "cell_type": "markdown",
   "id": "c5490011",
   "metadata": {
    "slideshow": {
     "slide_type": "subslide"
    }
   },
   "source": [
    "Das Modul 'math' bietet weitere mathematische Funktionen und Konstanten, z.B.\n",
    "* Quadratwurzel ('math.sqrt()'\n",
    "* $e^{x}$ ('math.exp(x)')\n",
    "* Natürlicher Logarithmus ('math.log(x)')\n",
    "* Logarithmus zur Basis 2 ('math.log2(x)')\n",
    "* Logarithmus zur Basis 10 ('math.log10(x)')\n",
    "* Kreiszahl π ('math.pi')\n",
    "* Eulersche Zahl $e$ ('math.e')\n",
    "* Sinus, Cosinus, Tangens ('math.sin()', 'math.cos()', 'math.tan()')"
   ]
  },
  {
   "cell_type": "code",
   "execution_count": null,
   "id": "90e1aaba-75dd-4075-82e8-2aac43db2fc4",
   "metadata": {
    "slideshow": {
     "slide_type": "subslide"
    }
   },
   "outputs": [],
   "source": [
    "import math\n",
    "math.pi"
   ]
  },
  {
   "cell_type": "code",
   "execution_count": null,
   "id": "2782340c-b332-49c4-957c-f6c3add46f89",
   "metadata": {
    "slideshow": {
     "slide_type": "fragment"
    }
   },
   "outputs": [],
   "source": [
    "math.sin(math.pi/2.0)"
   ]
  },
  {
   "cell_type": "code",
   "execution_count": null,
   "id": "b5e52cd9-65ad-430c-9ae5-ef9cb7144df7",
   "metadata": {
    "slideshow": {
     "slide_type": "fragment"
    }
   },
   "outputs": [],
   "source": [
    "math.log10(100000)"
   ]
  },
  {
   "cell_type": "markdown",
   "id": "3a618fd5-883c-4575-a0f9-6247f9ccd19e",
   "metadata": {
    "slideshow": {
     "slide_type": "fragment"
    }
   },
   "source": [
    "Das Modul math enthält einige Funktionen, die wir zu Übungszwecken selbst entwickeln wollen.\n",
    "In der Praxis erfindet man das Rad natürlich nicht neu."
   ]
  },
  {
   "cell_type": "markdown",
   "id": "9a354bc1-f6ba-4e5f-b1f3-2449484e9202",
   "metadata": {
    "slideshow": {
     "slide_type": "subslide"
    }
   },
   "source": [
    "<div class=\"aufgabe\">\n",
    "    <h3>Kreisumfang</h3>\n",
    "    Berechnen Sie den Kreisumfang 'u' und die Kreisfläche 'a' abhängig vom Radius 'r'.\n",
    "</div>"
   ]
  },
  {
   "cell_type": "code",
   "execution_count": null,
   "id": "8e88fae4-2a45-4928-9a3f-cd6e1aa67961",
   "metadata": {},
   "outputs": [],
   "source": [
    "import math\n",
    "print(\"Bitte gib den Radius ein.\")\n",
    "r = float(input())\n",
    "#Ergänzen Sie die Berechnung für u\n",
    "# YOUR CODE HERE\n",
    "raise NotImplementedError()"
   ]
  },
  {
   "cell_type": "markdown",
   "id": "7b105667-56d1-41ab-98d4-053f790973bc",
   "metadata": {
    "slideshow": {
     "slide_type": "slide"
    }
   },
   "source": [
    "# Kontrollfluss"
   ]
  },
  {
   "cell_type": "markdown",
   "id": "7ba7bf79-e023-4bc9-90c9-b91cb0bfcb16",
   "metadata": {
    "slideshow": {
     "slide_type": "slide"
    }
   },
   "source": [
    "# if"
   ]
  },
  {
   "cell_type": "markdown",
   "id": "57682caa-08e0-40a9-8eed-1de37655ecda",
   "metadata": {},
   "source": [
    "Die if-Anweisung ermöglicht eine **Verzweigung** im Code abhängig von einer booleschen Bedingung."
   ]
  },
  {
   "cell_type": "markdown",
   "id": "e0a625e8-5020-44fa-b108-b0dc775a48c4",
   "metadata": {
    "slideshow": {
     "slide_type": "subslide"
    }
   },
   "source": [
    "![title](./images/ifelse.png)"
   ]
  },
  {
   "cell_type": "markdown",
   "id": "8dca75ff-e232-4f94-9367-432f9001bb13",
   "metadata": {},
   "source": [
    "Das Bild zeigt den gewünschten Programmablauf. Der User gibt eine Zahl ein, um die Wurzel zu berechnen.\n",
    "Das geht aber nur, wenn die Zahl nicht negativ ist. Wird eine negative Zahl eingegeben, soll stattdessen eine Fehlermeldung ausgegeben werden."
   ]
  },
  {
   "cell_type": "code",
   "execution_count": null,
   "id": "ac5a390c-4404-43e4-86da-09dd407b6f8d",
   "metadata": {
    "slideshow": {
     "slide_type": "subslide"
    }
   },
   "outputs": [],
   "source": [
    "import math\n",
    "print(\"Bitte gib eine Zahl ein.\")\n",
    "num = float(input())\n",
    "if num >= 0:\n",
    "    wurzel = math.sqrt(num)\n",
    "    print(f\"Die Wurzel von {num} ist {wurzel:.3}\")\n",
    "else:\n",
    "    print(\"Die Wurzel aus negativen Zahlen kann nicht berechnet werden.\")\n"
   ]
  },
  {
   "cell_type": "markdown",
   "id": "f0cb36de-d5bd-4a70-b1ed-69ef0e6eacad",
   "metadata": {
    "slideshow": {
     "slide_type": "subslide"
    }
   },
   "source": [
    "Im Gegensatz zu anderen Programmiersprachen benutzt Python **Einrückungen**, um Code zu strukturieren.\n",
    "\n",
    "Einrückungen können mit ´tab´ hinzugefügt und ´Umschalt+tab´ entfernt werden."
   ]
  },
  {
   "cell_type": "code",
   "execution_count": null,
   "id": "aa4e5ac9-75a7-4ba7-a2d8-cb5d3a1bfd39",
   "metadata": {},
   "outputs": [],
   "source": [
    "if 3>5:\n",
    "    print(\"if-Zweig wird nie ausgegeben, denn 3<5.\")\n",
    "else:\n",
    "    print(\"else-Zweig Wird ausgegeben, denn 3<5.\")\n",
    "print(\"Wird immer ausgegeben, gehört nicht mehr zur Verzweigung.\")\n",
    "    \n",
    "\n",
    "\n"
   ]
  },
  {
   "cell_type": "code",
   "execution_count": null,
   "id": "e6e899c8-4473-47fb-b31c-cfb1c243bb2a",
   "metadata": {
    "slideshow": {
     "slide_type": "fragment"
    }
   },
   "outputs": [],
   "source": [
    "if 4>2:\n",
    "print(\"Falsche Einrückungen sorgen für Fehler\")"
   ]
  },
  {
   "cell_type": "markdown",
   "id": "b9ad6a7b-f1e9-4e3a-94d2-883d0c9e8e5c",
   "metadata": {
    "slideshow": {
     "slide_type": "subslide"
    }
   },
   "source": [
    "Mehr als zwei Verzweigungen sind mittels else-if ('elif') möglich. Python prüft die Bedingungen der Reihe nach von oben nach unten."
   ]
  },
  {
   "cell_type": "code",
   "execution_count": null,
   "id": "cff56a3e-c80b-44c7-8148-92cf6d73f40f",
   "metadata": {},
   "outputs": [],
   "source": [
    "print(\"Bitte gib dein Alter ein.\")\n",
    "age = int(input())\n",
    "if age>=67:\n",
    "    print(\"Senior-Senior-Student.\")\n",
    "elif age>=35:\n",
    "    print(\"Senior-Student oder Dozent?\")\n",
    "elif age>=20:\n",
    "    print(\"Student.\")\n",
    "elif age>=18:\n",
    "    print(\"Erstie!\")\n",
    "else:\n",
    "    print(\"Ist heute Schülerinfotag?\")"
   ]
  },
  {
   "cell_type": "markdown",
   "id": "58ff1255-a4f3-487e-ac43-35bdc663cad3",
   "metadata": {
    "slideshow": {
     "slide_type": "slide"
    }
   },
   "source": [
    "<div class=\"satz\">\n",
    "    <h3>Binomische Formeln</h3>\n",
    "    Die binomischen Formeln helfen beim Ausmultiplizieren von Klammern:<br>\n",
    "1. binomische Formel: $(a+b)^2 = a^2 + 2ab + b^2$<br>\n",
    "2. binomische Formel: $(a-b)^2 = a^2 - 2ab + b^2$<br>\n",
    "3. binomische Formel: $(a+b)(a-b) = a^2 - b^2$<br>\n",
    "</div>\n",
    "\n",
    "\n"
   ]
  },
  {
   "cell_type": "markdown",
   "id": "f0be1156-ea7b-46d4-9115-4c47b36c7d67",
   "metadata": {
    "slideshow": {
     "slide_type": "subslide"
    }
   },
   "source": [
    "<div class=\"aufgabe\">\n",
    "    <h3>Binomische Formeln</h3>\n",
    "    Fragen Sie den User nach den Variablen 'a' und 'b', sowie welche der binomischen Formeln (1,2,3) verwendet werden soll.<br>\n",
    "    Zeigen Sie abhängig von der Eingabe die binomische Formel sowie das Ergebnis an.\n",
    "</div>"
   ]
  },
  {
   "cell_type": "code",
   "execution_count": null,
   "id": "3a02b9d2-a6e6-4ed6-8794-d5fc3018c592",
   "metadata": {},
   "outputs": [],
   "source": [
    "#Schreiben Sie Ihr Programm hier\n",
    "\n",
    "# YOUR CODE HERE\n",
    "raise NotImplementedError()\n",
    "\n",
    "#Beispielausgabe: (3.0 + 4.0)² = 3.0² + 2.0*3.0*4.0 + 4.0² = 49.0"
   ]
  },
  {
   "cell_type": "markdown",
   "id": "a1a0a9e0-29bc-4717-9b65-fedb81d4cbb9",
   "metadata": {
    "slideshow": {
     "slide_type": "slide"
    }
   },
   "source": [
    "# for"
   ]
  },
  {
   "cell_type": "markdown",
   "id": "4b91b18a-c539-4d72-9975-98de577dbb33",
   "metadata": {},
   "source": [
    "Die **for-Schleife** erlaubt es, Code zu wiederholen. Eine **Schleifenvariable** zählt dabei die Durchläufe."
   ]
  },
  {
   "cell_type": "code",
   "execution_count": null,
   "id": "1d717ba3-e771-4ab5-bfe7-24be21dfe773",
   "metadata": {
    "slideshow": {
     "slide_type": "fragment"
    }
   },
   "outputs": [],
   "source": [
    "for x in range(10):\n",
    "  print(f\"Schleifendurchlauf Nr.{x}\")"
   ]
  },
  {
   "cell_type": "markdown",
   "id": "9ced4dac-12ae-4bd6-89ec-2339e54be55e",
   "metadata": {
    "slideshow": {
     "slide_type": "fragment"
    }
   },
   "source": [
    "Mittels 'range(min,max)' kann der **Wertebereich** angegeben werden. Dabei ist min inklusiv (also mit dabei) und max exklusiv (also nicht dabei)."
   ]
  },
  {
   "cell_type": "code",
   "execution_count": null,
   "id": "01a83057-76e4-4423-89a4-3d2a52fae72a",
   "metadata": {},
   "outputs": [],
   "source": [
    "for x in range(3,7):\n",
    "  print(f\"x={x}\")"
   ]
  },
  {
   "cell_type": "markdown",
   "id": "c1c6608b-484e-48b8-96f6-97e1793894b7",
   "metadata": {
    "slideshow": {
     "slide_type": "subslide"
    }
   },
   "source": [
    "Es kann auch als dritter Parameter eine **Schrittweite** angegeben werden."
   ]
  },
  {
   "cell_type": "code",
   "execution_count": null,
   "id": "7c28d407-0763-4a1b-b280-ca75113b01a5",
   "metadata": {},
   "outputs": [],
   "source": [
    "for x in range(1,10,2):\n",
    "  print(f\"x={x}\")"
   ]
  },
  {
   "cell_type": "markdown",
   "id": "ee9c181a-ebf3-4fc1-822b-0252fa48e051",
   "metadata": {
    "slideshow": {
     "slide_type": "fragment"
    }
   },
   "source": [
    "Mit negativer Schrittweite ist auch ein **Countdown** möglich."
   ]
  },
  {
   "cell_type": "code",
   "execution_count": null,
   "id": "34e9b3e9-730f-436c-aac0-1b24e1c121c1",
   "metadata": {},
   "outputs": [],
   "source": [
    "for x in range(10,0,-1):\n",
    "  print(f\"Schleifendurchlauf Nr.{x}\")"
   ]
  },
  {
   "cell_type": "markdown",
   "id": "902e6e9f-4936-4111-8c14-f21f3b8af986",
   "metadata": {
    "slideshow": {
     "slide_type": "slide"
    }
   },
   "source": [
    "<div class=\"aufgabe\">\n",
    "    <h3>Das Ein-Mal-Eins</h3>\n",
    "    In der Grundschule lernt man das Multiplizieren mit Tabellen.<br>\n",
    "    Geben Sie abhängig vom Eingabewert 'n' mithilfe einer for-Schleife eine solche Tabelle aus. \n",
    "</div>"
   ]
  },
  {
   "cell_type": "code",
   "execution_count": null,
   "id": "09d56e4c-b063-423e-84ad-861135eea5b5",
   "metadata": {},
   "outputs": [],
   "source": [
    "#Schreiben Sie Ihr Programm hier\n",
    "\n",
    "# YOUR CODE HERE\n",
    "raise NotImplementedError()\n",
    "    \n",
    "#Beispielausgabe:\n",
    "# 1*7=7\n",
    "# 2*7=14\n",
    "# 3*7=21\n",
    "# 4*7=28\n",
    "# 5*7=35\n",
    "# 6*7=42\n",
    "# 7*7=49\n",
    "# 8*7=56\n",
    "# 9*7=63\n",
    "#10*7=70"
   ]
  },
  {
   "cell_type": "markdown",
   "id": "96ffb2ed-583e-4e9a-88cd-5798f638f531",
   "metadata": {
    "slideshow": {
     "slide_type": "subslide"
    }
   },
   "source": [
    "Schleifen lassen sich auch ineinander **verschachteln**."
   ]
  },
  {
   "cell_type": "code",
   "execution_count": null,
   "id": "88c5563a-19ed-4d9e-8ecf-ab164509f311",
   "metadata": {},
   "outputs": [],
   "source": [
    "for x in range(1,4):\n",
    "    for y in range(1,4):\n",
    "        print(f\"{x}/{y}\")"
   ]
  },
  {
   "cell_type": "markdown",
   "id": "4bbcf041-84d6-4e8d-9433-ccbc9289e150",
   "metadata": {
    "slideshow": {
     "slide_type": "fragment"
    }
   },
   "source": [
    "Die Parameter der Schleife können auch mit Variablen spezifiziert werden."
   ]
  },
  {
   "cell_type": "code",
   "execution_count": null,
   "id": "8e3c9e03-41b3-47b0-a5e2-185c24305793",
   "metadata": {},
   "outputs": [],
   "source": [
    "min = 1\n",
    "max = min + 4\n",
    "summe = 0\n",
    "for x in range(min,max):\n",
    "      summe = summe + x\n",
    "print(f\"Die Summe der Zahlen von {min}...{max -1} ist {summe}\")"
   ]
  },
  {
   "cell_type": "markdown",
   "id": "cdfeb6ce-69f5-43f9-bddb-475f13fa7958",
   "metadata": {
    "slideshow": {
     "slide_type": "subslide"
    }
   },
   "source": [
    "Mittels 'continue' kann ein Schleifendurchlauf übersprungen werden."
   ]
  },
  {
   "cell_type": "code",
   "execution_count": null,
   "id": "9dda4064-d980-4e81-a8fd-6354c85e7133",
   "metadata": {},
   "outputs": [],
   "source": [
    "for x in range(1,5):\n",
    "    if x==3:\n",
    "        continue\n",
    "    print(f\"x={x}\")"
   ]
  },
  {
   "cell_type": "markdown",
   "id": "1ee750c8-5fdb-4905-b47f-ee010c64e5b8",
   "metadata": {
    "slideshow": {
     "slide_type": "subslide"
    }
   },
   "source": [
    "<div class=\"definition\">\n",
    "    <h3>Fakultät</h3>\n",
    "    Die Fakultät einer Zahl $n$ ist das Produkt aller natürlichen Zahlen von $1..n$.<br>\n",
    "$$\n",
    "        n!=\\prod_{i=1}^{n}i=1\\cdot 2 \\cdot 3 \\cdot \\cdot \\cdot n\n",
    "$$\n",
    "</div>\n"
   ]
  },
  {
   "cell_type": "markdown",
   "id": "1591d768-6fe0-40aa-b867-72f0670d7c72",
   "metadata": {},
   "source": [
    "<div class=\"aufgabe\">\n",
    "    <h3>Fakultät</h3>\n",
    "    Fragen Sie den User nach der Variable 'n' und berechnen Sie die Fakultät.<br>\n",
    "    Verwenden Sie NICHT das math-Modul.\n",
    "</div>"
   ]
  },
  {
   "cell_type": "code",
   "execution_count": null,
   "id": "7f0fe71e-f498-4168-a463-a9046748b010",
   "metadata": {},
   "outputs": [],
   "source": [
    "#Schreiben Sie Ihr Programm hier\n",
    "\n",
    "# YOUR CODE HERE\n",
    "raise NotImplementedError()\n",
    "\n",
    "#Beispielausgabe: 5!=120"
   ]
  },
  {
   "cell_type": "markdown",
   "id": "c32e2d20-b8c6-4c87-af3b-28901598c5df",
   "metadata": {
    "slideshow": {
     "slide_type": "slide"
    }
   },
   "source": [
    "## while"
   ]
  },
  {
   "cell_type": "markdown",
   "id": "3e64a05c-0a5f-4966-ad97-2baf646bfbef",
   "metadata": {},
   "source": [
    "Mittels der while-Schleife lässt sich Code wiederholen, so lange eine boolesche **Bedingung wahr** ist."
   ]
  },
  {
   "cell_type": "code",
   "execution_count": null,
   "id": "0846cc88-b81d-4241-b5f6-37879474bd08",
   "metadata": {},
   "outputs": [],
   "source": [
    "song = \"\"\n",
    "while len(song) < 10:\n",
    "    song = song + \"La\"\n",
    "print(song)"
   ]
  },
  {
   "cell_type": "markdown",
   "id": "5a38eea8-12ee-4178-af63-6a1fdf48a246",
   "metadata": {
    "slideshow": {
     "slide_type": "fragment"
    }
   },
   "source": [
    "Achtung, die while-Schleife läuft potenziell endlos. Bei einer solchen **Endlosschleife** läuft das Programm für immer weiter.\n",
    "In Jupyter muss dann der Kernel neu gestartet werden (Menüpunkt Kernel)."
   ]
  },
  {
   "cell_type": "code",
   "execution_count": null,
   "id": "04d72b2c-c42a-4337-b749-29405711f055",
   "metadata": {},
   "outputs": [],
   "source": [
    "while 1+1==2:\n",
    "    print(\"Achtung, Endlosschleife!\")"
   ]
  },
  {
   "cell_type": "markdown",
   "id": "beada81c-2590-4a1a-9e3c-01166c2c6f7a",
   "metadata": {
    "slideshow": {
     "slide_type": "subslide"
    }
   },
   "source": [
    "Mittels 'break' kann eine Schleife manuell abgebrochen werden."
   ]
  },
  {
   "cell_type": "code",
   "execution_count": null,
   "id": "ccfe020d-3140-4b68-a351-8b2ea81e5ff3",
   "metadata": {},
   "outputs": [],
   "source": [
    "sum = 0.0\n",
    "print(\"Zahlen aufsummieren. 'fertig' eingeben zum Abbrechen.\")\n",
    "while True:\n",
    "    f = input()\n",
    "    if f == \"fertig\":\n",
    "        break\n",
    "    sum = sum + float(f)\n",
    "print(f\"Summe={sum}\")"
   ]
  },
  {
   "cell_type": "markdown",
   "id": "1135e720-e5e7-4bf2-bfe7-a2b1e89abf4e",
   "metadata": {
    "slideshow": {
     "slide_type": "subslide"
    }
   },
   "source": [
    "<div class=\"definition\">\n",
    "    <h3>Modulo</h3>\n",
    "    Der Modulo-Operator $\\%$ berechnet den Rest einer ganzzahligen Divison. Hat $a // b$ den Rest $m$, so ist dies der Modulo. <br>\n",
    "$$\n",
    "    a \\% b = a - \\lfloor{}(\\frac{a}{b})\\rfloor{}\\cdot b\n",
    "$$\n",
    "    Der Modulo nimmt immer einen Wert von $0$ bis $b-1$ an.\n",
    "</div>"
   ]
  },
  {
   "cell_type": "markdown",
   "id": "7f1d4d9f-541c-4dbd-841c-2503dc9e2a06",
   "metadata": {
    "slideshow": {
     "slide_type": "fragment"
    }
   },
   "source": [
    "Den Modulo könnte man mit eine while-Schleife berechnen."
   ]
  },
  {
   "cell_type": "code",
   "execution_count": null,
   "id": "2108f5b4-4943-4dd4-bff5-4a31ea984f56",
   "metadata": {},
   "outputs": [],
   "source": [
    "a = 17\n",
    "b = 3\n",
    "rest = a\n",
    "while rest > b:\n",
    "    rest = rest - b\n",
    "print(f\"{a}%{b}={rest}\")"
   ]
  },
  {
   "cell_type": "markdown",
   "id": "616af8ff-8292-4b3f-bb03-883f9647a970",
   "metadata": {
    "slideshow": {
     "slide_type": "subslide"
    }
   },
   "source": [
    "In Python ist der der Modulo-Operator aber bereits eingebeut:"
   ]
  },
  {
   "cell_type": "code",
   "execution_count": null,
   "id": "001de3bf-b7db-4a84-9d35-5e09e72eb82f",
   "metadata": {},
   "outputs": [],
   "source": [
    "17 % 3\n"
   ]
  },
  {
   "cell_type": "markdown",
   "id": "b1298fa5-4a6e-48e2-a7c0-78e98677bd78",
   "metadata": {
    "slideshow": {
     "slide_type": "fragment"
    }
   },
   "source": [
    "Ist eine Zahl ohne Rest teilbar, so beträgt der Modulo 0"
   ]
  },
  {
   "cell_type": "code",
   "execution_count": null,
   "id": "6004accd-7585-4026-844c-55b3e1dae1a9",
   "metadata": {},
   "outputs": [],
   "source": [
    "9 % 3"
   ]
  },
  {
   "cell_type": "markdown",
   "id": "0aadd08e-4def-49eb-b7f6-1ca6aee5b9bb",
   "metadata": {
    "slideshow": {
     "slide_type": "slide"
    }
   },
   "source": [
    "<div class=\"definition\">\n",
    "    <h3>Primzahl</h3>\n",
    "    Eine Primzahl $p \\in \\mathbb{N}$ ist eine natürliche Zahl, die genau zwei Teiler hat, also nur durch $1$ und sich selbst teilbar ist.<br>\n",
    "    Die ersten zehn Primzahlen sind $2,3,5,7,11,13,17,19,23,29$.\n",
    "</div>"
   ]
  },
  {
   "cell_type": "markdown",
   "id": "64f43a98-7ef0-401c-a876-3d406b7e4084",
   "metadata": {
    "slideshow": {
     "slide_type": "subslide"
    }
   },
   "source": [
    "<div class=\"aufgabe\">\n",
    "    <h3>Primzahltest</h3>\n",
    "    Fragen Sie den User nach der Variable 'p' und prüfen Sie, ob die eingegebene Zahl eine Primzahl ist.<br>\n",
    "    Verwenden Sie eine Schleife und den Modulo-Operator.<br>\n",
    "    Falls 'p' keine Primzahl ist, geben Sie einen Teiler an (außer 1 oder p).<br>\n",
    "</div>"
   ]
  },
  {
   "cell_type": "code",
   "execution_count": null,
   "id": "86f56986-8cb8-4b09-b32c-d820472d13b1",
   "metadata": {},
   "outputs": [],
   "source": [
    "#Schreiben Sie Ihr Programm hier\n",
    "\n",
    "# YOUR CODE HERE\n",
    "raise NotImplementedError()\n",
    "    \n",
    "#Beispielausgabe: 593 ist eine Primzahl.\n",
    "#Beispielausgabe: 1591 ist keine Primzahl, denn 37 ist ein Teiler."
   ]
  },
  {
   "cell_type": "markdown",
   "id": "0f6f51e3-7eb0-4c99-baa9-2ca20222e496",
   "metadata": {
    "slideshow": {
     "slide_type": "slide"
    }
   },
   "source": [
    "# Listen"
   ]
  },
  {
   "cell_type": "markdown",
   "id": "297ec338-4590-4293-9a31-c7f506a12e92",
   "metadata": {},
   "source": [
    "Eine Liste ist eine geordnete Sammlung mehrerer Elemente."
   ]
  },
  {
   "cell_type": "code",
   "execution_count": null,
   "id": "13794cb7-361c-4fcf-a510-a19790a7f60f",
   "metadata": {},
   "outputs": [],
   "source": [
    "list = [1,2,3,4,5]\n",
    "print(list)\n",
    "       "
   ]
  },
  {
   "cell_type": "markdown",
   "id": "267a42b6-a44a-4b1d-b8bf-3586f51dcbf0",
   "metadata": {
    "slideshow": {
     "slide_type": "fragment"
    }
   },
   "source": [
    "Mit einer for-Schleife lässt sich durch die Elemente einer Liste iterieren.\n",
    "Dabei werden die Elemente in der Reihenfolge, in der sie in der Liste stehen, verarbeitet."
   ]
  },
  {
   "cell_type": "code",
   "execution_count": null,
   "id": "af7a131a-9ab1-40b3-92c0-09d378be0903",
   "metadata": {},
   "outputs": [],
   "source": [
    "beatles = [\"Ringo\", \"George\", \"John\", \"Paul\"]\n",
    "for singer in beatles:\n",
    "    print(f\"Ein Bandmitglied ist: {singer}\")"
   ]
  },
  {
   "cell_type": "markdown",
   "id": "dae57239-eb19-46df-89ba-7e54232e2b33",
   "metadata": {
    "slideshow": {
     "slide_type": "subslide"
    }
   },
   "source": [
    "Mittels 'append' kann man etwas am Ende einer Liste **hinzufügen**."
   ]
  },
  {
   "cell_type": "code",
   "execution_count": null,
   "id": "26a05b1a-f07c-4388-ae5b-965b71084797",
   "metadata": {},
   "outputs": [],
   "source": [
    "list = []\n",
    "for i in range(1,10):\n",
    "    list.append(i)\n",
    "print(list)"
   ]
  },
  {
   "cell_type": "markdown",
   "id": "ae1338ad-9a8a-49db-a22f-35c898d6fcd0",
   "metadata": {
    "slideshow": {
     "slide_type": "fragment"
    }
   },
   "source": [
    "Mittels remove wird ein Element aus einer Liste **entfernt**."
   ]
  },
  {
   "cell_type": "code",
   "execution_count": null,
   "id": "25662552-05cc-4fb5-b4fd-ed3ada7eaff6",
   "metadata": {},
   "outputs": [],
   "source": [
    "list = [1,2,3,4,5]\n",
    "list.remove(2)\n",
    "list.remove(4)\n",
    "print(list)"
   ]
  },
  {
   "cell_type": "markdown",
   "id": "92408bcf-7f4b-4965-8cdb-93a4aa82ff66",
   "metadata": {
    "slideshow": {
     "slide_type": "subslide"
    }
   },
   "source": [
    "Ist ein Element mehrfach vorhanden, wird **nur das erste** Vorkommen entfernt."
   ]
  },
  {
   "cell_type": "code",
   "execution_count": null,
   "id": "d8dc62a4-b16d-432a-9e4f-ec3ac45f13cf",
   "metadata": {},
   "outputs": [],
   "source": [
    "list = [\"Pünktchen\", \"Anton\", \"Lottchen\", \"Emil\", \"Lottchen\"]\n",
    "list.remove(\"Lottchen\")\n",
    "print(list)"
   ]
  },
  {
   "cell_type": "markdown",
   "id": "7d42da51-515b-4bd2-b0f3-47315c391046",
   "metadata": {
    "slideshow": {
     "slide_type": "fragment"
    }
   },
   "source": [
    "Ist ein Element **nicht vorhanden**, gibt es einen **Fehler**."
   ]
  },
  {
   "cell_type": "code",
   "execution_count": null,
   "id": "7de4506b-7ffe-4dde-9517-9205afb7ee9d",
   "metadata": {},
   "outputs": [],
   "source": [
    "list = [\"Alpha\", \"Beta\", \"Gamma\"]\n",
    "list.remove(\"Delta\")"
   ]
  },
  {
   "cell_type": "markdown",
   "id": "5a0adf2e-6e67-42d8-af67-a2b35981ac0c",
   "metadata": {
    "slideshow": {
     "slide_type": "subslide"
    }
   },
   "source": [
    "Man kann allerdings vorher prüfen, ob ein Element in einer Liste **enthalten** ist."
   ]
  },
  {
   "cell_type": "code",
   "execution_count": null,
   "id": "35af6e70-9c5e-4131-ba05-f559fc921eb9",
   "metadata": {},
   "outputs": [],
   "source": [
    "list = [\"Alpha\", \"Beta\", \"Gamma\"]\n",
    "if \"Beta\" in list:\n",
    "    list.remove(\"Beta\")\n",
    "if \"Delta\" in list:\n",
    "    list.remove(\"Delta\")\n",
    "print(list)"
   ]
  },
  {
   "cell_type": "markdown",
   "id": "28a87384-136a-42eb-89ba-690cb8be84d4",
   "metadata": {
    "slideshow": {
     "slide_type": "fragment"
    }
   },
   "source": [
    "Auf die Elemente einer Liste kann mittels der **Index-Nummer** zugegriffen werden. Achtung: der Index startet bei **0**."
   ]
  },
  {
   "cell_type": "code",
   "execution_count": null,
   "id": "9c713791-d2c2-4922-800d-35e527ff4e3b",
   "metadata": {},
   "outputs": [],
   "source": [
    "list = [\"Prima\", \"Secunda\", \"Tertia\"]\n",
    "print(list[0])\n",
    "print(list[1])\n",
    "print(list[2])"
   ]
  },
  {
   "cell_type": "markdown",
   "id": "1252f48e-10b6-44a7-aa8b-cbdddfb63da7",
   "metadata": {
    "slideshow": {
     "slide_type": "subslide"
    }
   },
   "source": [
    "**Vorsicht** ist geboten, wenn man die for-Schleife mit remove kombiniert.\n",
    "Python geht die Liste anhand der Index-Nummer durch, wenn man zwischendrin etwas löscht, *verrutschen* die restlichen Werte, sodass man evtl. ungewollt Einträge überspringt."
   ]
  },
  {
   "cell_type": "code",
   "execution_count": null,
   "id": "04a41333-b265-4781-8a49-1150fe153b4f",
   "metadata": {},
   "outputs": [],
   "source": [
    "nlist = [1,2,4,4,5,6,7,8,9,10]\n",
    "i = 0\n",
    "for number in nlist:\n",
    "    print(f\"Bei Element {number:2} an index {i} in {nlist}\")\n",
    "    if number%2==0:\n",
    "        nlist.remove(number)\n",
    "    i = i + 1"
   ]
  },
  {
   "cell_type": "markdown",
   "id": "d0af533f-9094-44d8-b63b-5e5da9d4a084",
   "metadata": {
    "slideshow": {
     "slide_type": "subslide"
    }
   },
   "source": [
    "Mittels count kann man das Vorkommen von Elementen in einer Liste **zählen**. len gibt die **Länge** der Liste zurück."
   ]
  },
  {
   "cell_type": "code",
   "execution_count": null,
   "id": "9ebd4dca-53b7-4d0a-90d5-c957ddb31fd4",
   "metadata": {},
   "outputs": [],
   "source": [
    "equations = [1+1==2, 7*7==49, 7*8==42, 10/2==5]\n",
    "print(f\"{equations.count(True)} von {len(equations)} Gleichungen sind korrekt\")"
   ]
  },
  {
   "cell_type": "markdown",
   "id": "b476ad4d-63bc-42e2-a75a-2aff998b92b5",
   "metadata": {
    "slideshow": {
     "slide_type": "fragment"
    }
   },
   "source": [
    "Anstatt explizit die Elemente einer Liste anzugeben, kann man diese auch auf andere Weisen deklarieren."
   ]
  },
  {
   "cell_type": "code",
   "execution_count": null,
   "id": "651b0de3-14ff-4c17-b0c4-a697b6d42460",
   "metadata": {},
   "outputs": [],
   "source": [
    "list = [i for i in range(1,10)]\n",
    "print(list)"
   ]
  },
  {
   "cell_type": "code",
   "execution_count": null,
   "id": "007c5d0d-dad2-4a52-9b80-cc55a4d0589a",
   "metadata": {
    "slideshow": {
     "slide_type": "fragment"
    }
   },
   "outputs": [],
   "source": [
    "list = [False] * 5\n",
    "print(list)"
   ]
  },
  {
   "cell_type": "markdown",
   "id": "eb2f9b67-d80d-4cfe-af66-412a575e6a2b",
   "metadata": {
    "slideshow": {
     "slide_type": "slide"
    }
   },
   "source": [
    "<div class=\"aufgabe\">\n",
    "    <h3>Zweierpotenzen</h3>\n",
    "    Legen Sie in der Variable 'list' eine Liste der Zweierpotenzen bis $2^{10}$ an, ohne die Elemente explizit anzugeben.<br>\n",
    "$$\n",
    "        2^{0}, 2^{1}, 2^{2}, ..., 2^{10}\n",
    "$$\n",
    "    Berechnen Sie dann die Summe aller Listenelemente in der Variable 'sum'.<br>\n",
    "</div>"
   ]
  },
  {
   "cell_type": "code",
   "execution_count": null,
   "id": "8c59cff0-a0de-4a73-b3b3-6f0cf85738be",
   "metadata": {},
   "outputs": [],
   "source": [
    "#Schreiben Sie Ihren Code hier\n",
    "\n",
    "# YOUR CODE HERE\n",
    "raise NotImplementedError()\n",
    "\n",
    "#Dieser Code testet, ob Ihr Code das Richtige tut\n",
    "scipro.Test(\"Zweierpotenzen\").equals(\"list\", list, [1, 2, 4, 8, 16, 32, 64, 128, 256, 512, 1024]).equals(\"sum\", sum, 2047).report()"
   ]
  },
  {
   "cell_type": "markdown",
   "id": "30ee2316-1b3a-40b6-af50-452ae0676496",
   "metadata": {
    "slideshow": {
     "slide_type": "slide"
    }
   },
   "source": [
    "# Das Sieb des Erathostenes"
   ]
  },
  {
   "cell_type": "markdown",
   "id": "c4c8c5bf-c158-4a81-b274-3019ff5c67f7",
   "metadata": {
    "slideshow": {
     "slide_type": "subslide"
    }
   },
   "source": [
    "Das Sieb des Erathostenes ist ein Verfahren, um alle Primzahlen bis zu einem vorgegebenen Maximum $max$ zu finden.\n",
    "Dabei wird wie folgt vorgegangen:\n",
    "* Lege eine Tabelle aller natürlichen Zahlen bis $max$ an\n",
    "* Streiche die $1$ durch\n",
    "* Wiederhole das Folgende:\n",
    "    * Finde die kleinste, nicht durchgestrichene, nicht eingekreiste Zahl $min$\n",
    "    * Kreise $min$ ein\n",
    "    * Streiche alle Vielfachen von $min$ durch: $2 \\cdot min, 3 \\cdot min, ...$\n",
    "    * Falls alle Zahlen entweder durchgestrichen oder eingekreist sind, brich ab\n",
    "* Die eingekreisten Zahlen sind die Primzahlen von $1... max$\n"
   ]
  },
  {
   "cell_type": "markdown",
   "id": "d896c29a-4391-4409-a976-b6d23ce4b22c",
   "metadata": {
    "slideshow": {
     "slide_type": "subslide"
    }
   },
   "source": [
    "Die untenstehenden Tabellen zeigen die ersten drei Schritte des Sieb des Erathostenes für die Zahlen von $1...100$."
   ]
  },
  {
   "cell_type": "markdown",
   "id": "a583951c-d3ef-4723-9c3f-20e0ae35787a",
   "metadata": {},
   "source": [
    "|       |       |       |       |       |       |       |       |       |       | \n",
    "|:-----:|:-----:|:-----:|:-----:|:-----:|:-----:|:-----:|:-----:|:-----:|:-----:| \n",
    "|  ~1~ |  2 |  3 |  4 |  5 |  6 |  7 |  8 |  9 |  10 | \n",
    "|  11 |  12 |  13 |  14 |  15 |  16 |  17 |  18 |  19 |  20 | \n",
    "|  21 |  22 |  23 |  24 |  25 |  26 |  27 |  28 |  29 |  30 | \n",
    "|  31 |  32 |  33 |  34 |  35 |  36 |  37 |  38 |  39 |  40 | \n",
    "|  41 |  42 |  43 |  44 |  45 |  46 |  47 |  48 |  49 |  50 | \n",
    "|  51 |  52 |  53 |  54 |  55 |  56 |  57 |  58 |  59 |  60 | \n",
    "|  61 |  62 |  63 |  64 |  65 |  66 |  67 |  68 |  69 |  70 | \n",
    "|  71 |  72 |  73 |  74 |  75 |  76 |  77 |  78 |  79 |  80 | \n",
    "|  81 |  82 |  83 |  84 |  85 |  86 |  87 |  88 |  89 |  90 | \n",
    "|  91 |  92 |  93 |  94 |  95 |  96 |  97 |  98 |  99 |  100 | "
   ]
  },
  {
   "cell_type": "markdown",
   "id": "5fc67079-34f1-4922-890e-99df98e0cc8a",
   "metadata": {
    "slideshow": {
     "slide_type": "subslide"
    }
   },
   "source": [
    "|       |       |       |       |       |       |       |       |       |       | \n",
    "|:-----:|:-----:|:-----:|:-----:|:-----:|:-----:|:-----:|:-----:|:-----:|:-----:| \n",
    "|  ~1~ | **2**|  3 | ~4~ |  5 | ~6~|  7 | ~8~|  9 | ~10~| \n",
    "|  11 | ~12~|  13 | ~14~|  15 | ~16~|  17 | ~18~|  19 | ~20~| \n",
    "|  21 | ~22~|  23 | ~24~|  25 | ~26~|  27 | ~28~|  29 | ~30~| \n",
    "|  31 | ~32~|  33 | ~34~|  35 | ~36~|  37 | ~38~|  39 | ~40~| \n",
    "|  41 | ~42~|  43 | ~44~|  45 | ~46~|  47 | ~48~|  49 | ~50~| \n",
    "|  51 | ~52~|  53 | ~54~|  55 | ~56~|  57 | ~58~|  59 | ~60~| \n",
    "|  61 | ~62~|  63 | ~64~|  65 | ~66~|  67 | ~68~|  69 | ~70~| \n",
    "|  71 | ~72~|  73 | ~74~|  75 | ~76~|  77 | ~78~|  79 | ~80~| \n",
    "|  81 | ~82~|  83 | ~84~|  85 | ~86~|  87 | ~88~|  89 | ~90~| \n",
    "|  91 | ~92~|  93 | ~94~|  95 | ~96~|  97 | ~98~|  99 | ~100~| "
   ]
  },
  {
   "cell_type": "markdown",
   "id": "4c3f2ae2-ca36-471c-a7a9-97a8caa404c4",
   "metadata": {
    "slideshow": {
     "slide_type": "subslide"
    }
   },
   "source": [
    "|       |       |       |       |       |       |       |       |       |       | \n",
    "|:-----:|:-----:|:-----:|:-----:|:-----:|:-----:|:-----:|:-----:|:-----:|:-----:| \n",
    "|  ~1~ | *2*| **3**| ~4~|  5 | ~6~|  7 | ~8~| ~9~| ~10~| \n",
    "|  11 | ~12~|  13 | ~14~| ~15~| ~16~|  17 | ~18~|  19 | ~20~| \n",
    "| ~21~| ~22~|  23 | ~24~|  25 | ~26~| ~27~| ~28~|  29 | ~30~| \n",
    "|  31 | ~32~| ~33~| ~34~|  35 | ~36~|  37 | ~38~| ~39~| ~40~| \n",
    "|  41 | ~42~|  43 | ~44~| ~45~| ~46~|  47 | ~48~|  49 | ~50~| \n",
    "| ~51~| ~52~|  53 | ~54~|  55 | ~56~| ~57~| ~58~|  59 | ~60~| \n",
    "|  61 | ~62~| ~63~| ~64~|  65 | ~66~|  67 | ~68~| ~69~| ~70~| \n",
    "|  71 | ~72~|  73 | ~74~| ~75~| ~76~|  77 | ~78~|  79 | ~80~| \n",
    "| ~81~| ~82~|  83 | ~84~|  85 | ~86~| ~87~| ~88~|  89 | ~90~| \n",
    "|  91 | ~92~| ~93~| ~94~|  95 | ~96~|  97 | ~98~| ~99~| ~100~| "
   ]
  },
  {
   "cell_type": "markdown",
   "id": "f96b2ba2-5dfa-4c30-ace6-09ec4c597c31",
   "metadata": {
    "slideshow": {
     "slide_type": "subslide"
    }
   },
   "source": [
    "<div class=\"aufgabe\">\n",
    "    <h3>Das manuelle Sieb</h3>\n",
    "    Berechnen Sie mit Stift und Papier mittels des Sieb des Erathostenes die Primzahlen von $1..100$.\n",
    "</div>"
   ]
  },
  {
   "cell_type": "markdown",
   "id": "c247930b-74e3-4664-94ff-92b2110edd1f",
   "metadata": {
    "slideshow": {
     "slide_type": "fragment"
    }
   },
   "source": [
    "<div class=\"aufgabe\">\n",
    "    <h3>Das Sieb mit Python</h3>\n",
    "    Implementieren Sie das Sieb des Erathostenes mittels Python.<br>\n",
    "    Nutzen Sie eine Variable 'max' als konfigurierbares Maximum und speichern Sie die Liste der ermittelten Primzahlen in einer Liste 'primes', die Sie am Ende ausgeben.\n",
    "</div>"
   ]
  },
  {
   "cell_type": "markdown",
   "id": "35c7ab4a-ad5f-4038-bee6-44a8b084167d",
   "metadata": {
    "slideshow": {
     "slide_type": "subslide"
    }
   },
   "source": [
    "<details class=\"hint\">\n",
    "<summary> Wie fängt man an?</summary>\n",
    "<p>Überlegen Sie, wie sich das Papierverfahren in ein Programm übersetzen lässt:<br>\n",
    "     <ul>\n",
    "      <li>Es gibt zwei Möglichkeiten: Eine Zahl ist entweder durchgestrichen oder nicht.</li>\n",
    "      <li>Wenn man eine Zahl einkreist weiß man sicher, sie ist eine der gesuchten Primzahlen.</li>\n",
    "      <li>Die Zahlen werden der Reihe nach angeschaut, nur bei nicht durchgestrichenen Zahlen wird etwas getan.</li>\n",
    "    </ul> \n",
    "</p>\n",
    "    <details class=\"hint\">\n",
    "    <summary> Fehlersuche</summary>\n",
    "        <ul>\n",
    "          <li>Erstmal mit kleinem max anfangen, z.B. 10.</li>\n",
    "          <li>Ausgeben, was in welcher Reihenfolge durchgestrichen wird, kann hilfreich sein.</li>\n",
    "          <li>1 ist keine Primzahl und die Vielfachen von 1 sollte man nicht streichen.</li>\n",
    "          <li>Off-By-One-Fehler: Array bzw. Schleife sind um 1 zu groß oder zu klein.</li>\n",
    "          <li>Im Gegensatz zur Tabelle fängt die Liste immer bei Index 0 an.</li>\n",
    "        </ul> \n",
    "    </details>\n",
    "</details>\n"
   ]
  },
  {
   "cell_type": "code",
   "execution_count": null,
   "id": "705b2f5d-d324-45e0-a9da-164ea87f173d",
   "metadata": {
    "slideshow": {
     "slide_type": "fragment"
    }
   },
   "outputs": [],
   "source": [
    "max=100\n",
    "primes = []\n",
    "#Schreiben Sie Ihren Code hier\n",
    "\n",
    "# YOUR CODE HERE\n",
    "raise NotImplementedError()\n",
    "\n",
    "#Beispielausgabe: [2, 3, 5, 7, 11, 13, 17, 19, 23, 29, 31, 37, 41, 43, 47, 53, 59, 61, 67, 71, 73, 79, 83, 89, 97]"
   ]
  },
  {
   "cell_type": "markdown",
   "id": "591cf7ba-dbfa-415d-98ca-7869cc0b9474",
   "metadata": {
    "slideshow": {
     "slide_type": "slide"
    }
   },
   "source": [
    "# Zusatzaufgaben"
   ]
  },
  {
   "cell_type": "markdown",
   "id": "3bdc512b-7193-45a0-beca-ff87ae2d14db",
   "metadata": {
    "slideshow": {
     "slide_type": "slide"
    }
   },
   "source": [
    "## Mitternachtsformel"
   ]
  },
  {
   "cell_type": "markdown",
   "id": "3934a33b-0c75-417c-a8bc-838b1a161d46",
   "metadata": {},
   "source": [
    "Die **Mitternachtsformel** dient dazu, die Nullstellen von Polynomen zweiten Grades zu finden."
   ]
  },
  {
   "cell_type": "markdown",
   "id": "c6b22183-c602-48fa-a7b6-17e7a196c01c",
   "metadata": {
    "slideshow": {
     "slide_type": "subslide"
    }
   },
   "source": [
    "Eine **quadratische Gleichung** der Form $ax^2+bx+c=0$ lässt sich lösen durch die **Mitternachtsformel**\n",
    "$$\n",
    " x_1,x_2 = \\frac{-b \\pm \\sqrt{b^2 - 4ac}}{2a}\n",
    "$$\n",
    "Dabei wird der Term $b^2 - 4ac$ als **Diskriminante** ($D$) bezeichnet.\n",
    "Anhand der Diskriminante lässt sich bestimmen, wie viele Lösungen die quadratische Gleichung hat:\n",
    "* Ist $D > 0$, dann gibt es zwei Lösungen ($x_1,x_2$)\n",
    "* Ist $D = 0$, dann gibt es eine Lösungen $x_1=x_2$\n",
    "* Ist $D < 0$, dann gibt es keine Lösung (zumindest in $ \\mathbb{R}$)\n"
   ]
  },
  {
   "cell_type": "markdown",
   "id": "600a45c3-bf60-491e-a021-e149253cbd5e",
   "metadata": {
    "slideshow": {
     "slide_type": "subslide"
    }
   },
   "source": [
    "<div class=\"aufgabe\">\n",
    "    <h3>Mitternachtsformel</h3>\n",
    "    Fragen Sie den Usern nach den Variablen 'a','b', und 'c'. und geben Sie die quadratische Gleichung aus.<br>\n",
    "    Geben Sie danach alle Lösungen aus. Verwenden Sie die Diskriminante, um die drei Fälle zu unterscheiden.\n",
    "</div>"
   ]
  },
  {
   "cell_type": "code",
   "execution_count": null,
   "id": "0b8b4245-2816-4f0e-ab20-2276abc29e61",
   "metadata": {
    "slideshow": {
     "slide_type": "fragment"
    }
   },
   "outputs": [],
   "source": [
    "import math\n",
    "#Schreiben Sie Ihr Programm hier\n",
    "\n",
    "# YOUR CODE HERE\n",
    "raise NotImplementedError()\n",
    "\n",
    "#Beispielausgaben:\n",
    "#6.0x²+9.0x+3.0 = 0\n",
    "#x₁ = -0.5\n",
    "#x₂ = -1.0\n",
    "#\n",
    "#4.0x²+1.0x+2.0 = 0\n",
    "#Es gibt keine Lösung!"
   ]
  },
  {
   "cell_type": "markdown",
   "id": "2daf43ab-a543-4c6b-8297-d186734ef30b",
   "metadata": {
    "slideshow": {
     "slide_type": "subslide"
    }
   },
   "source": [
    "<div class=\"aufgabe\">\n",
    "    <h3>Mitternachtsformel - lineare Funktionen</h3>\n",
    "    Testen Sie ihr Programm für lineare Funktionen (a=0).<br>\n",
    "    Falls es nicht funktioniert, erweitern Sie es so, dass auch für lineare Funktionen die Nullstelle berechnet wird.<br>\n",
    "    Wie sieht es aus, wenn ein oder mehrere andere Parameter 0 sind?\n",
    "</div>"
   ]
  },
  {
   "cell_type": "code",
   "execution_count": null,
   "id": "5b5493db-eb51-496a-9a82-81276086b179",
   "metadata": {
    "slideshow": {
     "slide_type": "-"
    }
   },
   "outputs": [],
   "source": [
    "#Beispielausgabe:\n",
    "#0.0x²+10.0x+5.0 = 0\n",
    "#x₁ = -0.5"
   ]
  },
  {
   "cell_type": "markdown",
   "id": "287f0cea-fb8c-4b7e-8150-9344ab25d0ff",
   "metadata": {
    "slideshow": {
     "slide_type": "subslide"
    }
   },
   "source": [
    "<div class=\"aufgabe\">\n",
    "    <h3>Mitternachtsformel - Formatierung</h3>\n",
    "    Stellen Sie sicher, dass die ausgegebene Formel schön formatiert ist:<br>\n",
    "    So soll bei negativen Parametern nicht z.B. '+ -3.0x' stehen.<br>\n",
    "    Ist ein Parameter 0, soll der Teil der Gleichung weggelassen werden, also nicht z.B. '+ 0x'.<br>\n",
    "    Verwenden Sie den ternären Operator, den Sie selbstständig recherchieren (engl. \"Ternary Operator\").<br>\n",
    "</div>"
   ]
  },
  {
   "cell_type": "code",
   "execution_count": null,
   "id": "ac2d417e-2b1b-473a-9f36-ad50c23229fc",
   "metadata": {},
   "outputs": [],
   "source": [
    "#Beispielausgabe:\n",
    "#Falsch:  0.0x²+3.0x+-6.0 = 0\n",
    "#Richtig: 3.0x-6.0 = 0\n"
   ]
  },
  {
   "cell_type": "markdown",
   "id": "8df3d185-ef6a-4c9b-b57b-fba00ef22fac",
   "metadata": {
    "slideshow": {
     "slide_type": "slide"
    }
   },
   "source": [
    "## Logarithmus"
   ]
  },
  {
   "cell_type": "markdown",
   "id": "ee0df35b-8dbb-457d-ad37-c25c62137ac4",
   "metadata": {},
   "source": [
    "<div class=\"definition\">\n",
    "    <h3>Logarithmus</h3>\n",
    "    Die Logarithmus $log_b(a)$ einer Zahl $a$ zu einer Basis $b$ ist der Exponent $y$, mit dem man b potenzieren muss, um $a$ zu erhalten.<br>\n",
    "$$\n",
    "    b^{y} = a \\Leftrightarrow y=log_b(a)\n",
    "$$\n",
    "    Vereinfacht gesprochen gibt $log_b(a)$ an, wie oft man $a$ durch $b$ teilen kann, bis man $1$ erhält.\n",
    "</div>\n"
   ]
  },
  {
   "cell_type": "markdown",
   "id": "eeabba21-72cf-40e6-9e82-ca8657db36d0",
   "metadata": {
    "slideshow": {
     "slide_type": "subslide"
    }
   },
   "source": [
    "Der Logarithmus ist bereits im Modul math enthalten."
   ]
  },
  {
   "cell_type": "code",
   "execution_count": null,
   "id": "7c64f722-d62c-4fa3-85a9-c5cf7a17c650",
   "metadata": {},
   "outputs": [],
   "source": [
    "import math\n",
    "math.log(16,2)"
   ]
  },
  {
   "cell_type": "markdown",
   "id": "58dad47f-598e-4df2-95be-1bc6d6ca653a",
   "metadata": {
    "slideshow": {
     "slide_type": "subslide"
    }
   },
   "source": [
    "<div class=\"aufgabe\">\n",
    "    <h3>Ganzzahliger Logarithmus zur Basis 10</h3>\n",
    "    Fragen Sie den User nach der Variable 'n' und berechnen Sie den Logarithmus zur Basis 10.<br>\n",
    "    Verwenden Sie NICHT das math-Modul, sondern benutzen Sie eine while-Schleife und wiederholtes Dividieren.<br>\n",
    "    Beim ganzzahligen Logarithmus gibt es keine Nachkommastellen, verwenden Sie int und Ganzzahl-Division.\n",
    "</div>"
   ]
  },
  {
   "cell_type": "code",
   "execution_count": null,
   "id": "fd53bbd7-1ef0-49ce-88de-c077f0dc34d3",
   "metadata": {},
   "outputs": [],
   "source": [
    "import math\n",
    "#Schreiben Sie Ihr Programm hier\n",
    "\n",
    "# YOUR CODE HERE\n",
    "raise NotImplementedError()\n",
    "\n",
    "#Beispielausgabe: log₁₀1000=3"
   ]
  },
  {
   "cell_type": "markdown",
   "id": "152ff64c-0a33-4e25-959e-e70b9d592d1d",
   "metadata": {
    "slideshow": {
     "slide_type": "-"
    }
   },
   "source": [
    "Testen Sie auch für die Sonderfälle 'n=0' und 'n=1'. Finden Sie den Sollwert für beide Eingaben mittels einer Webrecherche oder einem Taschenrechner heraus."
   ]
  },
  {
   "cell_type": "markdown",
   "id": "5e5a8b93-aeb6-4303-8685-f0150f7db597",
   "metadata": {
    "slideshow": {
     "slide_type": "slide"
    }
   },
   "source": [
    "<div class=\"definition\">\n",
    "    <h3>Primfaktor</h3>\n",
    "    Ein Primfaktor einer natürlichen Zahl $n \\in \\mathbb{N}$ ist eine Primzahl $p \\in \\mathbb{P}$, durch die $n$ teilbar ist, also:<br>\n",
    "$$\n",
    "    n \\% p = 0\n",
    "$$\n",
    "</div>\n"
   ]
  },
  {
   "cell_type": "markdown",
   "id": "6523147e-588c-497f-be20-e1a984d1d223",
   "metadata": {
    "slideshow": {
     "slide_type": "fragment"
    }
   },
   "source": [
    "<div class=\"satz\">\n",
    "    <h3>Primfaktorzerlegung</h3>\n",
    "    Jede natürliche Zahl $n > 1$ lässt sich als ein Produkt von Primzahlen darstellen:\n",
    "    $$\n",
    "        \\forall n > 1 \\in \\mathbb{N} ( \\exists p_1 \\dots p_k (n=\\prod_{i=1}^{k}p_i=p_1\\cdot p_2  \\cdot \\cdot \\cdot p_k))\n",
    "    $$\n",
    "    Beispiel:\n",
    "    $$\n",
    "        780=2\\cdot2\\cdot3\\cdot5\\cdot13\n",
    "    $$\n",
    "</div>"
   ]
  },
  {
   "cell_type": "markdown",
   "id": "5a70e4e5-f26a-4a11-9391-4b32d38e817b",
   "metadata": {
    "slideshow": {
     "slide_type": "subslide"
    }
   },
   "source": [
    "<div class=\"aufgabe\">\n",
    "    <h3>Primfaktorzerlegung</h3>\n",
    "    Implementieren Sie ein Programm, das für eine eingegebene Zahl die Primfaktoktoren aufsteigend ausgibt.<br>\n",
    "    Verwenden Sie eine Liste zum Speichern der Primfaktoren.<br>\n",
    "    Sie dürfen wo sinnvoll Code aus den vorhergehenden Aufgaben wiederverwenden.\n",
    "</div>"
   ]
  },
  {
   "cell_type": "code",
   "execution_count": null,
   "id": "977d13ae-fae9-4ecd-80c6-03f80b5801fb",
   "metadata": {},
   "outputs": [],
   "source": [
    "import math\n",
    "#Schreiben Sie Ihr Programm hier\n",
    "\n",
    "# YOUR CODE HERE\n",
    "raise NotImplementedError()\n",
    "\n",
    "#Beispielausgabe:       \n",
    "#780=2*2*3*5*13   \n",
    "        "
   ]
  },
  {
   "cell_type": "markdown",
   "id": "3291432e-598b-4b9c-97b9-a64bd862cd1f",
   "metadata": {
    "slideshow": {
     "slide_type": "slide"
    }
   },
   "source": [
    "# Footer"
   ]
  },
  {
   "cell_type": "code",
   "execution_count": null,
   "id": "7392d151",
   "metadata": {},
   "outputs": [],
   "source": [
    "#Ausführen, um den aktuellen Footer anzuzeigen\n",
    "from IPython.display import HTML\n",
    "HTML(filename='files/footer.html')"
   ]
  },
  {
   "cell_type": "code",
   "execution_count": null,
   "id": "b02e94d1",
   "metadata": {},
   "outputs": [],
   "source": []
  }
 ],
 "metadata": {
  "celltoolbar": "Slideshow",
  "file_extension": ".py",
  "kernelspec": {
   "display_name": "Python 3 (ipykernel)",
   "language": "python",
   "name": "python3"
  },
  "language_info": {
   "codemirror_mode": {
    "name": "ipython",
    "version": 3
   },
   "file_extension": ".py",
   "mimetype": "text/x-python",
   "name": "python",
   "nbconvert_exporter": "python",
   "pygments_lexer": "ipython3",
   "version": "3.12.3"
  },
  "mimetype": "text/x-python",
  "name": "python",
  "npconvert_exporter": "python",
  "pygments_lexer": "ipython3",
  "rise": {
   "autolaunch": false,
   "backimage": "images/python-logo-only.svg",
   "enable_chalkboard": true,
   "footer": "<h3>DHBW Stuttgart</h3>",
   "header": "<h1>Scientific Programming Lab</h1>",
   "scroll": true,
   "theme": "serif",
   "transition": "convex"
  },
  "version": 3
 },
 "nbformat": 4,
 "nbformat_minor": 5
}
