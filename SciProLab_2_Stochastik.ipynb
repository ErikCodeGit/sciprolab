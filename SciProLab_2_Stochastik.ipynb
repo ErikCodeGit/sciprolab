{
 "cells": [
  {
   "cell_type": "code",
   "execution_count": null,
   "id": "71725de8",
   "metadata": {
    "slideshow": {
     "slide_type": "skip"
    }
   },
   "outputs": [],
   "source": [
    "#Bitte ausführen, damit alles Notwendige importiert wird\n",
    "#Note: Bei Änderungen der zugrundeliegenden Python-Files muss Jupyter neugestartet werden\n",
    "import scipro\n",
    "\n",
    "%matplotlib inline\n",
    "from ipywidgets import interact, IntSlider"
   ]
  },
  {
   "cell_type": "code",
   "execution_count": null,
   "id": "2670d2e4",
   "metadata": {
    "scrolled": true,
    "slideshow": {
     "slide_type": "skip"
    }
   },
   "outputs": [],
   "source": [
    "%%html\n",
    "<!--Bitte diese Cell mit Run ausführen, damit die Styles geladen werden-->\n",
    "<!--Bei Änderungen des CSS muss das Notebook im Browser neu geladen werden-->\n",
    "<link rel=\"stylesheet\" href=\"./styles/sciprolab.css\">\n"
   ]
  },
  {
   "cell_type": "markdown",
   "id": "unique-crisis",
   "metadata": {
    "slideshow": {
     "slide_type": "slide"
    },
    "tags": []
   },
   "source": [
    "# Scientific Programming Lab\n",
    "\n",
    "- Für dieses Kapitel ist das Paket **ipywidgets** notwendig\n",
    "- **Schalten Sie Jupyter aus**, bevor Sie die Installation durchführen\n",
    "- Installieren Sie dieses mittels pip oder conda\n",
    "  - `conda install anaconda::ipywidgets`\n",
    "  - `conda install conda-forge::jupyterlab_widgets`\n",
    "\n",
    "## Ziele und Inhalte\n",
    "\n",
    "- Mathematische Inhalte\n",
    "  - Stochastik\n",
    "  - Zufallsexperiment, Elementarereingnis und Zufallsvariable\n",
    "  - Wahrscheinlichkeit und Wahrscheinlichkeitsrechnung\n",
    "  - Bedingte Wahrscheinlichkeit\n",
    "- Informatische Inhalte\n",
    "  - \"Zufall\" in Python\n",
    "  - Funktionen in Python\n",
    "  - Grafische Darstellungen mit Python\n"
   ]
  },
  {
   "cell_type": "markdown",
   "id": "ba37fa83",
   "metadata": {
    "slideshow": {
     "slide_type": "slide"
    }
   },
   "source": [
    "## Wahrscheinlichkeitsrechnung und Zufallsvariablen"
   ]
  },
  {
   "cell_type": "markdown",
   "id": "4612cb63",
   "metadata": {
    "slideshow": {
     "slide_type": "slide"
    }
   },
   "source": [
    "## Zufallsexperiment\n",
    "\n",
    "- Ein _Zufallsexperiment_, auch _Zufallsvorgang_ oder _Zufallsversuch_, ist ein Vorgang dessen Resultat unsicher bzw. unvorhersehbar ist und erst nach Eintritt des Resultats dieses wirklich feststeht\n",
    "- Typische Beispiele sind das Werfen einer Münze, das Werfen eines Würfels oder das Ziehen der Lottozahlen"
   ]
  },
  {
   "cell_type": "markdown",
   "id": "543a2d73",
   "metadata": {
    "slideshow": {
     "slide_type": "subslide"
    }
   },
   "source": [
    "- Die Unvorhersehbarkeit des Ergebnisses kann verschiedene Gründe haben:\n",
    "    1. Unkenntnis wichtiger beeinflussender Größen - wie z.B. beim Werfen einer Münze, ...\n",
    "    2. Vorgang wird von sensitiven, dynamischen Gesetzen mit Instabilitäten (Bifurkationen, ... etc.) kontrolliert in dem sich kleinste, nicht messbare Unterschiede entscheidend aufschaukeln können - z.B. Mehrkörperproblem, Wettervorhersage, ...\n",
    "    3. Intrinsischer (gesetzmäßiger) Zufall - z.B. Wahrscheinlichkeit, mit der ein Elektron durch einen Potentialwall tunnelt "
   ]
  },
  {
   "cell_type": "markdown",
   "id": "69b35a0e",
   "metadata": {
    "slideshow": {
     "slide_type": "slide"
    }
   },
   "source": [
    "<div class=\"definition\">\n",
    "    <h3>Elementarereignis $\\omega$</h3>\n",
    "    Als Elementarereignis $\\omega$ bezeichnet man einen möglichen elementaren Ausgang eines Zufallsexperiments.\n",
    "</div>"
   ]
  },
  {
   "cell_type": "markdown",
   "id": "1af32120",
   "metadata": {
    "slideshow": {
     "slide_type": "slide"
    }
   },
   "source": [
    "- Die Elementarereignisse eines Münzwurfes sind _Kopf_ $K$ und _Zahl_ $Z$\n",
    "- Elementarereignisse schließen sich gegenseitig aus. Es kann entweder _Kopf_ $K$ oder _Zahl_ $Z$ geworfen werden und nicht beides zugleich.\n",
    "- Die Menge aller Elementarereignisse wird mit $\\Omega$ bezeichnet - beim Münzwurf $\\Omega = \\{K,Z\\}$."
   ]
  },
  {
   "cell_type": "markdown",
   "id": "1a541fd5",
   "metadata": {
    "slideshow": {
     "slide_type": "slide"
    }
   },
   "source": [
    "<div class=\"aufgabe\">\n",
    "    <h3>Elementarereignisse</h3>\n",
    "    Betrachten Sie den gleichzeitigen Wurf mit zwei üblichen, sechseitigen Würfeln.\n",
    "    <br>\n",
    "    Beschreiben Sie $\\Omega$ mit einer möglichst kurzen, mathematischen Notation $\\Omega = \\{ \\dots \\}$!\n",
    "</div>"
   ]
  },
  {
   "cell_type": "markdown",
   "id": "a6bca662",
   "metadata": {
    "slideshow": {
     "slide_type": "skip"
    }
   },
   "source": [
    "---\n",
    "## <span style=\"color:red\">Student Answer</span>\n",
    "\n",
    "*Double-click and add your answer between the lines*\n",
    "\n",
    "---"
   ]
  },
  {
   "cell_type": "markdown",
   "id": "474d6e52",
   "metadata": {
    "slideshow": {
     "slide_type": "slide"
    }
   },
   "source": [
    "## Zufall in Python\n",
    "\n",
    "- Um Zufallsprozesse auch in Python behandeln zu können, gibt es das [`random`-Modul](https://docs.python.org/3/library/random.html) in der Standardbibliothek\n",
    "- Nach dem Import des Moduls mit `import random` stehen eine ganze Reihe von Funktionen zur Verfügung, wie z.B. \n",
    "`randint(a,b)` um Zufallszahlen aus $[a,b]\\in N$ zu erzeugen &rarr; jede Zahl aus diesem Intervall hat die gleiche Wahrscheinlichkeit gewählt zu werden"
   ]
  },
  {
   "cell_type": "markdown",
   "id": "c09adcf7",
   "metadata": {
    "slideshow": {
     "slide_type": "subslide"
    }
   },
   "source": [
    "## Zufall in Python\n",
    "- Die erzeugten Zahlen sind jedoch _Pseudo-Zufallszahlen_, d.h.:\n",
    "    - Sie besitzen eine \"begrenzte Zufälligkeit\", die für normale Zufallsexperimente reicht, aber nicht für strengere Anforderungen wie z.B. in der Kryptographie\n",
    "    - Man kann den Zufallszahlengenerator anfangs mit Hilfe eines _Seeds_ in einen definierten Status setzen, so dass die Zufallsabfolge reproduzierbar wird - sozusagen \"geplanter Zufall\""
   ]
  },
  {
   "cell_type": "markdown",
   "id": "3fd2e8e9",
   "metadata": {
    "slideshow": {
     "slide_type": "slide"
    }
   },
   "source": [
    "<div class=\"aufgabe\">\n",
    "    <h3>Würfeln in Python</h3>\n",
    "    Schreiben Sie Python-Code der das Werfen eines Würfelns simuliert!\n",
    "</div>"
   ]
  },
  {
   "cell_type": "code",
   "execution_count": null,
   "id": "53894972",
   "metadata": {
    "slideshow": {
     "slide_type": "subslide"
    }
   },
   "outputs": [],
   "source": [
    "# YOUR CODE HERE\n",
    "raise NotImplementedError()\n",
    "\n",
    "#Beispielausgabe: Die gewürfelte Zahl ist 6"
   ]
  },
  {
   "cell_type": "markdown",
   "id": "8b0b37d8",
   "metadata": {
    "slideshow": {
     "slide_type": "slide"
    }
   },
   "source": [
    "# Funktionen"
   ]
  },
  {
   "cell_type": "markdown",
   "id": "e19f08f2",
   "metadata": {
    "slideshow": {
     "slide_type": "fragment"
    }
   },
   "source": [
    "Funktionen fassen mehrere Code-Anweisung zusammen und sind dann über den Namen der Funktion ausführbar.\n",
    "Gerade wenn die Funktionalität so nützlich ist, dass wir sie oft verwenden, sollten wir sie in eine Funktion verpacken.\n",
    "Reines Copy-Paste ist aus vielen Gründen eine schlechte Idee."
   ]
  },
  {
   "cell_type": "markdown",
   "id": "aea015b6",
   "metadata": {
    "slideshow": {
     "slide_type": "fragment"
    }
   },
   "source": [
    "- Bessere Strukturierung und Modularisierung des Codes\n",
    "- Generalisierung durch die Übergabe von Parametern\n",
    "- Wiederverwendung von Code ohne Copy-Paste"
   ]
  },
  {
   "cell_type": "markdown",
   "id": "37dce4b1",
   "metadata": {
    "slideshow": {
     "slide_type": "slide"
    }
   },
   "source": [
    "Ganz allgemein werden Funktionen in Python so definiert:\n",
    "```python\n",
    "def fname(x):\n",
    "    body\n",
    "```\n",
    "\n",
    "Häufig ist der Anfang der Implementierung einer Funktion dieser - Funktionskörper besteht nur aus _pass_:\n",
    "```python\n",
    "def fname(x):\n",
    "    pass\n",
    "```\n",
    "und wird dann schrittweise mit \"Leben\" bzw. Funktion gefüllt"
   ]
  },
  {
   "cell_type": "markdown",
   "id": "b03a80c0",
   "metadata": {
    "slideshow": {
     "slide_type": "slide"
    }
   },
   "source": [
    "<table>\n",
    "<tbody>\n",
    "<tr>\n",
    "<td style=\"text-align:center\"><strong><code>def</code></strong></td>\n",
    "<td style=\"text-align:left\">Keyword</td>\n",
    "</tr>\n",
    "<tr>\n",
    "<td style=\"text-align:center\"><strong><code>fname</code></strong></td>\n",
    "<td style=\"text-align:left\">Name der Funktion, gleiche Regeln wie bei Variablen</td>\n",
    "</tr>\n",
    "<tr>\n",
    "<td style=\"text-align:center\"><strong><code>()</code></strong></td>\n",
    "<td style=\"text-align:left\">Klammern!</td>\n",
    "</tr>\n",
    "<tr>\n",
    "<td style=\"text-align:center\"><strong><code>x</code></strong></td>\n",
    "<td style=\"text-align:left\">Name der Eingabevariable (wie bei mathematischen Formeln)</td>\n",
    "</tr>\n",
    "<tr>\n",
    "<td style=\"text-align:center\"><strong><code>:</code></strong></td>\n",
    "<td style=\"text-align:left\">Doppelpunkt</td>\n",
    "</tr>\n",
    "<tr>\n",
    "<td style=\"text-align:center\"><strong><code>body</code></strong></td>\n",
    "<td style=\"text-align:left\">Funktionskörper. Indentation/Einzug ist wichtig!! (<strong><code>pass</code></strong> &rarr; Python läuft einfach durch die Funktion)</td>\n",
    "</tr>\n",
    "</tbody>\n",
    "</table>"
   ]
  },
  {
   "cell_type": "markdown",
   "id": "78925f0c",
   "metadata": {
    "slideshow": {
     "slide_type": "slide"
    }
   },
   "source": [
    "Eine Funktion wäre zum Beispiel:"
   ]
  },
  {
   "cell_type": "code",
   "execution_count": null,
   "id": "08bbbf40",
   "metadata": {
    "slideshow": {
     "slide_type": "fragment"
    }
   },
   "outputs": [],
   "source": [
    "def my_stupid_function(count):\n",
    "    for i in range(count):\n",
    "        print(\"Hello from my stupid little function!\")"
   ]
  },
  {
   "cell_type": "markdown",
   "id": "bd20a0dc",
   "metadata": {
    "slideshow": {
     "slide_type": "fragment"
    }
   },
   "source": [
    "... und der Aufruf ist so ..."
   ]
  },
  {
   "cell_type": "code",
   "execution_count": null,
   "id": "0c6ecb03",
   "metadata": {
    "slideshow": {
     "slide_type": "fragment"
    }
   },
   "outputs": [],
   "source": [
    "my_stupid_function(3)"
   ]
  },
  {
   "cell_type": "markdown",
   "id": "f3155fbe",
   "metadata": {
    "slideshow": {
     "slide_type": "slide"
    }
   },
   "source": [
    "Fehler bei der Deklaration der Funktion bemerkt man leider oft erst beim Ausführen der Funktion."
   ]
  },
  {
   "cell_type": "code",
   "execution_count": null,
   "id": "6a4c9dd9",
   "metadata": {
    "slideshow": {
     "slide_type": "fragment"
    }
   },
   "outputs": [],
   "source": [
    "def my_more_stupid_function():\n",
    "    # Eine undeklarierte Variable wird durch 0 geteilt\n",
    "    b = a // 0.0"
   ]
  },
  {
   "cell_type": "code",
   "execution_count": null,
   "id": "ec6768fa",
   "metadata": {
    "slideshow": {
     "slide_type": "fragment"
    }
   },
   "outputs": [],
   "source": [
    "my_more_stupid_function()"
   ]
  },
  {
   "cell_type": "markdown",
   "id": "8b1c259c",
   "metadata": {
    "slideshow": {
     "slide_type": "slide"
    }
   },
   "source": [
    "<div class=\"aufgabe\">\n",
    "    <h3>Mehrfaches Würfeln in Python Teil I</h3>\n",
    "    Fassen Sie Ihren Python-Code zum Würfeln in einer Funktion zusammen der Sie übergeben, wie oft der Würfel geworfen werden soll! Testen Sie Ihre Funktion!\n",
    "</div>"
   ]
  },
  {
   "cell_type": "code",
   "execution_count": null,
   "id": "8d41bb3a",
   "metadata": {
    "slideshow": {
     "slide_type": "slide"
    }
   },
   "outputs": [],
   "source": [
    "import random \n",
    "\n",
    "def roll_dice(count):\n",
    "# YOUR CODE HERE\n",
    "raise NotImplementedError()\n",
    "roll_dice(5)\n",
    "#Beispielausgabe:\n",
    "#Die gewürfelte Zahl ist 1\n",
    "#Die gewürfelte Zahl ist 5\n",
    "#Die gewürfelte Zahl ist 6\n",
    "#Die gewürfelte Zahl ist 4\n",
    "#Die gewürfelte Zahl ist 6"
   ]
  },
  {
   "cell_type": "markdown",
   "id": "24cc1bc9",
   "metadata": {
    "slideshow": {
     "slide_type": "slide"
    }
   },
   "source": [
    "Bleibt die Frage, wie man auf die Resultate zugreifen kann, die in der Funktion berechnet werden?</br>\n",
    "Versuchen wir es direkt ..."
   ]
  },
  {
   "cell_type": "code",
   "execution_count": null,
   "id": "e0ce7964",
   "metadata": {
    "slideshow": {
     "slide_type": "fragment"
    }
   },
   "outputs": [],
   "source": [
    "def my_more_stupid_function(a):\n",
    "    b = a // 2\n",
    "    \n",
    "my_more_stupid_function(10)\n",
    "b"
   ]
  },
  {
   "cell_type": "markdown",
   "id": "9672149b",
   "metadata": {
    "slideshow": {
     "slide_type": "slide"
    }
   },
   "source": [
    "... das klappt offensichtlich nicht. Wir können auf Variablen, die in der Funktion definiert sind nicht von außen zugreifen. </br>\n",
    "Schauen wir, ob wir etwas von der Funktion zurückbekommen:"
   ]
  },
  {
   "cell_type": "code",
   "execution_count": null,
   "id": "c3d978ae",
   "metadata": {
    "slideshow": {
     "slide_type": "fragment"
    }
   },
   "outputs": [],
   "source": [
    "b = my_more_stupid_function(10)\n",
    "b"
   ]
  },
  {
   "cell_type": "markdown",
   "id": "e2d9e279",
   "metadata": {
    "slideshow": {
     "slide_type": "fragment"
    }
   },
   "source": [
    "`b` scheint leer zu sein. Schauen wir mal genauer hin ..."
   ]
  },
  {
   "cell_type": "code",
   "execution_count": null,
   "id": "a3ac1536",
   "metadata": {
    "slideshow": {
     "slide_type": "fragment"
    }
   },
   "outputs": [],
   "source": [
    "type(b)"
   ]
  },
  {
   "cell_type": "markdown",
   "id": "92efb650",
   "metadata": {
    "slideshow": {
     "slide_type": "slide"
    }
   },
   "source": [
    "Ergebnisse müssen explizit aus Funktionen zurückgegeben werden und es kann auch nur ein Ergebnis aus einer Funktion zurückgegeben werden ..."
   ]
  },
  {
   "cell_type": "code",
   "execution_count": null,
   "id": "f1402ff3",
   "metadata": {
    "slideshow": {
     "slide_type": "fragment"
    }
   },
   "outputs": [],
   "source": [
    "def my_more_stupid_function(a):\n",
    "    b = a // 2\n",
    "    return b\n",
    "    \n",
    "b = my_more_stupid_function(10)\n",
    "print(f\"Es kommt zurück ein {type(b)}-Objekt mit dem Wert {b}.\")"
   ]
  },
  {
   "cell_type": "markdown",
   "id": "398e5eb2",
   "metadata": {
    "slideshow": {
     "slide_type": "slide"
    }
   },
   "source": [
    "<div class=\"aufgabe\">\n",
    "    <h3>Mehrfaches Würfeln in Python Teil II</h3>\n",
    "    Wie könnte man sich alle gewürfelten Augenzahlen merken und diese gesammelt am Ende dem Aufrufer zurückgeben, statt sie nur auszugeben? Erinnern sie sich an die letzte Vorlesung! Testen Sie Ihre Funktion mit einer geeigneten Anzahl an Würfen!\n",
    "</div>"
   ]
  },
  {
   "cell_type": "code",
   "execution_count": null,
   "id": "0835843b",
   "metadata": {
    "slideshow": {
     "slide_type": "fragment"
    }
   },
   "outputs": [],
   "source": [
    "import random\n",
    "\n",
    "def roll_dice(count):\n",
    "# YOUR CODE HERE\n",
    "raise NotImplementedError()\n",
    "output = roll_dice(5)\n",
    "print(output)\n",
    "#Beispielausgabe: [5, 3, 2, 3, 6]"
   ]
  },
  {
   "cell_type": "markdown",
   "id": "cbb0fcd9",
   "metadata": {
    "slideshow": {
     "slide_type": "slide"
    }
   },
   "source": [
    "## Funktionen noch einmal ...\n",
    "\n",
    "Funktionen haben einen Namen (z.B. `print`), Klammern `()` und (optional) etwas zwischen den Klammern (\"Argumente/Eingabe/Input\", z.B. `\"stuff\"`). Sie tun (optional) etwas (\"Seiteneffekt\") und sie geben (optional) etwas zurück.\n",
    "\n",
    "|Name|Argument|Seiteneffekt|Ausgabe|\n",
    "|-----|-----|-----|-----|\n",
    "|`int`|etwas in einen Integer konvertieren |-| konvertierter Wert|\n",
    "|`float`|etwas in einen Float konvertieren|-|konvertierter Wert|\n",
    "|`print`|das was auszugeben ist |Ausgabe auf der Konsole|-|\n",
    "|`input`|-|Eingabe vom Nutzer abfragen |Eingabe des Nutzers als String|\n",
    "|`roll_dice`|Anzahl der Würfe|Liste mit allen gewürfelten Augenzahlen |-|"
   ]
  },
  {
   "cell_type": "markdown",
   "id": "bfffb080",
   "metadata": {
    "slideshow": {
     "slide_type": "subslide"
    }
   },
   "source": [
    "Man kann die Ausgabe einer Variable `x` zuweisen:<br>\n",
    "- `x = function(arguments)`.\n",
    "\n",
    "Die Ausgabefunktion `print` liefert keinen Wert zurück (sondern hat nur einen Seiteneffekt):<br>\n",
    "- Also sieht man eigentlich nie `x = print(\"stuff\")`."
   ]
  },
  {
   "cell_type": "markdown",
   "id": "414e45fc",
   "metadata": {
    "slideshow": {
     "slide_type": "slide"
    }
   },
   "source": [
    "<div class=\"definition\">\n",
    "    <h3>Ereignis $A$</h3>\n",
    "    Als Ereignis $A$ bezeichnet man eine Reihe von möglichen Ausgängen eines Zufallsexperiments $A \\subseteq \\Omega$.\n",
    "</div>"
   ]
  },
  {
   "cell_type": "markdown",
   "id": "6e3ed9f1",
   "metadata": {
    "slideshow": {
     "slide_type": "subslide"
    }
   },
   "source": [
    "- Ereignisse schließen sich gegenseitig nicht aus.\n",
    "- Beispiele für mögliche Ereignisse beim Wurf mit zwei Wüfeln:\n",
    "    - $\\text{Augensume ist 5} \\to A=\\{(1,4),(2,3),(3,2),(4,1)\\}$\n",
    "    - $\\text{Erste Augenzahl ist 4} \\to A=\\{(4,1),(4,2), \\ldots ,(4,5),(4,6)\\}$"
   ]
  },
  {
   "cell_type": "markdown",
   "id": "47a6f617",
   "metadata": {
    "slideshow": {
     "slide_type": "subslide"
    }
   },
   "source": [
    "- Generell gilt:\n",
    "    - $A = \\emptyset$ &rarr; _unmögliches Ereignis_\n",
    "    - $A = \\Omega$ &rarr; _sicheres Ereignis_\n",
    "    - $A \\subset B$ &rarr; $A$ ist _Teilereignis_ von $B$\n",
    "    - $A \\cap B = \\emptyset$ &rarr; $A$ und  $B$ sind _disjunkte_ Ereignisse\n",
    "    - $A = \\overline{B}$ &rarr; $A$ ist _Komplementärereignis_ von $B$\n",
    "    - $A = \\bigcup_i A_i $ &rarr; $A$ ist die Vereinigung aller $A_i$\n",
    "    - $A = \\bigcap_i A_i $ &rarr; $A$ ist der Schnitt aller $A_i$"
   ]
  },
  {
   "cell_type": "markdown",
   "id": "9a381f5c",
   "metadata": {
    "slideshow": {
     "slide_type": "slide"
    }
   },
   "source": [
    "## Axiome der Wahrscheinlichkeit\n",
    "\n",
    "Wenn mit $P(A)$ die Wahrscheinlichkeit des Eintretens eines Ereignisses $A$ bezeichnet wird, muss gelten:\n",
    "1. $\\forall A \\, : \\quad P(A) \\geq 0$\n",
    "2. $P(\\Omega) = 1$\n",
    "3. $\\forall A_i,A_j,i \\neq j \\, \\land \\, A_i \\cap A_j = \\emptyset \\, : \\quad P(\\bigcup_i A_i) =\\sum_i P(A_i)$ "
   ]
  },
  {
   "cell_type": "markdown",
   "id": "dc9339e8",
   "metadata": {
    "slideshow": {
     "slide_type": "slide"
    }
   },
   "source": [
    "<div class=\"definition\">\n",
    "    <h3>Laplace-Wahrscheinlichkeit</h3>\n",
    "    $$ \n",
    "        P(A) = \\frac{|A|}{|\\Omega|} = \\frac{\\text{Anzahl der für A notwendigen Ereignisse}}{\\text{Anzahl aller möglichen Ereignisse}}\n",
    "    $$\n",
    "    unter der Voraussetzung, dass alle Elementarereignisse $\\omega$ gleich wahrscheinlich sind. \n",
    "</div>"
   ]
  },
  {
   "cell_type": "markdown",
   "id": "39e3609f",
   "metadata": {
    "slideshow": {
     "slide_type": "slide"
    }
   },
   "source": [
    "### Beispiel: \n",
    "Wie hoch ist die Wahrscheinlichkeit beim gleichzeitigem Wurf mit zwei Würfeln die Augensumme 5 zu erhalten?"
   ]
  },
  {
   "cell_type": "markdown",
   "id": "719b674d",
   "metadata": {
    "slideshow": {
     "slide_type": "fragment"
    }
   },
   "source": [
    "$A=\\{(1,4),(2,3),(3,2),(4,1)\\}$ \n",
    "\n",
    "$\\Omega = \\{ (x_1,x_2): x_1,x_2 \\in \\{1,2,3,4,5,6\\} \\}$\n",
    "\n",
    "$P(A) = \\frac{|A|}{|\\Omega|} = \\frac{4}{6 \\cdot 6} = \\frac{4}{36} = \\frac{1}{9}$"
   ]
  },
  {
   "cell_type": "markdown",
   "id": "f586686c",
   "metadata": {
    "slideshow": {
     "slide_type": "slide"
    }
   },
   "source": [
    "## Rechenregeln für Wahrscheinlichkeiten\n",
    "\n",
    "$P(\\emptyset) = 0$\n",
    "\n",
    "$P(A) \\leq 1$\n",
    "\n",
    "$A \\subset B \\mapsto P(A) \\leq P(B)$ \n",
    "\n",
    "$P\\left(\\,\\overline{A}\\,\\right) = 1 - P(A)$ \n",
    "\n",
    "$P(A \\cup B) = P(A) + P(B) - P(A \\cap B)$"
   ]
  },
  {
   "cell_type": "markdown",
   "id": "8ba0e62a",
   "metadata": {
    "slideshow": {
     "slide_type": "slide"
    }
   },
   "source": [
    "<div class=\"aufgabe\">\n",
    "    <h3>Rechenregeln für Wahrscheinlichkeiten</h3>\n",
    "    Betrachten Sie wieder den gleichzeitigen Wurf mit zwei üblichen, sechseitigen Würfeln.\n",
    "    <br>\n",
    "    Berechnen Sie die Wahrscheinlichkeit für das Ereignis $A = \\text{Augensumme < 11}$!\n",
    "</div>"
   ]
  },
  {
   "cell_type": "markdown",
   "id": "2a4c3f94",
   "metadata": {
    "slideshow": {
     "slide_type": "slide"
    }
   },
   "source": [
    "---\n",
    "## <span style=\"color:red\">Student Answer</span>\n",
    "\n",
    "*Double-click and add your answer between the lines*\n",
    "\n",
    "---"
   ]
  },
  {
   "cell_type": "markdown",
   "id": "edbc5dbb",
   "metadata": {
    "slideshow": {
     "slide_type": "slide"
    }
   },
   "source": [
    "<div class=\"aufgabe\">\n",
    "    <h3>Simulation des Würfelns mit zwei Wüfeln</h3>\n",
    "    Simulieren Sie jetzt gleichzeitigen Wurf mit zwei üblichen, sechseitigen Würfeln für eine beliebige, anzugebende Zahl an Würfen. Bennen Sie Ihre Funkton mit \"roll_two_dice_a(counts)\"!\n",
    "    <br>\n",
    "    Bestimmen Sie den relativen Anteil des Ereignisses $A = \\text{Augensumme < 11}$ an der ganzen Würfelsequenz!<br/>\n",
    "    Vergleichen Sie für Sequenzen von $10,1000,10000,100000,1000000$ aufeinanderfolgenden Würden die relative Häufigkeit des Ereignisses $A$ mit Ihrer berechneten Wahrscheinlichkeit!\n",
    "</div>"
   ]
  },
  {
   "cell_type": "code",
   "execution_count": null,
   "id": "dec61980",
   "metadata": {
    "slideshow": {
     "slide_type": "subslide"
    }
   },
   "outputs": [],
   "source": [
    "import random\n",
    "\n",
    "def roll_two_dice_a(counts):\n",
    "# YOUR CODE HERE\n",
    "raise NotImplementedError()\n",
    "#Beispielausgabe:\n",
    "#  10    Würfe - relativer Anteil des Ereignisses A:    ?.?   \n",
    "# 1000   Würfe - relativer Anteil des Ereignisses A:   ?.???  \n",
    "# 10000  Würfe - relativer Anteil des Ereignisses A:  ?.????  \n",
    "#100000  Würfe - relativer Anteil des Ereignisses A:  ?.????? \n",
    "#1000000 Würfe - relativer Anteil des Ereignisses A: ?.?????? "
   ]
  },
  {
   "cell_type": "markdown",
   "id": "67a826c7-97ec-4f8e-b52d-4ba79d6d5602",
   "metadata": {},
   "source": [
    "Mittels eines *Sliders* könnnen wir nun die Anzahl der Würfe interaktiv verändern, und beobachten, was geschieht."
   ]
  },
  {
   "cell_type": "code",
   "execution_count": null,
   "id": "e45f1158",
   "metadata": {
    "slideshow": {
     "slide_type": "subslide"
    }
   },
   "outputs": [],
   "source": [
    "def interactive_roll_two_dice_a(number):\n",
    "    print(f'Bei {number} Würfen tritt das Ereignis A mit einem Anteil von {roll_two_dice_a(number)} ein.')\n",
    "\n",
    "\n",
    "interact(interactive_roll_two_dice_a,  \n",
    "         number=IntSlider(min=10, max=100000, value=10, continuous_update=False))"
   ]
  },
  {
   "cell_type": "markdown",
   "id": "7356562c",
   "metadata": {
    "slideshow": {
     "slide_type": "subslide"
    }
   },
   "source": [
    "Man kann erkennen, dass sich der relative Anteil um so mehr unserer berechneten Wahrscheinlichkeit nähert, je öfter das Würfeln wiederholt wird. Das hängt mit dem sogenannten __Gesetz der großen Zahlen__ und damit mit der Häufigkeitsinterpretation der Wahrscheinlichkeit zusammen. Doch bevor wir dazu kommen, müssen wir noch eine wichtige, grundlegende Definition vornehmen."
   ]
  },
  {
   "cell_type": "markdown",
   "id": "f247a847",
   "metadata": {
    "slideshow": {
     "slide_type": "slide"
    }
   },
   "source": [
    "<div class=\"definition\">\n",
    "    <h3>Zufallsvariable oder Zufallsgröße $X$</h3>\n",
    "    Eine Zufallsvariable oder Zufallsgröße $X$ stellt eine Abbildung <br>\n",
    "    $X=X(\\omega): \\Omega \\rightarrow \\mathbb{R}$  <br>\n",
    "    dar, die jedem Elementarereignis $\\omega \\in \\Omega$ eine reelle Zahl zuordnet.\n",
    "</div>"
   ]
  },
  {
   "cell_type": "markdown",
   "id": "880f5f65",
   "metadata": {
    "slideshow": {
     "slide_type": "subslide"
    }
   },
   "source": [
    "_Anmerkungen_:\n",
    "- Zufallsvariablen werden mit großen lateinischen Buchstaben bezeichnet, wie z.B. $X$ und die jeweilige Realisierung der Zufallsvariablen mit kleinen lateinischen Buchstaben, wie z.B. $X=x$ in $P(X=x)$\n",
    "- Es gibt stetige und diskrete Zufallsvariablen (ZV)\n",
    "    - stetige ZV &rarr; jeder Wert aus einem reellen endlichen oder unendlichem Intervall ist möglich \n",
    "    - diskrete ZV &rarr; endlich viele oder abzählbar unendlich viele reelle Werte"
   ]
  },
  {
   "cell_type": "markdown",
   "id": "5e2d4e02",
   "metadata": {
    "slideshow": {
     "slide_type": "slide"
    }
   },
   "source": [
    "### Beispiel fairer Würfel\n",
    "\n",
    "* $\\Omega =\\{\"Augenzahl\\;1\",\"Augenzahl\\;2\",\"Augenzahl\\;3\",\"Augenzahl\\;4\", \"Augenzahl\\;5\",\"Augenzahl\\;6\"\\}$\n",
    "* Wir ordnen jedem Element $\\omega \\in \\Omega$ eine sinnvolle, naheliegende reele Zahl $x \\in \\mathbb{R}$ zu: \n",
    "    * $X = X(\\omega) = X(\"Augenzahl\\;1\") = 1$\n",
    "    * $X = X(\\omega) = X(\"Augenzahl\\;2\") = 2$\n",
    "    * $X = X(\\omega) = X(\"Augenzahl\\;3\") = 3$\n",
    "    * $X = X(\\omega) = X(\"Augenzahl\\;4\") = 4$\n",
    "    * $X = X(\\omega) = X(\"Augenzahl\\;5\") = 5$\n",
    "    * $X = X(\\omega) = X(\"Augenzahl\\;6\") = 6$\n",
    "    "
   ]
  },
  {
   "cell_type": "markdown",
   "id": "3fc4b96e",
   "metadata": {
    "slideshow": {
     "slide_type": "subslide"
    }
   },
   "source": [
    "### Beispiel fairer Würfel\n",
    "\n",
    "* Damit haben wir für das Würfeln mit einem Würfel die diskrete ZV $X$ festgelegt und können jedem Wert der Zufallsvariable auch eine Wahrscheinlichkeit zuordnen:\n",
    "    * $P(X = 1) = P(\"Augenzahl\\;1\") = \\frac{1}{6}$\n",
    "    * $P(X = 2) = P(\"Augenzahl\\;2\") = \\frac{1}{6}$\n",
    "    * $P(X = 3) = P(\"Augenzahl\\;3\") = \\frac{1}{6}$\n",
    "    * $P(X = 4) = P(\"Augenzahl\\;4\") = \\frac{1}{6}$\n",
    "    * $P(X = 5) = P(\"Augenzahl\\;5\") = \\frac{1}{6}$\n",
    "    * $P(X = 6) = P(\"Augenzahl\\;6\") = \\frac{1}{6}$"
   ]
  },
  {
   "cell_type": "markdown",
   "id": "79b18359",
   "metadata": {
    "slideshow": {
     "slide_type": "slide"
    }
   },
   "source": [
    "<div class=\"aufgabe\">\n",
    "    <h3>Fairer Würfel</h3>\n",
    "    Für einen fairen Würfel sollten alle Augenzahlen gleich wahrscheinlich, also gleich $\\frac{1}{6}$ sein. Schreiben Sie eine Funktion, die das Wurfergebnis Ihrer obigen Funktion für den mehrfachen Wurf mit einem Würfel entgegennimmt und den relativen Anteil der Augenzahlen in der Sequenz berechnet.\n",
    "</div>"
   ]
  },
  {
   "cell_type": "code",
   "execution_count": null,
   "id": "7a850c64",
   "metadata": {
    "slideshow": {
     "slide_type": "fragment"
    }
   },
   "outputs": [],
   "source": [
    "def count_eyes(rolls):\n",
    "# YOUR CODE HERE\n",
    "raise NotImplementedError()\n",
    "count_eyes(roll_dice(10000))\n",
    "#Beispielausgabe: [0.1, 0.3, 0.0, 0.3, 0.2, 0.1]"
   ]
  },
  {
   "cell_type": "markdown",
   "id": "6c27d8ca",
   "metadata": {
    "slideshow": {
     "slide_type": "fragment"
    }
   },
   "source": [
    "Das Einschätzen und Beurteilen von mehreren Zahlen ist für den Menschen nicht einfach. Dafür können wir aber visuell enorme Datenmengen erfassen und verarbeiten, weshalb die grafische Darstellung von Daten enorm wichtig ist."
   ]
  },
  {
   "cell_type": "markdown",
   "id": "e5fe390e",
   "metadata": {
    "slideshow": {
     "slide_type": "slide"
    }
   },
   "source": [
    "## Matplotlib"
   ]
  },
  {
   "cell_type": "markdown",
   "id": "6067f568",
   "metadata": {
    "slideshow": {
     "slide_type": "fragment"
    }
   },
   "source": [
    "In Python gibt es zahlreiche Bibliotheken für die grafische Darstellung, die verschiedenste Schwerpunkte und alle auch ihre Berechtigung haben, wie z.B.:\n",
    "- [seaborn](https://seaborn.pydata.org/) und [plotnine](https://plotnine.org/) für schöne statistische Visualisierungen\n",
    "- [Plotly](https://plotly.com/) und [bokeh](https://bokeh.org/) für schöne interaktive Grafiken\n",
    "- [Vega-Altair](https://altair-viz.github.io/) um Grafiken deklarativ erzeugen zu können\n",
    "- ...\n",
    "\n",
    "Aber sozusagen __die Bibiliothek für Grafik__ in Python ist [Matplotlib](https://matplotlib.org/) .</br>\n",
    "\n",
    "Ein einfaches Beispiel ist der folgende Scatter-Plot mit Matplotlib:"
   ]
  },
  {
   "cell_type": "code",
   "execution_count": null,
   "id": "b1492810",
   "metadata": {
    "slideshow": {
     "slide_type": "subslide"
    }
   },
   "outputs": [],
   "source": [
    "import matplotlib.pyplot as plt\n",
    "\n",
    "x_vals = [10, 22.3, 3.5, 8, 1.5]\n",
    "y_vals = [2.3, 5, 7.8, 3.1, 1.2]\n",
    "\n",
    "# Einzeichnen der Balken\n",
    "plt.scatter(x_vals, y_vals, color='skyblue', marker = 'o')\n",
    "\n",
    "# Titel und Achsenbeschriftung\n",
    "plt.title(f'Scatterplot von {len(y_vals)} Werten')\n",
    "plt.xlabel('x')\n",
    "plt.ylabel('y')\n",
    "\n",
    "# Plot anzeigen\n",
    "plt.show()"
   ]
  },
  {
   "cell_type": "markdown",
   "id": "99e57791",
   "metadata": {
    "slideshow": {
     "slide_type": "subslide"
    }
   },
   "source": [
    "<div class=\"aufgabe\">\n",
    "    <h3>Balken-Diagramm für die Augensummen</h3>\n",
    "    Schreiben Sie mit Hilfe von Matplotlib eine Funktion, die die Liste der gewürfelten Augenzahlen erhält und daraus ein  Balken-Diagramm für die relativen Anteile der gewürfelten Augenzahlen erstellt! Sie können sich dabei durch <a href=\"https://matplotlib.org/stable/plot_types/basic/bar.html\">bar(x,height)</a> inspirieren lassen. Testen Sie Ihre Funktion mit den oben berechneten Anteilen!\n",
    "</div>"
   ]
  },
  {
   "cell_type": "code",
   "execution_count": null,
   "id": "b1d630d0",
   "metadata": {
    "slideshow": {
     "slide_type": "slide"
    }
   },
   "outputs": [],
   "source": [
    "import matplotlib.pyplot as plt\n",
    "\n",
    "def vis_eyes_prop(probs):\n",
    "# YOUR CODE HERE\n",
    "raise NotImplementedError()\n",
    "#Beispielaufruf\n",
    "vis_eyes_prop([0.1, 0.3, 0.0, 0.3, 0.2, 0.1])"
   ]
  },
  {
   "cell_type": "markdown",
   "id": "281dcce4",
   "metadata": {
    "slideshow": {
     "slide_type": "slide"
    }
   },
   "source": [
    "<div class=\"aufgabe\">\n",
    "    <h3></h3>\n",
    "    Kombinieren Sie Ihre Funktionen zum Würfeln und zum Berechnen der Anteile in einer Funktion, der man nur die Anzahl der Würfe angeben muss und die dann am Ende ein Diagramm der relativen Anteile und damit ein Histogramm als Ergebnis liefert!\n",
    "</div>"
   ]
  },
  {
   "cell_type": "code",
   "execution_count": null,
   "id": "2ad90af8",
   "metadata": {
    "slideshow": {
     "slide_type": "subslide"
    }
   },
   "outputs": [],
   "source": [
    "def hist_roll_dice(rolls):\n",
    "# YOUR CODE HERE\n",
    "raise NotImplementedError()\n",
    "hist_roll_dice(100000)\n"
   ]
  },
  {
   "cell_type": "markdown",
   "id": "6609cc9f",
   "metadata": {
    "slideshow": {
     "slide_type": "subslide"
    }
   },
   "source": [
    "Variieren Sie in der folgenden Zelle die Anzahl der Würfe vom kleinsten bis zum größten Wert:\n",
    "- Was könnne Sie beobachten?\n",
    "- Schätzen Sie den Würfel als fair ein?"
   ]
  },
  {
   "cell_type": "code",
   "execution_count": null,
   "id": "0530b2d2",
   "metadata": {
    "slideshow": {
     "slide_type": "fragment"
    }
   },
   "outputs": [],
   "source": [
    "def interactive_roll_dice(rolls):\n",
    "    print(f'Dice {rolls}')\n",
    "    hist_roll_dice(rolls)\n",
    "\n",
    "\n",
    "interact(interactive_roll_dice,  \n",
    "         rolls=IntSlider(min=10, max=100000, value=10, continuous_update=False))"
   ]
  },
  {
   "cell_type": "markdown",
   "id": "d1ad8763",
   "metadata": {
    "slideshow": {
     "slide_type": "slide"
    }
   },
   "source": [
    "Schauen wir uns den Verlauf der relativen Häufigkeit für das Würfeln einer $6$ für aufeinanderfolgende Würfe direkt an.\n",
    "\n",
    "_Anmerkung zum Code:_ <br/>\n",
    "Die Funktion `enumerate()` liefert einen Iterator, der zusätzlich zu den Elementen des übergebenen Objektes jeweils einen Zähler für die Position übergibt. "
   ]
  },
  {
   "cell_type": "code",
   "execution_count": null,
   "id": "f40bc55d",
   "metadata": {
    "slideshow": {
     "slide_type": "subslide"
    }
   },
   "outputs": [],
   "source": [
    "def plot_six(n):\n",
    "    plt.figure(figsize=(10,5))\n",
    "    plt.grid(True)\n",
    "    rolls = roll_dice(n)\n",
    "    six =[]\n",
    "    six_count = 0\n",
    "    for i,val in enumerate(rolls):\n",
    "        if val == 6:\n",
    "            six_count = six_count + 1\n",
    "        six.append(six_count/(i+1))\n",
    "    print(f'Anteil der Augenzahl 6 an allen Würfen {six[-1]}')\n",
    "    plt.plot(range(1,n+1), six, label=\"Relative Häufigkeit\")\n",
    "    plt.axhline(y=1/6, color='red', linestyle='--', linewidth=1, label=f\"P(6) = 1/6 = {1/6:.5f}\")\n",
    "    plt.xlabel(\"Anzahl Würfe\")\n",
    "    plt.ylabel(\"Anteil Augenzahl 6\")\n",
    "    plt.title(f\"Anteil der Augenzahl 6 innerhalb einer Wurffolge von {n} Würfen\")\n",
    "    plt.legend()\n",
    "    plt.show()\n",
    "\n",
    "interact(plot_six, \n",
    "         n=IntSlider(min=1, max=10000, value=10, continuous_update=False));"
   ]
  },
  {
   "cell_type": "markdown",
   "id": "29a477e2",
   "metadata": {
    "slideshow": {
     "slide_type": "slide"
    }
   },
   "source": [
    "<div class=\"satz\">\n",
    "    <h3>Das Starke Gesetz der großen Zahlen für Wahrscheinlichkeiten</h3>\n",
    "    Hat in einer Sequenz unabhängiger Versuche der Länge $n$ das Ereignis A jeweils die Wahrscheinlichkeit P(A), dann \n",
    "    konvergiert die relative Häufigkeit des Auftretens von A $H_n(A)$ in der Sequenz mit Wahrscheinlichkeit 1 gegen\n",
    "    den Grenzwert P(A).\n",
    "    $$\n",
    "    P\\left(\\lim_{n \\to \\infty} H_n(A) = P(A) \\right) = 1\n",
    "    $$\n",
    "</div>"
   ]
  },
  {
   "cell_type": "markdown",
   "id": "8ff07b89",
   "metadata": {
    "slideshow": {
     "slide_type": "slide"
    }
   },
   "source": [
    "## Bedingte Wahrscheinlichkeiten und der Satz von Bayes"
   ]
  },
  {
   "cell_type": "markdown",
   "id": "4a62ab99",
   "metadata": {
    "slideshow": {
     "slide_type": "fragment"
    }
   },
   "source": [
    "<div class=\"definition\">\n",
    "    <h3>Bedingte Wahrscheinlichkeit</h3>\n",
    "    Die bedingte Wahrscheinlichkeit\n",
    "    $$ \n",
    "        P(A|B) = \\frac{P(A \\cap B)}{P(B)}\n",
    "    $$\n",
    "    gibt die Wahrscheinlichkeit für das Ereignis $A$ an, wenn das Ereignis $B$ bereits eingetreten ist. \n",
    "</div>"
   ]
  },
  {
   "cell_type": "markdown",
   "id": "31c3ed9c",
   "metadata": {
    "slideshow": {
     "slide_type": "slide"
    }
   },
   "source": [
    "Es lässt sich für $P(B) > 0$ zeigen: \n",
    "$$\n",
    "\\begin{align*}\n",
    "P(A \\cap B) &=  P(B \\cap A) \\\\\n",
    "P(A|B) \\cdot P(B) &= P(B|A) \\cdot P(A) \\\\\n",
    "P(A|B) &= \\frac{P(B|A) \\cdot P(A)}{P(B)}\n",
    "\\end{align*}\n",
    "$$"
   ]
  },
  {
   "cell_type": "markdown",
   "id": "709a0d80",
   "metadata": {
    "slideshow": {
     "slide_type": "slide"
    }
   },
   "source": [
    "<div class=\"satz\">\n",
    "    <h3>Satz von Bayes</h3>\n",
    "    Für zwei Ereignisse $A$ und $B$ mit $P(B)>0$ kann die Wahrscheinlichkeit von $A$ unter der Bedingung, dass $B$ eingetreten ist, durch die Wahrscheinlichkeit von $B$ unter der Bedingung, dass $A$ eingetreten ist, mittels der folgenden Formel berechnen:\n",
    "    $$\n",
    "        P(A|B) = \\frac{P(B|A) \\cdot P(A)}{P(B)}\n",
    "    $$\n",
    "</div>"
   ]
  },
  {
   "cell_type": "markdown",
   "id": "6684311a",
   "metadata": {
    "slideshow": {
     "slide_type": "subslide"
    }
   },
   "source": [
    "Bedingte Wahrscheinlichkeiten lassen sich in Versuchen oft einfacher und besser über Pfadwahrscheinlichkeiten bestimmen:"
   ]
  },
  {
   "cell_type": "markdown",
   "id": "01d3171d",
   "metadata": {
    "slideshow": {
     "slide_type": "skip"
    }
   },
   "source": [
    "´´´mermaid\n",
    "graph LR\n",
    "    Start(\"#11044;\") -->|\"$$P(A)$$\"|A\n",
    "    A(\"A\") -->|\"$$P(B|A)$$\"| B(B)\n",
    "´´´\n",
    "$$\n",
    "P(B\\cap B) =  P(B|A) \\cdot P(A)\n",
    "$$"
   ]
  },
  {
   "cell_type": "markdown",
   "id": "aafb7883",
   "metadata": {
    "slideshow": {
     "slide_type": "fragment"
    }
   },
   "source": [
    "<img src=\"images/Pfadwahrscheinlichkeit.svg\" width=50% align=center alt=\"Pfadwahrscheinlichkeit für das Ereignis B falls A eingetreten ist\"/>\n",
    "$$\n",
    "P(A \\cap B) =  P(B|A) \\cdot P(A)\n",
    "$$"
   ]
  },
  {
   "cell_type": "markdown",
   "id": "48ea25ba",
   "metadata": {
    "slideshow": {
     "slide_type": "slide"
    }
   },
   "source": [
    "Wenden wir das in einer kleinen Aufgabe an:\n",
    "\n",
    "Eine Urne enthält 3 rote Kugeln und 5 grüne Kugeln und es werden daraus zwei Kugeln gezogen. Wie hoch sind die Wahrscheinlichkeiten dafür zwei rote $P(\\text{RR})$, zwei grüne $P(\\text{GG})$ oder eine rote und eine grüne Kugel zu ziehen $P(\\text{GR} \\cup \\text{RG})$?"
   ]
  },
  {
   "cell_type": "markdown",
   "id": "f7616a3d",
   "metadata": {
    "slideshow": {
     "slide_type": "skip"
    }
   },
   "source": [
    "´´´mermaid\n",
    "graph TD\n",
    "    Start(\"#11044;\") -->|\"$$P(\\text{R}) = \\frac{3}{8}$$\"| R1(\"Rot\")\n",
    "    Start -->|\"$$P(\\text{G}) = \\frac{5}{8}$$\"| G1(\"Grün\")\n",
    "    \n",
    "    R1 -->|\"$$P(\\text{R}|\\text{R}) = \\frac{2}{7}$$\"| R1R2(\"Rot, Rot\")\n",
    "    R1 -->|\"$$P(\\text{G}|\\text{R}) = \\frac{5}{7}$$\"| R1G1(\"Rot, Grün\")\n",
    "    \n",
    "    G1 -->|\"$$P(\\text{R}|\\text{G}) = \\frac{3}{7}$$\"| G1R1(\"Grün, Rot\")\n",
    "    G1 -->|\"$$P(\\text{G}|\\text{G}) = \\frac{4}{7}$$\"| G1G2(\"Grün, Grün\")\n",
    "´´´"
   ]
  },
  {
   "cell_type": "markdown",
   "id": "a9c9feef",
   "metadata": {
    "slideshow": {
     "slide_type": "subslide"
    }
   },
   "source": [
    "<img src=\"images/Rot3Gruen5Kugelbeispiel.svg\" width=50% align=center alt=\"Pfadwahrscheinlichkeit für das Ereignis B falls A eingetreten ist\"/>\n",
    "\n",
    "$$\n",
    "\\begin{align*}\n",
    "P(\\text{RR}) &= \\frac{3}{8} \\cdot \\frac{2}{7} = \\frac{6}{56} = 0.1071429 \\\\\n",
    "P(\\text{GR} \\cup \\text{RG}) &= P(\\text{GR}) + P(\\text{RG}) = \\frac{3}{8} \\cdot \\frac{5}{7}  + \\frac{5}{8} \\cdot \\frac{3}{7} = \\frac{15}{56} + \\frac{15}{56}  = \\frac{30}{56} = 0.5357143 \\\\\n",
    "P(\\text{GG}) &= \\frac{5}{8} \\cdot \\frac{4}{7} = \\frac{20}{56} = 0.3571429\n",
    "\\end{align*}\n",
    "$$"
   ]
  },
  {
   "cell_type": "markdown",
   "id": "58992ff4",
   "metadata": {
    "slideshow": {
     "slide_type": "slide"
    }
   },
   "source": [
    "## Das berühmte Monty Hall Problem\n",
    "\n",
    "Dieses Problem, das man auch unter den Namen __Ziegenproblem__ oder __Drei-Türen-Problem__ kennt, ist nach dem Moderator _Monty Hall_ der amerikanischen Spielshow _Let's make a deal_ benannt. Formuliert wurde Sie allerdings erstmals von Steve Selvin 1975 im _American Statistician_. Berühmt wurde die Aufgabe allerdings dadurch, dass ein Leser diese Aufgabe 1990 _Marilyn vos Santos_ in ihrer Kolumne _Ask Marilyn_ im Magazin _Parade_ stellte. Ihre Lösung war Anlass einer teilweise sehr hitzig und emotional geführten Debatte um die von ihr präsentierten Lösung."
   ]
  },
  {
   "cell_type": "markdown",
   "id": "04b97723",
   "metadata": {
    "slideshow": {
     "slide_type": "subslide"
    }
   },
   "source": [
    "<img src=\"images/MontyHall.jpg\" width=30% align=right alt=\"Monty Hall Problem\"/>\n",
    "\n",
    "_Das Monty Hall Problem:_ <br/>\n",
    "\n",
    "Sie nehmen an einer Spielshow teil und haben die Wahl zwischen drei Türen, hinter einer Tür verbirgt sich ein wertvoller Preis, hinter den beiden anderen Türen eine _Niete_, symbolisiert durch eine Ziege. Der Moderator weiß genau, was sich hinter welcher Tür befindet. Er bittet Sie eine Tür auszuwählen, hinter der Sie den wertvollen Preis vermuten. "
   ]
  },
  {
   "cell_type": "markdown",
   "id": "2d71d4af",
   "metadata": {
    "slideshow": {
     "slide_type": "subslide"
    }
   },
   "source": [
    "<img src=\"images/MontyHallZiege.jpg\" width=30% align=right alt=\"Monty Hall Problem - weitere geöffnete Tür\"/>\n",
    "\n",
    "Haben Sie die Tür ausgewählt und sich festgelegt, öffnet der Moderator eine der restlichen beiden Türen, hinter der ein Ziege ist und fragt sie, ob sie bei ihrer anfänglichen Wahl bleiben oder auf die andere, noch verschlossene Tür wechseln wollen.<br/>\n",
    "Was ist die bessere Strategie? Steigern sie ihre Chancen, wenn sie jetzt wechseln oder nicht?\n",
    "\n",
    "Was sagen Sie? Kann man ruhig bei seiner ursprünglichen Wahl bleiben oder ist es besser zu wechseln? Schauen Sie nicht nach, sondern versuchen Sie sich selbst einen Eindruck zu verschaffen. Eine Möglichkeit besteht in der Benutzung bedingter Wahrscheinlichkeiten, aber auch informationstheoretische Argumente wären möglich."
   ]
  },
  {
   "cell_type": "markdown",
   "id": "3db51fd0",
   "metadata": {
    "slideshow": {
     "slide_type": "skip"
    }
   },
   "source": [
    "---\n",
    "## <span style=\"color:red\">Student Answer</span>\n",
    "\n",
    "*Double-click and add your answer between the lines*\n",
    "\n",
    "---"
   ]
  },
  {
   "cell_type": "markdown",
   "id": "e3300faf",
   "metadata": {
    "slideshow": {
     "slide_type": "subslide"
    }
   },
   "source": [
    "---\n",
    "## <span style=\"color:red\">Student Answer</span>\n",
    "\n",
    "*Double-click and add your answer between the lines*\n",
    "\n",
    "---"
   ]
  },
  {
   "cell_type": "markdown",
   "id": "7f6fb141",
   "metadata": {
    "slideshow": {
     "slide_type": "skip"
    }
   },
   "source": [
    "---\n",
    "## <span style=\"color:red\">Student Answer</span>\n",
    "\n",
    "*Double-click and add your answer between the lines*\n",
    "\n",
    "---"
   ]
  },
  {
   "cell_type": "markdown",
   "id": "dcdbe806",
   "metadata": {
    "slideshow": {
     "slide_type": "subslide"
    }
   },
   "source": [
    "---\n",
    "## <span style=\"color:red\">Student Answer</span>\n",
    "\n",
    "*Double-click and add your answer between the lines*\n",
    "\n",
    "---"
   ]
  },
  {
   "cell_type": "markdown",
   "id": "8ebf1a11",
   "metadata": {
    "slideshow": {
     "slide_type": "subslide"
    }
   },
   "source": [
    "Die ganze Geschichte um das Problem und die vielen möglichen Varianten es zu lösen können Sie - bei Gelegenheit - noch einmal unter [Monty Hall Problem (engl. Wikipedia)](https://en.wikipedia.org/wiki/Monty_Hall_problem) oder [Das Ziegenproblem (deut. Wikipedia)](https://de.wikipedia.org/wiki/Ziegenproblem) nachlesen.\n",
    "\n",
    "Zur Sicherheit schreiben wir eine Simulation, um unsere Lösung zu überprüfen."
   ]
  },
  {
   "cell_type": "markdown",
   "id": "958f24a2",
   "metadata": {
    "slideshow": {
     "slide_type": "subslide"
    }
   },
   "source": [
    "Schreiben Sie als erstes Python-Code, der zufällig einen Preis hinter einer der Türen versteckt, nach der gewählten Tür fragt, dann die Tür der beiden verbleibenden öffnet, hinter der eine weitere Ziege steckt und danach fragt, ob man jetzt noch wechseln möchte oder nicht.\n",
    "- Die Türen werden einfach durchnummeriert.\n",
    "- Die Abfrage der beiden Strategien ist:\n",
    "    - `b` für Bleiben\n",
    "    - `w` für Wechseln"
   ]
  },
  {
   "cell_type": "code",
   "execution_count": null,
   "id": "0f4b0163",
   "metadata": {
    "slideshow": {
     "slide_type": "subslide"
    }
   },
   "outputs": [],
   "source": [
    "# YOUR CODE HERE\n",
    "raise NotImplementedError()\n",
    "#Beispielablauf:\n",
    "#Wählen Sie die Tür 1, 2 oder 3!\n",
    "# 2\n",
    "#Hinter Tür 3 ist eine Ziege!\n",
    "#Möchten Sie bei Ihrer Wahl bleiben (b) 2 oder die Tür wechseln (w)?\n",
    "# w\n",
    "#Sie haben gewonnen!"
   ]
  },
  {
   "cell_type": "markdown",
   "id": "508ef70b",
   "metadata": {
    "slideshow": {
     "slide_type": "subslide"
    }
   },
   "source": [
    "Wie wird es sich auswirken, wenn wir statt 3 Türen $n$ Türen haben hinter denen sich ein Preis und $n-1$ Ziegen verbergen? D.h. der Moderator würde $n-2$ Türen öffnen, nachdem Sie sich auf eine Tür festgelegt haben und Sie danach fragen, ob sie auf die noch geschlossene Tür wechseln wollen.\n",
    "\n",
    "Erweitern Sie Ihren oben geschriebenen Code auf einstellbar viele Türen!"
   ]
  },
  {
   "cell_type": "code",
   "execution_count": null,
   "id": "00d6e04e",
   "metadata": {
    "slideshow": {
     "slide_type": "subslide"
    }
   },
   "outputs": [],
   "source": [
    "# YOUR CODE HERE\n",
    "raise NotImplementedError()\n",
    "#Beispielablauf:\n",
    "#Wählen Sie eine zufällige Tür zwischen 0 und 10!\n",
    "# 6\n",
    "#Hinter allen Türen außer 6 und 2 sind Ziegen.\n",
    "#Möchten Sie bei Ihrer Wahl bleiben (b) 6 oder die Tür wechseln (w)?\n",
    "# w\n",
    "#Sie haben gewonnen!"
   ]
  },
  {
   "cell_type": "markdown",
   "id": "7a99c5bd",
   "metadata": {
    "slideshow": {
     "slide_type": "subslide"
    }
   },
   "source": [
    "__Aufgabe:__ Wir kommen zur eigentlichen Simulation und führen das Spiel mehrfach mit den beiden Strategien \"Immer wechseln\" und \"Nie wechseln\" aus. \n",
    "- Ersetzen Sie die erste Eingabe `input()` mit einer zufälligen Tür und die zweite mit Ihrer Strategie.\n",
    "- Setzen Sie alles in eine Schleife, um es 10 mal laufen zu lassen.\n",
    "- Fügen Sie Code hinzu, um zu zählen, wie oft Sie gewonnen oder verloren haben. \n",
    "- Entfernen bzw. kommentieren Sie alle `print`-Kommandos aus.\n",
    "- Lassen Sie die Schleife 1000 mal statt 10 mal laufen.\n",
    "- Stellen Sie das Ergebnis als Säulengrafik dar.\n",
    "\n",
    "_Hinweis_: Wählen Sie einen Block aus und drücken Sie TAB, um ihn einzuziehen oder Shift+TAB um den Einzug zu entfernen. Via Ctrl+/ können Sie ein- und auskommentieren.<br>"
   ]
  },
  {
   "cell_type": "code",
   "execution_count": null,
   "id": "992812cd",
   "metadata": {
    "slideshow": {
     "slide_type": "subslide"
    }
   },
   "outputs": [],
   "source": [
    "# YOUR CODE HERE\n",
    "raise NotImplementedError()"
   ]
  },
  {
   "cell_type": "markdown",
   "id": "52e73f18",
   "metadata": {
    "slideshow": {
     "slide_type": "subslide"
    }
   },
   "source": [
    "__Bonus-Aufgabe:__ <br/>\n",
    "Zeichnen Sie eine Säulengrafik, die den Effekt der verschiedenen Anzahl von Türen für 3 bis 10 Türen visuell darstellt. Zeichnen Sie die _Gewinn-Säulen_ in einer anderen Farbe als die _Verlust-Säulen_. "
   ]
  },
  {
   "cell_type": "code",
   "execution_count": null,
   "id": "9273cacc",
   "metadata": {
    "scrolled": true,
    "slideshow": {
     "slide_type": "subslide"
    }
   },
   "outputs": [],
   "source": [
    "# YOUR CODE HERE\n",
    "raise NotImplementedError()"
   ]
  },
  {
   "cell_type": "markdown",
   "id": "abeb180c",
   "metadata": {
    "slideshow": {
     "slide_type": "slide"
    }
   },
   "source": [
    "# Footer"
   ]
  },
  {
   "cell_type": "code",
   "execution_count": null,
   "id": "5cc835ac",
   "metadata": {
    "scrolled": true,
    "slideshow": {
     "slide_type": "fragment"
    }
   },
   "outputs": [],
   "source": [
    "#Ausführen, um den aktuellen Footer anzuzeigen\n",
    "from IPython.display import HTML\n",
    "HTML(filename='files/footer.html')"
   ]
  },
  {
   "cell_type": "code",
   "execution_count": null,
   "id": "0b680f7c-f427-4934-a113-a0054ca77ef7",
   "metadata": {},
   "outputs": [],
   "source": []
  }
 ],
 "metadata": {
  "celltoolbar": "Slideshow",
  "file_extension": ".py",
  "kernelspec": {
   "display_name": "Python 3 (ipykernel)",
   "language": "python",
   "name": "python3"
  },
  "language_info": {
   "codemirror_mode": {
    "name": "ipython",
    "version": 3
   },
   "file_extension": ".py",
   "mimetype": "text/x-python",
   "name": "python",
   "nbconvert_exporter": "python",
   "pygments_lexer": "ipython3",
   "version": "3.12.3"
  },
  "mimetype": "text/x-python",
  "name": "python",
  "npconvert_exporter": "python",
  "pygments_lexer": "ipython3",
  "rise": {
   "autolaunch": false,
   "backimage": "images/python-logo-only.svg",
   "enable_chalkboard": true,
   "footer": "<h3>DHBW Stuttgart</h3>",
   "header": "<h1>Scientific Programming Lab</h1>",
   "scroll": true,
   "theme": "serif",
   "transition": "convex"
  },
  "version": 3
 },
 "nbformat": 4,
 "nbformat_minor": 5
}
