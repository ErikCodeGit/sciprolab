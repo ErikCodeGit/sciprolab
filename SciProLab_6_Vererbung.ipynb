{
 "cells": [
  {
   "cell_type": "code",
   "execution_count": null,
   "id": "71725de8",
   "metadata": {
    "slideshow": {
     "slide_type": "skip"
    }
   },
   "outputs": [
    {
     "ename": "",
     "evalue": "",
     "output_type": "error",
     "traceback": [
      "\u001b[1;31mRunning cells with 'Python 3.13.3' requires the ipykernel package.\n",
      "\u001b[1;31m<a href='command:jupyter.createPythonEnvAndSelectController'>Create a Python Environment</a> with the required packages."
     ]
    }
   ],
   "source": [
    "#Bitte ausführen, damit alles Notwendige importiert wird\n",
    "#Note: Bei Änderungen der zugrundeliegenden Python-Files muss Jupyter neugestartet werden\n",
    "import scipro\n",
    "import sciprotypes"
   ]
  },
  {
   "cell_type": "code",
   "execution_count": null,
   "id": "2670d2e4",
   "metadata": {
    "scrolled": true,
    "slideshow": {
     "slide_type": "skip"
    }
   },
   "outputs": [],
   "source": [
    "%%html\n",
    "<!--Bitte diese Cell mit Run ausführen, damit die Styles geladen werden-->\n",
    "<!--Bei Änderungen des CSS muss das Notebook im Browser neu geladen werden-->\n",
    "<link rel=\"stylesheet\" href=\"./styles/sciprolab.css\">\n"
   ]
  },
  {
   "cell_type": "markdown",
   "id": "unique-crisis",
   "metadata": {
    "slideshow": {
     "slide_type": "slide"
    }
   },
   "source": [
    "# Scientific Programming Lab\n"
   ]
  },
  {
   "cell_type": "markdown",
   "id": "26fee67a-d199-4636-999c-446847fd6234",
   "metadata": {},
   "source": [
    "## Vererbung"
   ]
  },
  {
   "cell_type": "markdown",
   "id": "dfc7bb99-f65c-4e4a-8023-7e316e9be083",
   "metadata": {},
   "source": [
    "- Mathematische Inhalte\n",
    "  - Geometrie und Koordinaten\n",
    "  - Volumen, Fläche, Länge\n",
    "  - Geraden, Strecken, Strahlen\n",
    "  - Ebenen\n",
    "- Informatische Inhalte\n",
    "  - Erweiterte Prinzipien von _Klassen_ in objektorientierten Programmiersprachen\n",
    "  - Verknüpfungen von Klassen durch _Vererbung_ und _Assoziation_\n",
    "  - Erweiterte Techniken der Vererbung und _Mehrfachvererbung_"
   ]
  },
  {
   "cell_type": "markdown",
   "id": "543a2d73",
   "metadata": {
    "slideshow": {
     "slide_type": "slide"
    }
   },
   "source": [
    "### Klassen als Grundlage der Modellierung"
   ]
  },
  {
   "cell_type": "markdown",
   "id": "08ace6e3-1c40-4155-936a-a894a11c8413",
   "metadata": {},
   "source": [
    "In Themenblock 3 haben Sie bereits die Grundlagen der *Objektorientierten Programmierung* kennengelernt. Ein wesentliches Merkmal sind dabei *Klassen*, mit denen Datenstrukturen und dazugehörige Methoden gemeinsam in einem Code-Abschnitt definiert werden können. Das Speichern konkreter Daten nach einem solchen Schema ist jedoch erst dann möglich, wenn Sie ein konkretes Objekt nach dem Schema dieser Klasse erzeugen. Man spricht hier vom *Instantiieren* einer Klasse. Eine Klasse kann beliebig oft instantiiert werden, jede Instanz ist ein konkretes Objekt mit konkreten einzelnen Werten, die jedoch alle dem gleichen Schema (der Klasse) folgen.\n",
    "\n",
    "Im folgenden Beispiel sehen Sie eine einfache Klassendefinition für einen mathematischen Vektor im $\\mathbb{R}^3$ (dies ist noch kein Objekt) und die dreifache Instantiierung dieser Klasse (dies sind drei Objekte mit konkreten Werten)."
   ]
  },
  {
   "cell_type": "code",
   "execution_count": null,
   "id": "98fcad30-1538-46e4-bdba-cbcab5a976c9",
   "metadata": {
    "slideshow": {
     "slide_type": "slide"
    }
   },
   "outputs": [],
   "source": [
    "import numpy as np\n",
    "import math\n",
    "\n",
    "# Definition einer Klasse (noch kein Objekt)\n",
    "class Vector:\n",
    "    \"\"\"\n",
    "    Diese Klasse repräsentiert einfache Vektoren\n",
    "    \"\"\"\n",
    "    def __init__(self, vec):\n",
    "        \"\"\" Initialisierungsmethode (Konstruktor) der Klasse \"\"\"\n",
    "        self.vec = np.array(vec)\n",
    "        self.length = len(vec)\n",
    "    def __str__(self):\n",
    "        \"\"\" Konvertiere Werte des Vektors zu einer Zeichenkette \"\"\"\n",
    "        return \"<\" + \",\".join([repr(i) for i in self.vec]) + \">\"\n",
    "    def norm(self):\n",
    "        \"\"\" Berechne euklidsche Länge \"\"\"\n",
    "        s = sum([x*x for x in self.vec])\n",
    "        return math.sqrt(s);\n",
    "\n",
    "# Mehrfache Instantiierung der Klasse (erstellt konkrete Objekte)\n",
    "v1 = Vector([2, 1, 2])\n",
    "v2 = Vector([0, 3, 4])\n",
    "v3 = Vector([7, 4, 0])\n",
    "print(v1, v1.norm())\n",
    "print(v2, v2.norm())\n",
    "print(v3, v3.norm())\n",
    "        "
   ]
  },
  {
   "cell_type": "markdown",
   "id": "b88eb73e-8226-4faf-8246-4ce4e298a328",
   "metadata": {},
   "source": [
    "Eine Klasse ist somit ein Hilfsmittel, mit dem in einer Programmiersprache Artefakte modelliert werden können, oft sind dies Artefakte der realen Welt. Wenn Sie eine Anwendungssoftware implementieren, modellieren Sie diejenigen Strukturen der realen Welt im Code, die Sie in der Anwendung verwalten wollen oder dort anderweitig benötigen.\n",
    "\n",
    "So würden Sie beispielsweise bei einem Webshop eine Klasse implementieren, die einen Artikel repräsentiert, mit allen wichtigen Eigenschaften wie Artikelnummer, Bezeichnung, Preis, etc und Methoden, die mit diesen Daten umgehen. Diese Klasse in Form von Code in einer objektorientierten Programmiersprache ist somit ein Modell des realen Artefakts. Bei jeder Art der Modellierung treten dabei zwei Effekte auf:\n",
    "1) Nicht alle Eigenschaften des Artefakts werden im Modell umgesetzt, d. h. konkret lassen Sie bei der Erstellung der Klassen Eigenschaften weg, da sie für die Anwendung irrelevant sind. Im oben genannten Beispiel des Webshops wäre das etwas das Gewicht des Artikels, wenn dies für den Webshop irrelevant ist.\n",
    "2) Im Zuge der Modellierung kommen neue künstliche Elemente hinzu, die das ursprüngliche Artefakt nicht hatte. So haben Sie in der implementierten Klasse oft zusätzliche Attribute, wie z. B. Statusflags oder programmierbedingte Datenstrukturen, die künstlich im Rahmen der Modellierung ergänzt werden mussten. Im obigen Beispiel des Webshops wären das z. B. die Anzeigeeinstellungen eines Artikels.\n",
    "\n",
    "Bei der Erstellung der Klassenstrukturen sollten Sie darauf achten, welche Attribute und Methoden aufgrund welcher dieser beiden Effekte hinzugefügt wurden. Bei der Programmierung von wissenschaftlichen Anwendungen ist dieser Aspekt besonders zu beachten, da die Artefakte, die Sie im Rahmen der Programmierung modellieren, oft selbst bereits Modelle sind.\n"
   ]
  },
  {
   "cell_type": "markdown",
   "id": "2a258b4e-e852-44df-abda-579003c0b0aa",
   "metadata": {},
   "source": [
    "### Verknüpfungen mehrerer Klassen"
   ]
  },
  {
   "cell_type": "markdown",
   "id": "679c38e7-783b-469d-a237-618a12a6c8d3",
   "metadata": {},
   "source": [
    "Je nach Größe der Anwendung kann ein Programm aus nur sehr wenigen bis hin zu vielen tausend Klassen bestehen. Die Klassen stehen dabei jedoch üblicherweise in einem bestimmten Zusammenhang zueinander. So kann z. B. in einer Klasse ein Attribut definiert sein, das selbst vom Typ einer anderen Klasse ist. Man spricht hier von einer **Assoziation** oder einer \"Hat-Ein-Beziehung\", da ein Objekt einer Klasse ein Objekt einer anderen Klasse \"hat\". Im Beispiel des Webshops könnte die Klasse *Artikel* ein Attribut *Herstelleradresse* haben, wobei Herstelleradresse wiederum ein Objekt vom Typ einer Klasse *Adresse* ist, die wiederum mehrere einzelne Attribute enthält wie z. B. Straße, Hausnummer, Postleitzahl, Wohnort."
   ]
  },
  {
   "cell_type": "markdown",
   "id": "b79feeb2-ef1e-43ce-926f-b30a4790b5a1",
   "metadata": {},
   "source": [
    "Nehmen wir an, jeder Vektor soll zusätzlich noch einen kleinen Beschreibungstext haben. Das folgende Code-Beispiel zeigt eine mögliche Modellierung hierzu. Versuchen Sie zunächst, den Code im Beispiel unten vollständig zu verstehen.\n",
    "\n",
    "\n",
    "<div class=\"aufgabe\">\n",
    "    <h3>Beschreibung von Vektoren</h3>\n",
    "    Die Beschreibung (description) eines Vectors soll nicht mehr nur ein Text sein, sondern zusätzlich noch aus einem Autornamen <em>author</em> (welche Person hat diese Beschreibung erstellt) und Informationen zur mathematischen Einheit der Werte <em>unit</em> (z. B. Meter oder Zentimeter) enthalten. Modellieren Sie hierzu eine neue eigene Klasse <em>Description</em> und bauen Sie die Klasse <em>Vector</em> entsprechend um. Schreiben Sie für die Klasse <em>Description</em> auch eine eigene <em>str</em>-Methode (nach eigenem Ermessen, wie der Rückgabewert hier aussehen soll) und binden Sie die Beschreibung als Assoziation ein. Ergänzen Sie auch die Instantiierung der drei Beispiel-Vektoren entsprechend, Sie können die konkreten Werte jeweils beliebig erfinden. Trennen Sie klar zwischen Klassendefinitionen und konkreten Objekten (Instanzen).\n",
    "</div>"
   ]
  },
  {
   "cell_type": "code",
   "execution_count": null,
   "id": "ee01a520-e0c9-45e6-bfa2-031257af7004",
   "metadata": {
    "slideshow": {
     "slide_type": "slide"
    }
   },
   "outputs": [],
   "source": [
    "import numpy as np\n",
    "import math\n",
    "\n",
    "# Definition einer Klasse (noch kein Objekt)\n",
    "class Vector:\n",
    "    \"\"\"\n",
    "    Diese Klasse repräsentiert einfache Vektoren\n",
    "    \"\"\"\n",
    "    def __init__(self, vec, description):\n",
    "        \"\"\" Initialisierungsmethode (Konstruktor) der Klasse \"\"\"\n",
    "        self.vec = np.array(vec)\n",
    "        self.length = len(vec)\n",
    "        self.description = description\n",
    "    def __str__(self):\n",
    "        \"\"\" Konvertiere Werte des Vektors zu einer Zeichenkette \"\"\"\n",
    "        return f\"{self.description} : <{\",\".join([repr(i) for i in self.vec])}>\"\n",
    "    def norm(self):\n",
    "        \"\"\" Berechne euklidsche Länge \"\"\"\n",
    "        s = sum([x*x for x in self.vec])\n",
    "        return math.sqrt(s);\n",
    "\n",
    "# Mehrfache Instantiierung der Klasse (erstellt konkrete Objekte)\n",
    "v1 = Vector([2, 0, 1], \"mein erster Vektor\")\n",
    "v2 = Vector([4, 2, 0], \"noch ein Vektor\")\n",
    "v3 = Vector([5, 1, 4], \"letzter Vektor\")\n",
    "print(v1)\n",
    "print(v2)\n",
    "print(v3)\n",
    "\n",
    "# YOUR CODE HERE\n",
    "raise NotImplementedError()\n"
   ]
  },
  {
   "cell_type": "markdown",
   "id": "30043dd5-2c15-4e59-9b9c-1be5e899d458",
   "metadata": {},
   "source": [
    "Bei der Erstellung von Klassen kann es auch vorkommen, dass eine Klasse eine Spezialisierung einer anderen Klasse ist. Wenn im Beispiel des Webshops die Klasse *Kunde* die Daten eines Kunden modelliert wie z. B. *Benutzername*, *Name*, *E-Mail-Adresse*, etc., dann ist die Klasse *Firmenkunde* eine Spezialisierung hierzu, da ein Firmenkunde zwar ein Kunde ist, jedoch weitere (spezielle) Eigenschaften besitzt wie z. B. *Gesellschaftsform*, *Webseite* oder *Umsatzsteuer-ID*. Anstatt bei der Definition dieser spezielleren Klasse nochmal alle Attribute und Methoden der allgemeineren Klasse aufzulisten, bieten objektorientierte Programmiersprachen das Konzept der **Vererbung** an. Vererbung in diesem Sinne bedeutet, dass bei der Definition einer Klasse eine weitere Klasse genannt wird, von der alle Attribute und Methoden *vererbt* werden, d. h. automatisch mit in die speziellere Klasse übernommen werden."
   ]
  },
  {
   "cell_type": "markdown",
   "id": "41c64270-7328-48fd-8b6f-565ab7305ef2",
   "metadata": {},
   "source": [
    "Die Vererbung kann auch als \"Ist-Ein-Beziehung\" bezeichnet werden, da ein Objekt einer Klasse auch gleichzeitig vom Typ der darüberliegenden Klasse \"ist\". Ein *Firmenkunde* ist ein *Kunde*, aber auch ein *Privatkunde* ist ein *Kunde*. Es lassen sich so ganze Vererbungshierarchien aufbauen, z. B. ist ein *Kunde* auch eine *Person* und ein *Firmengroßkunde* ist ein *Firmenkunde*. Wichtig bei der Modellierung ist, dass Sie die Vererbung nur dann nutzen, wenn es sich auch tatsächlich um eine \"Ist-Ein-Beziehung\" handelt, andernfalls wird es schwierig, die Vererbungsstrukturen zwischen den Klassen gut nachzuvollziehen. Beispielweise könnte man auf die Idee kommen, die Klasse \"Person\" als Spezialisierung der Klasse \"Adresse\" zu modellieren, da alle Eigenschaften einer Adresse auch als Eigenschaft der Klasse *Person* vorkommen. Aus technischer Sicht spricht hier zwar nichts dagegen, aber in Bezug auf die Verständlichkeit und Nachvollziehbarkeit der Codes sollten Sie davon Abstand nehmen."
   ]
  },
  {
   "cell_type": "markdown",
   "id": "e63567fc-429a-4e5e-acb7-ba8a3fe97384",
   "metadata": {},
   "source": [
    "In Python können Sie Vererbung anwenden, in dem Sie in der Klassendefinition unmittelbar hinter dem Klassenbezeichner in Klammern angeben, von welcher Klasse alle Methoden und Attribute geerbt werden sollen. Die Basis für den Python-Code aus dem obigen Beispiel (Firmenkunde ist ein Kunde - Kunde ist eine Person) sieht dann folgendermaßen aus:"
   ]
  },
  {
   "cell_type": "code",
   "execution_count": null,
   "id": "b95d6550-b6bf-4246-8bac-343152a58194",
   "metadata": {},
   "outputs": [],
   "source": [
    "class Person:\n",
    "    def __init__(self, benutzername, name, email):\n",
    "        self.benutzername = benutzername\n",
    "        self.name = name\n",
    "        self.emailadresse = email\n",
    "\n",
    "class Kunde(Person):\n",
    "    def __init__(self, benutzername, name, email, kundennummer):\n",
    "        super().__init__(benutzername, name, email)\n",
    "        self.kundennummer = kundennummer\n",
    "\n",
    "class Firmenkunde(Kunde):\n",
    "    def __init__(self, benutzername, name, email, kundennummer, gesellschaftsform, webseite, umsatzsteuerId):\n",
    "        super().__init__(benutzername, name, email, kundennummer)\n",
    "        self.gesellschaftsform = gesellschaftsform\n",
    "        self.webseite = webseite\n",
    "        self.umsatzsteuerId = umsatzsteuerId\n",
    "\n",
    "def logTypes(var, varname):\n",
    "    if isinstance(var, Person):\n",
    "        print(f\"{varname} ist Person name={var.name}\")\n",
    "    if isinstance(var, Kunde):\n",
    "        print(f\"{varname} ist Kunde kundennummer={var.kundennummer}\")\n",
    "    if isinstance(var, Firmenkunde):\n",
    "        print(f\"{varname} ist Firmenkunde webseite={var.webseite}\")\n",
    "    print()\n",
    "\n",
    "p = Person(\"Peter Person\", \"pperson\", \"peter@person.net\")\n",
    "k = Kunde(\"Karla Kundin\", \"karkun\", \"karkun@free.mail\", \"12345\")\n",
    "f = Firmenkunde(\"Günther Gutfirm\", \"gutfirm\", \"beschaffung@gut.firm\", \"67890\", \"GmbH\", \"www.gut.firm\", \"DE124356789\")\n",
    "\n",
    "logTypes(p, \"p\")\n",
    "logTypes(k, \"k\")\n",
    "logTypes(f, \"f\")\n",
    "\n"
   ]
  },
  {
   "cell_type": "markdown",
   "id": "03281fa7-48d6-4830-9727-03f642f1eada",
   "metadata": {},
   "source": [
    "Mittels `isinstance` lassen sich die \"Ist-Ein\"-Beziehungen auch zu Laufzeit ermitteln. Wir sprechen bei den beiden in der Vererbung zueinander stehenden Klassen auch von der Eltern- oder **Basisklasse** (engl. superclass) und der Kind- oder **Unterklasse** (engl. subclass).\n",
    "Aus der Kindklasse lässt sich mittels `super()` auf die Elternklasse zugreifen. Dies wird wie im Beispiel oft dazu verwendet, den Konstruktor der Basisklasse aus dem Konstruktor der Unterklasse aufzurufen."
   ]
  },
  {
   "cell_type": "markdown",
   "id": "1b070de4-82a4-407d-857f-4dda7dd291bb",
   "metadata": {},
   "source": [
    "Achtung: `isinstance` und `type` zum Überprüfen von Klassenzugehörigkeit unterscheiden sich: Während `isinstance` wahr ergibt, wenn das Objekt genau der Klasse oder eine Unterklasse angehört, ist der Vergleich von `type` nur dann wahr, wenn das Objekt genau zu der Klasse gehört."
   ]
  },
  {
   "cell_type": "code",
   "execution_count": null,
   "id": "13059abb-2c81-47d0-9840-0ef41cb40e18",
   "metadata": {},
   "outputs": [],
   "source": [
    "print(f\"isinstance(k, Person)={isinstance(k, Person)}\")\n",
    "print(f\"type(k) is Person={type(k) is Person}\")\n",
    "print(f\"isinstance(k, Kunde)={isinstance(k, Kunde)}\")\n",
    "print(f\"type(k) is Kunde={type(k) is Kunde}\")\n",
    "print(f\"isinstance(k, Firmenkunde)={isinstance(k, Firmenkunde)}\")\n",
    "print(f\"type(k) is Firmenkunde={type(k) is Firmenkunde}\")"
   ]
  },
  {
   "cell_type": "markdown",
   "id": "ce645d86-781a-48cd-b9e3-45a83f387c16",
   "metadata": {},
   "source": [
    "### Polymorphie und das Open/Closed-Prinzip"
   ]
  },
  {
   "cell_type": "markdown",
   "id": "7cce5ce5-ae73-4580-9dc9-c56e4f8604ab",
   "metadata": {},
   "source": [
    "Wir haben bereits gesehen, dass man mit Vererbung Spezialisierungen von Klassen/Objekten modellieren kann. Welche Vorteile hat das nun bei der Software-Entwicklung?\n",
    "\n",
    "Unter *Polymorphie* versteht man, dass Objekte verschiedener Klassen über ein und dieselbe Schnittstelle behandelt werden können. Sie kennen bereits ein Beispiel. Die print-Funktion kann Objekte verschiedenster Klassen ausgeben, solange diese über eine `__str__`-Methode verfügen.\n",
    "\n"
   ]
  },
  {
   "cell_type": "code",
   "execution_count": null,
   "id": "45978adf-f8b8-4ed3-a07a-f13e1abf9253",
   "metadata": {},
   "outputs": [],
   "source": [
    "class NoStringMethod:\n",
    "    def __init__(self, name):\n",
    "        self.name = name\n",
    "    \n",
    "    pass\n",
    "\n",
    "class WithStringMethod:\n",
    "    def __init__(self, name):\n",
    "        self.name = name\n",
    "    \n",
    "    def __str__(self):\n",
    "        return self.name\n",
    "\n",
    "nsm = NoStringMethod(\"Hallo Welt\")\n",
    "print(f\"nsm={nsm}\")\n",
    "wsm = WithStringMethod(\"Hallo Welt\")\n",
    "print(f\"wsm={wsm}\")"
   ]
  },
  {
   "cell_type": "markdown",
   "id": "0ac22530-4f06-4952-a024-e4f2db7308bd",
   "metadata": {},
   "source": [
    "Warum gibt es bei der Klasse `NoStringMethod` trotzdem eine Ausgabe?\n",
    "\n",
    "Alle Klassen in Python stammen von der Basisklasse `object` ab (Details in der [Python-Doku](https://docs.python.org/3/reference/datamodel.html)). Diese bringt bereits Default-Implementierungen für Methoden wie `__str__` mit."
   ]
  },
  {
   "cell_type": "code",
   "execution_count": null,
   "id": "1920d112-1535-4cd9-811a-988c601f3d50",
   "metadata": {},
   "outputs": [],
   "source": [
    "print(issubclass(NoStringMethod, object)) "
   ]
  },
  {
   "cell_type": "markdown",
   "id": "5c9d8df2-b75c-41f7-8259-e1683307f236",
   "metadata": {},
   "source": [
    "Wenn man selbst eine bereits bestehende Methode nochmal implementiert, dann **überschreibt** man sie (engl. override).\n",
    "\n",
    "Zur Laufzeit sucht Python eine Methode von der Unterklasse zur Oberklasse und wählt die spezifischste passende Implementierung:"
   ]
  },
  {
   "cell_type": "code",
   "execution_count": null,
   "id": "9d0cdbdb-a028-440b-be43-849ab5982145",
   "metadata": {},
   "outputs": [],
   "source": [
    "class Mutter:\n",
    "    def m1(self):\n",
    "        return \"basis1\"\n",
    "\n",
    "    def m2(self):\n",
    "        return \"mutter2\"\n",
    "\n",
    "    def m3(self):\n",
    "        return \"mutter3\"\n",
    "    \n",
    "class Tochter(Mutter):\n",
    "    def m2(self):\n",
    "        return \"tochter2\"\n",
    "\n",
    "    def m3(self):\n",
    "        return \"tochter3\"\n",
    "\n",
    "class Enkelin(Tochter):\n",
    "    def m3(self):\n",
    "        return \"enkelin3\"\n",
    "\n",
    "e = Enkelin()\n",
    "print(f\"e.m1()={e.m1()}\")\n",
    "print(f\"e.m2()={e.m2()}\")\n",
    "print(f\"e.m3()={e.m3()}\")\n"
   ]
  },
  {
   "cell_type": "markdown",
   "id": "1fac095e-aa9c-47a5-bebb-fbfa5081003f",
   "metadata": {},
   "source": [
    "Das untenstehende Beispiel zeigt eine Klassenhierarchie für geometrische Formen. Die Methode `area()` ist für jede Funktion anders implementiert, kann aber in `calcShape` allgemein verwendet werden, egal, welchen Shape man übergibt."
   ]
  },
  {
   "cell_type": "code",
   "execution_count": null,
   "id": "451b0f03-01ef-449e-9078-b84c962f6138",
   "metadata": {},
   "outputs": [],
   "source": [
    "class Shape:\n",
    "    def __init__(self, name):\n",
    "        self.name = name\n",
    "\n",
    "    def __str__(self):\n",
    "        return f\"{type(self).__name__} {self.name}\"\n",
    "    \n",
    "    #es gibt keine allgemeine Implementierung\n",
    "    def area(self):\n",
    "        pass  \n",
    "\n",
    "class Circle(Shape):\n",
    "    def __init__(self, name, radius):\n",
    "        super().__init__(name)\n",
    "        self.radius = radius\n",
    "\n",
    "    def area(self):\n",
    "        return math.pi * self.radius ** 2\n",
    "\n",
    "class Rectangle(Shape):\n",
    "    def __init__(self, name, width, height):\n",
    "        super().__init__(name)\n",
    "        self.width = width\n",
    "        self.height = height\n",
    "\n",
    "    def area(self):\n",
    "        return self.width * self.height\n",
    "\n",
    "class Square(Rectangle):\n",
    "    def __init__(self, name, side):\n",
    "        super().__init__(name, side, side)\n",
    "\n",
    "\n",
    "\n",
    "def calcShape(shape):\n",
    "    print(f\"{shape} with area={shape.area():.2f}\")\n",
    "\n",
    "calcShape(Circle(\"c\", 5))\n",
    "calcShape(Rectangle(\"r\", 5, 4))\n",
    "calcShape(Square(\"s\", 5))"
   ]
  },
  {
   "cell_type": "markdown",
   "id": "fd2c4481-a55e-48e0-8d33-285758a9f6bc",
   "metadata": {},
   "source": [
    "Die Stärken von Polymorphie zeigen sich, wenn man die Software erweitert. Unten wird `Triangle`, eine neue Unterklasse von `Shape` hinzugefügt. Die Methode `calcShape` funktioniert auch mit dieser neuen Klasse, ohne dass wir den Code ändern müssen."
   ]
  },
  {
   "cell_type": "code",
   "execution_count": null,
   "id": "6b2c3f42-e28b-4a5c-b32a-032d98f0a787",
   "metadata": {},
   "outputs": [],
   "source": [
    "class Triangle(Shape):\n",
    "    def __init__(self, name, base, height):\n",
    "        super().__init__(name)\n",
    "        self.base = base\n",
    "        self.height = height\n",
    "\n",
    "    def area(self):\n",
    "        return 0.5 * self.base * self.height\n",
    "\n",
    "calcShape(Triangle(\"t\", 5, 4))"
   ]
  },
  {
   "cell_type": "markdown",
   "id": "0a240b03-702f-45c4-88cc-0e53a6984f13",
   "metadata": {},
   "source": [
    "`calcShape` ist daher **offen** für Erweiterungen. Dies ist der erste Teil des *Open/Closed-Prinzips*. "
   ]
  },
  {
   "cell_type": "markdown",
   "id": "41d9c502-7048-43fd-9bad-b65ad6b3de20",
   "metadata": {},
   "source": [
    "<div class=\"aufgabe\">\n",
    "    <h3>Erweiterung um Trapez</h3>\n",
    "    Ein Trapez ist ein Viereck mit mindestens zwei parallelen Seiten.<br>\n",
    "    Erstellen Sie <em>Trapezoid</em> als neue Unterklasse von <em>Shape</em>.<br>\n",
    "    Verwenden Sie als Konstruktor-Argumente die Länge der beiden parallelen Seiten und ihren Abstand.<br>\n",
    "    Implementieren Sie die Flächenberechnung wie in den anderen Klassen.\n",
    "</div>"
   ]
  },
  {
   "cell_type": "code",
   "execution_count": null,
   "id": "80af4af1-4920-47c1-96c4-6f65b3c7d27f",
   "metadata": {},
   "outputs": [],
   "source": [
    "# YOUR CODE HERE\n",
    "raise NotImplementedError()\n",
    "\n",
    "tr = Trapezoid(\"tr\", 3, 5, 2)\n",
    "calcShape(tr)\n",
    "\n",
    "#Test (import scipro ganz oben nicht vergessen!)\n",
    "scipro.Test(\"Trapez\").equals(\"str\", tr.__str__(), \"Trapezoid tr\").equals(\"area\", tr.area(), 8.0).report()"
   ]
  },
  {
   "cell_type": "markdown",
   "id": "b2d20321-1191-4eea-bc61-bd99497e7618",
   "metadata": {},
   "source": [
    "Laut dem zweiten Teil des *Open/Closed-Prinzips* soll eine Softwarekomponente **geschlossen** für Modifikationen sein. Das heißt, es soll bei Eerweiterungen nicht notwendig sein, bestehenden Code zu ändern und es soll keine unerwarteten Fehler geben, nur, weil man eine (korrekte) Unterklasse hinzufügt.\n",
    "\n",
    "Betrachten Sie folgendes Beispiel:"
   ]
  },
  {
   "cell_type": "code",
   "execution_count": null,
   "id": "da2698a8-ea6c-4b2b-a8c9-3d5764080778",
   "metadata": {},
   "outputs": [],
   "source": [
    "def calc_shape_height(shape):\n",
    "    if isinstance(shape, Circle):\n",
    "        return shape.radius * 2.0\n",
    "    elif isinstance(shape, Rectangle):\n",
    "        return shape.height\n",
    "    elif isinstance(shape, Square):\n",
    "        return shape.height\n",
    "    elif isinstance(shape, Triangle):\n",
    "        return shape.height\n",
    "    else:\n",
    "        raise TypeError(f\"Can't handle type: {type(shape)}\")\n",
    "\n",
    "c= Circle(\"c\", 5.0)\n",
    "print(f\"{c} height={calc_shape_height(c)}\")\n",
    "\n",
    "r=Rectangle(\"r\", 5.0, 4.0)\n",
    "print(f\"{r} height={calc_shape_height(r)}\")\n",
    "\n",
    "s=Square(\"s\", 5.0)\n",
    "print(f\"{s} height={calc_shape_height(s)}\")\n",
    "\n",
    "t=Triangle(\"t\", 5.0, 3.0)\n",
    "print(f\"{t} height={calc_shape_height(t)}\")"
   ]
  },
  {
   "cell_type": "markdown",
   "id": "49728ee6-9b89-4276-9d96-2f264d3a6b87",
   "metadata": {},
   "source": [
    "<div class=\"aufgabe\">\n",
    "    <h3>Erweiterung um Trapez - Teil 2</h3>\n",
    "    Führen Sie den untenstehenden Code aus.<br>\n",
    "    Warum funktioniert er nicht?<br>\n",
    "    Ergänzen Sie den obenstehenden Code, sodass es funktioniert.<br>\n",
    "    Was wäre eine bessere Lösung?\n",
    "</div>"
   ]
  },
  {
   "cell_type": "code",
   "execution_count": null,
   "id": "82453388-a438-448c-9870-ebab6c3a0c0e",
   "metadata": {},
   "outputs": [],
   "source": [
    "te=Trapezoid(\"t\", 5.0, 3.0, 4.0)\n",
    "print(f\"{t} height={calc_shape_height(tr)}\")"
   ]
  },
  {
   "cell_type": "markdown",
   "id": "ffd10617-c544-4a79-804d-f9d24350582c",
   "metadata": {},
   "source": [
    "### Liskovsches Substitutionsprinzip"
   ]
  },
  {
   "cell_type": "markdown",
   "id": "f84233fb-d23d-4170-becc-fd523c39beec",
   "metadata": {},
   "source": [
    "Das **Liskovsche Substitutionsprinzip** besagt, dass Unterklasse sich in jeder Hinsicht wie eine Basisklasse einsetzen lassen muss, ohne dass sich die Funktionalität des Programms verändert. Dies ist hier der Fall, wenn die Unterklasse, die Methode `area()` implementiert.\n",
    "\n",
    "<div class=\"remark\">\n",
    "    <img src=\"images/Barbara_Liskov.png\" width=180 align=right alt=\"Barbaa Liskov 2009\" />\n",
    "    <h3>Barbara Liskov</h3>\n",
    "    Barbara Liskow (geboren 1939) ist eine bedeutende amerikanische Informatikerin. Sie studierte ursprünglich Mathematik an der University of California in Berkely und promovierte 1968 in <em>Computer Science</em> an der Stanford University- als erste Frau in diesem Fach in den USA. Ihr Doktorvater war John McCarthy, einer der wichtigsten Begründer der Künstlichen Intelligenz. Das Thema ihrer Dissertation war die Entwicklung eines Programm für Schach-Endspiele. Barbara Liskov arbeitete für eine Reihe von Universitäten und Forschungseinrichtungen, insbesondere im Bereich Programmiersprachen und -Paradigmen. Seit 1976 ist sie Professorin am MIT, inzwischen als Leiterin der Gruppe <em>Programming Methodologies</em> und <em>Institute Professor</em>. 2005 wurde sie zusammen mit Donald Knuth von der ETH Zürich mit einer Ehrendoktorwürde ausgezeichnet, 2008 wurde ihr der ACM Turign Award verliehen. Dazu kommt eine Vielzahl von anderen Auszeichungen.\n",
    "</div>\n",
    "\n",
    "Eine Verletzung des Liskovschen Substitutionsprinzip können wir zeigen, indem wir unsere Definition von `Rectangle` und `Square` erweitern, um die Formen veränderbar zu machen:"
   ]
  },
  {
   "cell_type": "code",
   "execution_count": null,
   "id": "b58fc68c-ea72-49aa-8bed-4f3ebf71f2ea",
   "metadata": {},
   "outputs": [],
   "source": [
    "class Rectangle(Shape):\n",
    "    def __init__(self, name, width, height):\n",
    "        super().__init__(name)\n",
    "        self.width = width\n",
    "        self.height = height\n",
    "\n",
    "    def area(self):\n",
    "        return self.width * self.height\n",
    "\n",
    "    def set_width(self, width):\n",
    "        self.width = width\n",
    "\n",
    "    def set_height(self, height):\n",
    "        self.height = height\n",
    "\n",
    "    def __str__(self):\n",
    "        return super().__str__() + f\"({self.width},{self.height})\"\n",
    "        \n",
    "class Square(Rectangle):\n",
    "    def __init__(self, name, side):\n",
    "        super().__init__(name, side, side)\n",
    "\n",
    "    #Always: width=height\n",
    "    def set_width(self, width):\n",
    "        self.width = width\n",
    "        self.height = width  \n",
    "\n",
    "    def set_height(self, height):\n",
    "        self.width = height  \n",
    "        self.height = height\n",
    "\n",
    "rectangle = Rectangle(\"r\", 5, 4)\n",
    "square = Square(\"s\", 5)\n",
    "\n",
    "calcShape(rectangle)\n",
    "calcShape(square)\n"
   ]
  },
  {
   "cell_type": "markdown",
   "id": "46ef8433-115b-4f37-a904-c20779056d4b",
   "metadata": {},
   "source": [
    "Nun definieren wir eine Methode, die die Fläche des Rechtecks verdoppelt."
   ]
  },
  {
   "cell_type": "code",
   "execution_count": null,
   "id": "747b3e7c-6c53-4b07-96c9-394694f2b9c1",
   "metadata": {},
   "outputs": [],
   "source": [
    "def double_rect_area(rect):\n",
    "    if(not isinstance(rect, Rectangle)):\n",
    "        raise TypeError(\"Only works with rectangles!\")\n",
    "    rect.set_width(rect.width*2)\n",
    "\n",
    "double_rect_area(rectangle)\n",
    "double_rect_area(square)\n",
    "\n",
    "calcShape(rectangle)\n",
    "calcShape(square)"
   ]
  },
  {
   "cell_type": "markdown",
   "id": "468b1afa-ab52-42f1-addb-df96fb83b0ef",
   "metadata": {},
   "source": [
    "Es zeigt sich allerdings, dass die Fläche des Quadrats sich vervierfacht, obwohl es ja laut Vererbung auch ein Rechteck ist. Wir prüfen dies sogar in der Methode. \n",
    "\n",
    "`double_rect_area` verletzt somit das Liskovsche Substitutionsprinzip. Denn eine Eigenschaft des Rechtecks ist es, dass man die Seitenlängen unabhängig voneinander modifizieren kann, was aber für ein Quadrat nicht gilt. Was wären mögliche Lösungen?"
   ]
  },
  {
   "cell_type": "markdown",
   "id": "067190ba-2ce4-4e72-bf3a-5e13c62808cd",
   "metadata": {},
   "source": [
    "<div class=\"remark\">\n",
    "    <img src=\"images/dry308886.png\" width=120 align=right alt=\"https://openclipart.org/detail/308886/eye-dropper\" />   \n",
    "    <h3>Das DRY-Prinzip</h3>\n",
    "    <p>\n",
    "    <b>D</b>on't <b>R</b>epeat <b>Y</b>ourself ist nicht nur bei Bachelorarbeiten ein guter Rat, sondern auch beim Programmieren.<br>\n",
    "    Erweitert man Programme durch großzügigen Einsatz von Copy&Paste, entsteht Code-Duplikation.<br>\n",
    "    Wer dann einen Fehler findet, muss ihn mehrfach korrigieren (und vergisst eventuell eine Kopie).<br>\n",
    "    Das senkt die Software-Qualität und erhöht die Wartungskosten.<br>\n",
    "    Polymorphie und Vererbung sind eine Möglichkeit, Code wiederzuverwenden statt zu duplizieren.\n",
    "    </p>\n",
    "</div>"
   ]
  },
  {
   "cell_type": "markdown",
   "id": "3c1a1c99-fb68-4ca5-9b2f-5f792e6f233d",
   "metadata": {},
   "source": [
    "## Geometrische Formen - Anwendung der Vererbung und der Assoziation"
   ]
  },
  {
   "cell_type": "markdown",
   "id": "4fad23aa-cc2c-4465-a947-a0c83cd4f70a",
   "metadata": {},
   "source": [
    "Im Folgenden entwickeln wir Datentypen für geometrische Formen.\n",
    "\n",
    "Wir verwenden dazu den aus *Kapitel 4* bekannten Datentyp *Vektor*. Dieser wird als Modul eingebunden. Den Quelltext können (und sollten!) Sie in der Datei `sciprotypes.py` in Ihrem Jupyter-Hauptverzeichnis finden. Neu hinzugekommen ist die Möglichkeit, Komponenten des Vektors mittels `[]` abzurufen."
   ]
  },
  {
   "cell_type": "code",
   "execution_count": null,
   "id": "342acf8b-d82d-4956-a2f1-c43878fabbb3",
   "metadata": {},
   "outputs": [],
   "source": [
    "from sciprotypes import Vector\n",
    "from sciprotypes import VectorError\n",
    "\n",
    "v = Vector([4,2,0])\n",
    "print(f\"v[0]={v[0]}\")\n",
    "print(f\"v[1]={v[1]}\")\n",
    "print(f\"v[2]={v[2]}\")"
   ]
  },
  {
   "cell_type": "markdown",
   "id": "f0e8ae7f-bf88-4a23-8d20-4ccb3e1460dc",
   "metadata": {},
   "source": [
    "Betrachten Sie die Basisklasse `GeoObject`. Sie enthält folgende Methoden und Attribute:\n",
    "\n",
    "- <tt>\\_\\_init\\_\\_(self, name)</tt> Konstruktor, der den Namen der geometrischen Form enthält.\n",
    "- <tt>get_dimensions(self)</tt> gibt die Dimensionen des geometrischen Objekts zurück (eineEbene hat z.B. 2 Dimensionen).\n",
    "- <tt>get_description(self)</tt> gibt eine menschenlesbare Beschreibung des geometrischen Objekts zurück.\n",
    "- <tt>def \\_\\_str\\_\\_(self)</tt> gibt das geometrische Objekt als String aus und verwendet `get_description`.\n",
    "- <tt>contains(self, vector)</tt> gibt <tt>True</tt> zurück, wenn die per Vektor übergebenen Koordinaten sich innerhalb der Form befindet.\n",
    "\n",
    "Alle Klassen, die wir nun erstellen, haben 'GeoObject' als Basisklasse, da sie als generellste Klasse aller geometrischen Klassen hier positioniert ist.\n",
    "\n",
    "<img src=\"images/point.png\" width=180 align=right alt=\"selfmade\" />\n",
    "\n",
    "Die Unterklasse `Point` zeigt, wie man ein geometrisches Objekt erstellt:\n",
    "- <tt>\\_\\_init\\_\\_(self, name, vec)</tt> Konstruktor, der den Konstruktor der Basisklasse aufruft.\n",
    "- <tt>get_dimensions(self)</tt> gibt hier 0 zurück, ein Punkt dehnt sich in keine Dimension aus.\n",
    "- <tt>get_description(self)</tt> gibt einfach die Werte des enthaltenen Vektors als Koordinaten zurück.\n",
    "- <tt>contains(self, vector)</tt> gibt dann <tt>True</tt> zurück, wenn die übergebenen Koordinaten exakt unsere sind.\n",
    " \n",
    "Zur Erinnerung an die korrekten Begrifflichkeiten: Zwischen GeoObject und Point besteht eine **Vererbung**. Zwischen Point und Vector besteht eine **Assoziation**.\n"
   ]
  },
  {
   "cell_type": "code",
   "execution_count": null,
   "id": "54650919-183a-499c-8c7d-5608ed79ee8e",
   "metadata": {},
   "outputs": [],
   "source": [
    "import numpy as np\n",
    "import math\n",
    "import unittest\n",
    "from sciprotypes import Vector\n",
    "from sciprotypes import VectorError\n",
    "from sciprotypes import Matrix\n",
    "from sciprotypes import MatrixError\n",
    "\n",
    "class GeoObject:\n",
    "    \"\"\"\n",
    "    Basisklasse für geometrische Objekte.\n",
    "    \"\"\"\n",
    "    def __init__(self, name):\n",
    "        self.name = name\n",
    "    \n",
    "    def get_dimensions(self):\n",
    "        pass\n",
    "\n",
    "    def get_description(self):\n",
    "        pass\n",
    "\n",
    "    def __str__(self):\n",
    "        return f\"{type(self).__name__} {self.name}: {self.get_description()}\"\n",
    "    \n",
    "    def contains(self, vector):\n",
    "        pass\n",
    "\n",
    "    \n",
    "class Point(GeoObject):\n",
    "\n",
    "    def __init__(self, name, vec):\n",
    "        \"\"\" Konstruktor erhält Vektor für Punkt-Koordinaten \"\"\"\n",
    "        super().__init__(name)\n",
    "        if(not isinstance(vec, Vector)):\n",
    "            raise TypeError\n",
    "        self.vec = vec\n",
    "    \n",
    "    def get_dimensions(self):\n",
    "        return 0\n",
    "\n",
    "    def get_description(self):\n",
    "        return f\"{self.vec}\"\n",
    "\n",
    "    def contains(self, vector):\n",
    "        return self.vec == vector\n",
    "\n",
    "\n",
    "class TestPoint(unittest.TestCase):\n",
    "    \"\"\"\n",
    "    Unittests für den Point-Datentyp.\n",
    "    \"\"\"\n",
    "    def setUp(self):\n",
    "        \"\"\"\n",
    "        Initialisiere Variablen für den Test.\n",
    "        \"\"\"\n",
    "        self.a  = Point(\"a\", Vector([0, 0, 1]))\n",
    "        self.b  = Point(\"b\", Vector([1, 2, 3]))\n",
    "\n",
    "    def test_01_basics(self):\n",
    "        \"\"\"\n",
    "        Testet Basiseigenschaften - Vererbung, Dimensionen, Beschreibung.\n",
    "        \"\"\"\n",
    "        self.assertTrue(isinstance(self.a, GeoObject))\n",
    "        self.assertTrue(type(self.a) is Point)\n",
    "        \n",
    "        self.assertEqual(self.a.get_dimensions(), 0)\n",
    "        self.assertEqual(self.a.get_description(), \"<0, 0, 1>\")\n",
    "        self.assertEqual(self.b.get_description(), \"<1, 2, 3>\")\n",
    "\n",
    "        \n",
    "\n",
    "    def test_02_contains(self):\n",
    "        \"\"\"\n",
    "        Testet contains.\n",
    "        \"\"\"\n",
    "        self.assertTrue(self.a.contains(Vector([0, 0, 1])))\n",
    "        self.assertFalse(self.b.contains(Vector([0, 0, 1])))\n",
    "\n",
    "\n",
    "if __name__ == '__main__':\n",
    "    #Durchführung der Tests\n",
    "    loader = unittest.TestLoader()\n",
    "    suite = unittest.TestSuite()\n",
    "\n",
    "    #Hier können einzelne Tests auskommentiert werden\n",
    "    suite.addTest(TestPoint(\"test_01_basics\"))\n",
    "    suite.addTest(TestPoint(\"test_02_contains\"))\n",
    "\n",
    "    runner = unittest.TextTestRunner()\n",
    "    runner.run(suite)\n"
   ]
  },
  {
   "cell_type": "markdown",
   "id": "d4bd6ebd-1ec8-4596-a572-a179314294c0",
   "metadata": {},
   "source": [
    "### Dreidimensionale Formen - Kugel und Kubus"
   ]
  },
  {
   "cell_type": "markdown",
   "id": "b5b31a0a-0fd2-4bcd-9b00-7c2a833eb9d3",
   "metadata": {},
   "source": [
    "Im Folgenden implementieren wir zwei dreidimensionale Formen. Dazu gibt es die Basisklasse `GeoObject3D`, die ihrerseits eine Unterklasse von `GeoObject` ist.\n",
    "\n",
    "Sie enthält folgende Methoden und Attribute:\n",
    "\n",
    "- <tt>\\_\\_init\\_\\_(self, name)</tt> Konstruktor, der den `name` zur Basisklasse \"weiterleitet\".\n",
    "- <tt>get_dimensions(self)</tt> können wir hier sicher als 3 definieren.\n",
    "- <tt>get_volume(self)</tt> gibt das Volumen der dreidimensionalen Form zurück.\n"
   ]
  },
  {
   "cell_type": "markdown",
   "id": "67721d80-f1fc-48d9-a5b2-f10420f05c29",
   "metadata": {},
   "source": [
    "<div class=\"aufgabe\">\n",
    "    <img src=\"images/sphere.png\" width=240 align=right alt=\"selfmade\" />\n",
    "    <h3>Implementierung Kugel</h3>\n",
    "    Ergänzen Sie den untenstehenden Code um eine Klasse <tt>Sphere</tt>, die sich von <tt>GeoObject3D</tt> ableitet.<br>\n",
    "    Eine Kugel besteht aus einem Mittelpunkt und einem Radius.<br>\n",
    "    Stellen Sie sicher, dass alle Tests durchlaufen!<br>\n",
    "    Folgendes gilt für die zu implementierenden Funktionen:\n",
    "    <ul>\n",
    "    <li><tt>__init__(self, name, center, radius)</tt>: Konstruktor mit Mittelpunkt als Vektor und Radius als Zahl.\n",
    "    </li>\n",
    "    <li><tt>get_description(self)</tt>: Gibt Mittelpunkt und Radius zurück. (z.B. <tt>Center: <0, 0, 0>, Radius: 1</tt> )\n",
    "    </li>\n",
    "    <li><tt>contains(self, vector)</tt>: Gilt für Koordinaten innerhalb oder auf der Oberfläche der Kugel.\n",
    "    </li>\n",
    "    <li><tt>get_volume(self)</tt>: Abhängig vom Radius.\n",
    "    </li>\n",
    "    </ul>\n",
    "</div>"
   ]
  },
  {
   "cell_type": "code",
   "execution_count": null,
   "id": "137b0c32-2157-4c73-b93d-209f4a657564",
   "metadata": {},
   "outputs": [],
   "source": [
    "class GeoObject3D(GeoObject):\n",
    "    \"\"\"\n",
    "    Basisklasse für 3-dimensionale Objekte.\n",
    "    \"\"\"        \n",
    "    def __init__(self, name):\n",
    "        #self.name = name\n",
    "        super().__init__(name)\n",
    "\n",
    "    def get_dimensions(self):\n",
    "        return 3\n",
    "\n",
    "    def get_volume(self):\n",
    "        pass\n",
    "\n",
    "class Sphere(GeoObject3D):\n",
    "    # YOUR CODE HERE\n",
    "    raise NotImplementedError()\n",
    "\n",
    "\n",
    "class TestSphere(unittest.TestCase):\n",
    "    \"\"\"\n",
    "    Unittests für den Sphere-Datentyp.\n",
    "    \"\"\"\n",
    "    def setUp(self):\n",
    "        \"\"\"\n",
    "        Initialisiere Variablen für den Test.\n",
    "        \"\"\"\n",
    "        self.e  = Sphere(\"e\", Vector([0,0,0]), 1)\n",
    "        self.s  = Sphere(\"s\", Vector([4,5,7]), 3)\n",
    "\n",
    "    def test_01_basics(self):\n",
    "        \"\"\"\n",
    "        Testet Basiseigenschaften - Vererbung, Dimensionen, Beschreibung.\n",
    "        \"\"\"\n",
    "        self.assertTrue(isinstance(self.e, GeoObject))\n",
    "        self.assertTrue(isinstance(self.e, GeoObject3D))\n",
    "        self.assertTrue(type(self.e) is Sphere)\n",
    "        \n",
    "        self.assertEqual(self.e.get_dimensions(), 3)\n",
    "        self.assertEqual(self.e.get_description(), \"Center: <0, 0, 0>, Radius: 1\")\n",
    "\n",
    "    def test_02_contains(self):\n",
    "        \"\"\"\n",
    "        Testet contains.\n",
    "        \"\"\"\n",
    "        self.assertTrue(self.e.contains(Vector([0, 0, 0])))\n",
    "        self.assertTrue(self.e.contains(Vector([1, 0, 0])))\n",
    "        self.assertTrue(self.e.contains(Vector([0, 1, 0])))\n",
    "        self.assertTrue(self.e.contains(Vector([0, 0, 1])))\n",
    "        self.assertTrue(self.e.contains(Vector([0, -1, 0])))\n",
    "        self.assertTrue(self.e.contains(Vector([0.5, 0.5, 0.5])))\n",
    "        self.assertTrue(self.e.contains(Vector([-0.5, 0.5, math.sqrt(0.5)])))\n",
    "        self.assertFalse(self.e.contains(Vector([-0.5, 0.5, math.sqrt(0.51)])))\n",
    "        self.assertFalse(self.e.contains(Vector([1, 0.1, 0])))\n",
    "        self.assertFalse(self.e.contains(Vector([0.1, 1, 0])))\n",
    "        self.assertFalse(self.e.contains(Vector([0, 0.1, 1])))\n",
    "        self.assertTrue(self.s.contains(Vector([7, 5, 7])))\n",
    "        self.assertTrue(self.s.contains(Vector([2, 3, 6])))\n",
    "        self.assertFalse(self.s.contains(Vector([1, 3, 5])))\n",
    "\n",
    "    def test_03_volume(self):\n",
    "        \"\"\"\n",
    "        Testet volume.\n",
    "        \"\"\"\n",
    "        self.assertAlmostEqual(self.e.get_volume(), 4.1887, 3)\n",
    "        self.assertAlmostEqual(self.s.get_volume(), 113.0973, 3)\n",
    "\n",
    "\n",
    "if __name__ == '__main__':\n",
    "    #Durchführung der Tests\n",
    "    loader = unittest.TestLoader()\n",
    "    suite = unittest.TestSuite()\n",
    "\n",
    "    #Hier können einzelne Tests auskommentiert werden\n",
    "    suite.addTest(TestSphere(\"test_01_basics\"))\n",
    "    suite.addTest(TestSphere(\"test_02_contains\"))\n",
    "    suite.addTest(TestSphere(\"test_03_volume\"))\n",
    "\n",
    "    runner = unittest.TextTestRunner()\n",
    "    runner.run(suite)\n",
    "\n",
    "\n"
   ]
  },
  {
   "cell_type": "markdown",
   "id": "fe459e78-60cf-4b39-9909-3dccf99d04f1",
   "metadata": {},
   "source": [
    "<div class=\"aufgabe\">\n",
    "    <img src=\"images/cube.png\" width=240 align=right alt=\"selfmade\" />\n",
    "    <h3>Implementierung Kubus</h3>\n",
    "    Ergänzen Sie den untenstehenden Code um eine Klasse <tt>Cube</tt>, die sich von <tt>GeoObject3D</tt> ableitet.<br>\n",
    "    Die Seiten des Kubus sind immer parallel zu den Koordinatenachsen.<br>\n",
    "    Daher lässt der Kubus sich eindeutig durch seine minimalen und maximalen Koordinaten jeder Achse definieren.<br>\n",
    "    Stellen Sie sicher, dass alle Tests durchlaufen!<br>\n",
    "    Folgendes gilt für die zu implementierenden Funktionen:\n",
    "    <ul>\n",
    "    <li><tt>__init__(self, name, minvec, maxvec)</tt>: Konstruktor mit Vektoren der minimalen bzw. maximalen Koordinaten jeder Achse.\n",
    "    </li>\n",
    "    <li><tt>get_description(self)</tt>: Gibt die Koordinatenbereiche in jeder Dimension zurück (z.B. <tt>x=0-3, y=0-2, z=1-5</tt> )\n",
    "    </li>\n",
    "    <li><tt>contains(self, vector)</tt>: Gilt für Koordinaten innerhalb des Kubus.\n",
    "    </li>\n",
    "    <li><tt>get_volume(self)</tt>: Abhängig von allen Koordinaten.\n",
    "    </li>\n",
    "    </ul>\n",
    "</div>"
   ]
  },
  {
   "cell_type": "code",
   "execution_count": null,
   "id": "85e3d2dd-e21e-4047-ac28-de9a8dfc06f0",
   "metadata": {},
   "outputs": [],
   "source": [
    "# YOUR CODE HERE\n",
    "raise NotImplementedError()\n",
    "\n",
    "class TestCube(unittest.TestCase):\n",
    "    \"\"\"\n",
    "    Unittests für den Cube-Datentyp.\n",
    "    \"\"\"\n",
    "    def setUp(self):\n",
    "        \"\"\"\n",
    "        Initialisiere Variablen für den Test.\n",
    "        \"\"\"\n",
    "        self.e  = Cube(\"e\", Vector([0,0,0]), Vector([1,1,1]))\n",
    "        self.c  = Cube(\"s\", Vector([-3,1,2]), Vector([4,6,4]))\n",
    "\n",
    "    def test_01_basics(self):\n",
    "        \"\"\"\n",
    "        Testet Basiseigenschaften - Vererbung, Dimensionen, Beschreibung.\n",
    "        \"\"\"\n",
    "        self.assertTrue(isinstance(self.e, GeoObject))\n",
    "        self.assertTrue(isinstance(self.e, GeoObject3D))\n",
    "        self.assertTrue(type(self.e) is Cube)\n",
    "        \n",
    "        self.assertEqual(self.e.get_dimensions(), 3)\n",
    "        self.assertEqual(self.e.get_description(), \"x=0-1, y=0-1, z=0-1\")\n",
    "\n",
    "    def test_02_contains(self):\n",
    "        \"\"\"\n",
    "        Testet contains.\n",
    "        \"\"\"\n",
    "        self.assertTrue(self.e.contains(Vector([0, 0, 0])))\n",
    "        self.assertTrue(self.e.contains(Vector([1, 1, 1])))\n",
    "        self.assertTrue(self.e.contains(Vector([0, 1, 0])))\n",
    "        self.assertTrue(self.e.contains(Vector([1, 0, 1])))\n",
    "        self.assertFalse(self.e.contains(Vector([-1, 0, 0])))\n",
    "        self.assertFalse(self.e.contains(Vector([0.5, 0.5, 2])))\n",
    "        self.assertTrue(self.c.contains(Vector([0, 3, 3])))\n",
    "        self.assertTrue(self.c.contains(Vector([-3, 6, 4])))\n",
    "        self.assertFalse(self.c.contains(Vector([-4, 0, 0])))\n",
    "\n",
    "    def test_03_volume(self):\n",
    "        \"\"\"\n",
    "        Testet volume.\n",
    "        \"\"\"\n",
    "        self.assertEqual(self.e.get_volume(), 1)\n",
    "        self.assertEqual(self.c.get_volume(), 70)\n",
    "\n",
    "\n",
    "if __name__ == '__main__':\n",
    "    #Durchführung der Tests\n",
    "    loader = unittest.TestLoader()\n",
    "    suite = unittest.TestSuite()\n",
    "\n",
    "    #Hier können einzelne Tests auskommentiert werden\n",
    "    suite.addTest(TestCube(\"test_01_basics\"))\n",
    "    suite.addTest(TestCube(\"test_02_contains\"))\n",
    "    suite.addTest(TestCube(\"test_03_volume\"))\n",
    "\n",
    "    runner = unittest.TextTestRunner()\n",
    "    runner.run(suite)\n"
   ]
  },
  {
   "cell_type": "markdown",
   "id": "2f045344-5d4a-4f19-9676-ce47171aa1f4",
   "metadata": {},
   "source": [
    "### Eindimensionale Formen - Gerade und Strecke"
   ]
  },
  {
   "cell_type": "markdown",
   "id": "00dfaae3-1fe9-4483-bfbe-645f2f89c0fe",
   "metadata": {},
   "source": [
    "Im Folgenden entwickeln wir eindimensionale geometrische Formen. Die bekannteste ist die Gerade."
   ]
  },
  {
   "cell_type": "markdown",
   "id": "fee3bc17-8466-4210-a300-a89418898b93",
   "metadata": {},
   "source": [
    "Eine Gerade im 3D-Raum kann mithilfe einer Gleichung in Parameterdarstellung definiert werden. Die Punkte $\\vec{x}$ der Geraden setzen sich dabei zusammen aus der Summe eines Stützvektors $\\vec{a}$ und dem Produkt aus einem skalaren Parameter $r$ und einem Richtungsvektor $\\vec{b}$."
   ]
  },
  {
   "cell_type": "markdown",
   "id": "85e9926a-1b24-47c9-a78c-94365e7a3713",
   "metadata": {
    "scrolled": true,
    "slideshow": {
     "slide_type": "fragment"
    }
   },
   "source": [
    "<div class=\"definition\">\n",
    "    <h3>Geradengleichung in $\\mathbb{R}^3$</h3>\n",
    "    $$\n",
    "    g: \\vec{x}= \\left(\\begin{array}{c} a_1 \\\\ a_2 \\\\ a_3 \\end{array}\\right) + r \\left(\\begin{array}{c} b_1 \\\\ b_2 \\\\ b_3 \\end{array}\\right)\n",
    "    $$\n",
    "</div>"
   ]
  },
  {
   "cell_type": "markdown",
   "id": "38263579-cb61-4689-8681-daa4ff74edaf",
   "metadata": {},
   "source": [
    "<div class=\"aufgabe\">\n",
    "    <h3>Implementierung GeoObject1D</h3>\n",
    "    Ergänzen Sie den untenstehenden Code um eine Klasse <tt>GeoObject1D</tt>, die sich von <tt>GeoObject</tt> ableitet.<br>\n",
    "    Orientieren Sie sich dazu am <tt>GeoObject3D</tt>.<br>\n",
    "    Implementieren Sie folgende Funktionen:\n",
    "    <ul>\n",
    "    <li><tt>__init__(self, name)</tt>\n",
    "    </li>\n",
    "    <li><tt>get_dimensions(self)</tt>\n",
    "    </li>\n",
    "    <li><tt>get_length(self)</tt>: Die Länge des Objekts. Kann ggfs. unendlich sein (<tt>math.inf</tt>).\n",
    "    </li>\n",
    "    </ul>\n",
    "</div>"
   ]
  },
  {
   "cell_type": "markdown",
   "id": "698ea380-bfe3-49e5-b3c7-67633bba4fa7",
   "metadata": {},
   "source": [
    "<div class=\"aufgabe\">\n",
    "    <h3>Implementierung Gerade</h3>\n",
    "    <img src=\"images/line.png\" width=220 align=right alt=\"selfmade\" />\n",
    "    Ergänzen Sie den untenstehenden Code um eine Klasse <tt>Line</tt>, die sich von <tt>GeoObject1D</tt> ableitet.<br>\n",
    "    Die Gerade ist durch eine Geradengleichung definiert wie oben beschrieben.<br>\n",
    "    Stellen Sie sicher, dass alle Tests durchlaufen!<br>\n",
    "    Folgendes gilt für die zu implementierenden Funktionen:\n",
    "    <ul>\n",
    "    <li><tt>__init__(self, name, position, direction)</tt>: Konstruktor mit Stütz- und Richtungsvektor.\n",
    "    </li>\n",
    "    <li><tt>get_description(self)</tt>: Gibt die Geradengleichung zurück (z.B. <tt><0, 0, 0>+r*<1, 0, 0></tt> )\n",
    "    </li>\n",
    "    <li><tt>contains(self, vector)</tt>: Gilt für alle Vektoren $\\vec{x}$, für die die Geradengleichung $g$ eine Lösung hat.\n",
    "    </li>\n",
    "    <li><tt>get_length(self)</tt>: Länge der Geraden.\n",
    "    </li>\n",
    "    </ul>\n",
    "</div>"
   ]
  },
  {
   "cell_type": "code",
   "execution_count": null,
   "id": "a39f91c6-8023-46c8-a9a5-d48558cdafed",
   "metadata": {},
   "outputs": [],
   "source": [
    "class GeoObject1D(GeoObject):\n",
    "    \"\"\"\n",
    "    Basisklasse für 1-dimensionale Objekte.\n",
    "    \"\"\"\n",
    "    # YOUR CODE HERE\n",
    "    raise NotImplementedError()\n",
    "\n",
    "class Line(GeoObject1D):\n",
    "    # YOUR CODE HERE\n",
    "    raise NotImplementedError()\n",
    "\n",
    "class TestLine(unittest.TestCase):\n",
    "    \"\"\"\n",
    "    Unittests für den Line-Datentyp.\n",
    "    \"\"\"\n",
    "    def setUp(self):\n",
    "        \"\"\"\n",
    "        Initialisiere Variablen für den Test.\n",
    "        \"\"\"\n",
    "        self.e  = Line(\"e\", Vector([0,0,0]), Vector([1,0,0]))\n",
    "        self.l  = Line(\"l\", Vector([2,2,2]), Vector([3,5,7]))\n",
    "\n",
    "    def test_01_basics(self):\n",
    "        \"\"\"\n",
    "        Testet Basiseigenschaften - Vererbung, Dimensionen, Beschreibung.\n",
    "        \"\"\"\n",
    "        self.assertTrue(isinstance(self.e, GeoObject))\n",
    "        self.assertTrue(isinstance(self.e, GeoObject1D))\n",
    "        self.assertTrue(type(self.e) is Line)\n",
    "        \n",
    "        self.assertEqual(self.e.get_dimensions(), 1)\n",
    "        self.assertEqual(self.e.get_description(), \"<0, 0, 0>+r*<1, 0, 0>\")\n",
    "\n",
    "    def test_02_contains(self):\n",
    "        \"\"\"\n",
    "        Testet contains.\n",
    "        \"\"\"\n",
    "        self.assertTrue(self.e.contains(Vector([0, 0, 0])))\n",
    "        self.assertTrue(self.e.contains(Vector([1, 0, 0])))\n",
    "        self.assertTrue(self.e.contains(Vector([2, 0, 0])))\n",
    "        self.assertTrue(self.e.contains(Vector([-100, 0, 0])))\n",
    "        self.assertFalse(self.e.contains(Vector([0, -1, 0])))\n",
    "        self.assertFalse(self.e.contains(Vector([1, 0, 1])))\n",
    "        self.assertFalse(self.e.contains(Vector([0, 1, 0])))\n",
    "        self.assertFalse(self.e.contains(Vector([1, 1, 1])))\n",
    "\n",
    "        self.assertTrue(self.l.contains(Vector([2, 2, 2])))\n",
    "        self.assertTrue(self.l.contains(Vector([5, 7, 9])))\n",
    "        self.assertTrue(self.l.contains(Vector([8, 12, 16])))\n",
    "        self.assertTrue(self.l.contains(Vector([-1, -3, -5])))\n",
    "        self.assertFalse(self.l.contains(Vector([1, 1, 1])))\n",
    "\n",
    "    def test_03_length(self):\n",
    "        \"\"\"\n",
    "        Testet length.\n",
    "        \"\"\"\n",
    "        self.assertEqual(self.e.get_length(), math.inf)\n",
    "        self.assertEqual(self.l.get_length(), math.inf)\n",
    "\n",
    "\n",
    "if __name__ == '__main__':\n",
    "    #Durchführung der Tests\n",
    "    loader = unittest.TestLoader()\n",
    "    suite = unittest.TestSuite()\n",
    "\n",
    "    #Hier können einzelne Tests auskommentiert werden\n",
    "    suite.addTest(TestLine(\"test_01_basics\"))\n",
    "    suite.addTest(TestLine(\"test_02_contains\"))\n",
    "    suite.addTest(TestLine(\"test_03_length\"))\n",
    "\n",
    "    runner = unittest.TextTestRunner()\n",
    "    runner.run(suite)\n",
    "\n",
    "\n"
   ]
  },
  {
   "cell_type": "markdown",
   "id": "9ed2886f-55f0-4a23-91ab-dd3dad9ad7b8",
   "metadata": {},
   "source": [
    "<div class=\"aufgabe\">\n",
    "    <h3>Implementierung Strecke</h3>\n",
    "    <img src=\"images/segment.png\" width=220 align=right alt=\"selfmade\" />\n",
    "    Ergänzen Sie den untenstehenden Code um eine Klasse <tt>Segment</tt>, die sich von <tt>GeoObject1D</tt> ableitet.<br>\n",
    "    Eine Strecke besteht aus einem Start- und Endpunkt sowie allen Punkten in gerader Linie dazwischen.<br>\n",
    "    Stellen Sie sicher, dass alle Tests durchlaufen!<br>\n",
    "    Folgendes gilt für die zu implementierenden Funktionen:\n",
    "    <ul>\n",
    "    <li><tt>__init__(self, name, start, end)</tt>: Konstruktor mit Start- und Endpunkt.\n",
    "    </li>\n",
    "    <li><tt>get_description(self)</tt>: Gibt Start bis Endpunkt zurück (z.B. <tt><0, 0, 0>-<1, 1, 1></tt> )\n",
    "    </li>\n",
    "    <li><tt>contains(self, vector)</tt>: Gilt für alle Vektoren in gerade Linie zwischen Start und Ende (Tipp: Geradengleichung).\n",
    "    </li>\n",
    "    <li><tt>get_length(self)</tt>: Länge der Strecke.\n",
    "    </li>\n",
    "    </ul>\n",
    "</div>"
   ]
  },
  {
   "cell_type": "code",
   "execution_count": null,
   "id": "ac75f9aa-7e20-476a-95e5-f0f00328d1b6",
   "metadata": {},
   "outputs": [],
   "source": [
    "# YOUR CODE HERE\n",
    "raise NotImplementedError()\n",
    "\n",
    "class TestSegment(unittest.TestCase):\n",
    "    \"\"\"\n",
    "    Unittests für den Segment-Datentyp.\n",
    "    \"\"\"\n",
    "    def setUp(self):\n",
    "        \"\"\"\n",
    "        Initialisiere Variablen für den Test.\n",
    "        \"\"\"\n",
    "        self.e  = Segment(\"e\", Vector([0,0,0]), Vector([1,1,1]))\n",
    "        self.s  = Segment(\"s\", Vector([2,0,1]), Vector([5,-3, 7]))\n",
    "\n",
    "    def test_01_basics(self):\n",
    "        \"\"\"\n",
    "        Testet Basiseigenschaften - Vererbung, Dimensionen, Beschreibung.\n",
    "        \"\"\"\n",
    "        self.assertTrue(isinstance(self.e, GeoObject))\n",
    "        self.assertTrue(isinstance(self.e, GeoObject1D))\n",
    "        self.assertTrue(type(self.e) is Segment)\n",
    "        \n",
    "        self.assertEqual(self.e.get_dimensions(), 1)\n",
    "        self.assertEqual(self.e.get_description(), \"<0, 0, 0>-<1, 1, 1>\")\n",
    "\n",
    "    def test_02_contains(self):\n",
    "        \"\"\"\n",
    "        Testet contains.\n",
    "        \"\"\"\n",
    "        self.assertTrue(self.e.contains(Vector([0, 0, 0])))\n",
    "        self.assertTrue(self.e.contains(Vector([1, 1, 1])))\n",
    "        self.assertTrue(self.e.contains(Vector([0.5, 0.5, 0.5])))\n",
    "        self.assertFalse(self.e.contains(Vector([2, 2, 2])))\n",
    "        self.assertFalse(self.e.contains(Vector([-1, -1, -1])))\n",
    "        self.assertFalse(self.e.contains(Vector([0, -1, 0])))\n",
    "        self.assertFalse(self.e.contains(Vector([1, 0, 1])))\n",
    "        self.assertFalse(self.e.contains(Vector([0, 1, 0])))\n",
    "\n",
    "        self.assertTrue(self.s.contains(Vector([2, 0, 1])))\n",
    "        self.assertTrue(self.s.contains(Vector([5, -3, 7])))\n",
    "        self.assertTrue(self.s.contains(Vector([3.5, -1.5, 4])))\n",
    "        self.assertFalse(self.s.contains(Vector([-2, 0, -1])))\n",
    "        self.assertFalse(self.s.contains(Vector([4, 0, 2])))\n",
    "\n",
    "    def test_03_length(self):\n",
    "        \"\"\"\n",
    "        Testet length.\n",
    "        \"\"\"\n",
    "        self.assertAlmostEqual(self.e.get_length(), 1.7320, 3)\n",
    "        self.assertAlmostEqual(self.s.get_length(), 7.3484, 3)\n",
    "\n",
    "\n",
    "if __name__ == '__main__':\n",
    "    #Durchführung der Tests\n",
    "    loader = unittest.TestLoader()\n",
    "    suite = unittest.TestSuite()\n",
    "\n",
    "    #Hier können einzelne Tests auskommentiert werden\n",
    "    suite.addTest(TestSegment(\"test_01_basics\"))\n",
    "    suite.addTest(TestSegment(\"test_02_contains\"))\n",
    "    suite.addTest(TestSegment(\"test_03_length\"))\n",
    "\n",
    "    runner = unittest.TextTestRunner()\n",
    "    runner.run(suite)\n",
    "\n"
   ]
  },
  {
   "cell_type": "markdown",
   "id": "8cbed22a-c705-42d6-a7f4-ae23500618f6",
   "metadata": {},
   "source": [
    "<div class=\"aufgabe\">\n",
    "    <h3>Refactoring</h3>\n",
    "    Wahrscheinlich verwenden Ihre Gerade und Strecke ziemlich viel Code doppelt für die Methode <tt>contains(self, vector)</tt><br>.\n",
    "    Implementieren Sie eine Hilfsfunktion zur Lösung der Geradengleichung nach $r$ in <tt>GeoObject1D</tt>.<br>\n",
    "    Verwenden Sie diese Hilfsfunktion, um <tt>contains(self, vector)</tt> in beiden Unterklassen zu vereinfachen.\n",
    "</div>"
   ]
  },
  {
   "cell_type": "markdown",
   "id": "bf0a46e1-06b8-423e-b4bb-6bc7f265eb57",
   "metadata": {},
   "source": [
    "### Bonus: Zweidimensionale Formen - Ebene"
   ]
  },
  {
   "cell_type": "markdown",
   "id": "4ac5044e-f19c-4d95-856c-ca092536c588",
   "metadata": {},
   "source": [
    "Im Folgenden entwickeln wir zweidimensionale geometrische Formen. Die bekannteste ist die Ebene."
   ]
  },
  {
   "cell_type": "markdown",
   "id": "a5c42f9a-e7d9-4d8f-a1f9-c1afe8eb64da",
   "metadata": {},
   "source": [
    "Eine Ebene im 3D-Raum kann ebenfalls mithilfe einer Gleichung in Parameterdarstellung definiert werden. Die Punkte $\\vec{x}$ der Ebene setzen sich dabei zusammen aus der Summe eines Stützvektors $\\vec{a}$ und der beiden Produkte aus skalarem Parameter $r$ bzw. $s$ mit jeweiligem Spannvektor $\\vec{b}$ bzw. $\\vec{c}$."
   ]
  },
  {
   "cell_type": "markdown",
   "id": "861c8b4c-8ba2-4695-bd1c-c890a79af9ed",
   "metadata": {
    "scrolled": true,
    "slideshow": {
     "slide_type": "fragment"
    }
   },
   "source": [
    "<div class=\"definition\">\n",
    "    <h3>Ebenengleichung in $\\mathbb{R}^3$</h3>\n",
    "    $$\n",
    "    E: \\vec{x}= \\left(\\begin{array}{c} a_1 \\\\ a_2 \\\\ a_3 \\end{array}\\right) + r \\left(\\begin{array}{c} b_1 \\\\ b_2 \\\\ b_3 \\end{array}\\right) + s \\left(\\begin{array}{c} c_1 \\\\ c_2 \\\\ c_3 \\end{array}\\right)\n",
    "    $$\n",
    "</div>"
   ]
  },
  {
   "cell_type": "markdown",
   "id": "59fea2e4-8cc9-4aab-a996-e1a86d2216b5",
   "metadata": {},
   "source": [
    "<div class=\"aufgabe\">\n",
    "    <h3>Implementierung GeoObject2D</h3>\n",
    "    Ergänzen Sie den untenstehenden Code um eine Klasse <tt>GeoObject2D</tt>, die sich von <tt>GeoObject</tt> ableitet.<br>\n",
    "    Orientieren Sie sich dazu am <tt>GeoObject3D</tt>.<br>\n",
    "    Neu ist Folgendes:\n",
    "    <ul>\n",
    "    <li><tt>get_area(self)</tt>: Die Fläche des Objekts. Kann ggfs. unendlich sein (<tt>math.inf</tt>).\n",
    "    </li>\n",
    "    </ul>\n",
    "</div>"
   ]
  },
  {
   "cell_type": "markdown",
   "id": "7c99a6ce-2fcc-4efe-a98a-e8d3b18e5676",
   "metadata": {},
   "source": [
    "<div class=\"aufgabe\">\n",
    "    <h3>Implementierung Ebene</h3>\n",
    "    <img src=\"images/plane.png\" width=240 align=right alt=\"selfmade\" />\n",
    "    Ergänzen Sie den untenstehenden Code um eine Klasse <tt>Plane</tt>, die sich von <tt>GeoObject2D</tt> ableitet.<br>\n",
    "    Die Gerade ist durch eine Ebenengleichung definiert wie oben beschrieben.<br>\n",
    "    Stellen Sie sicher, dass alle Tests durchlaufen!<br>\n",
    "    Folgendes gilt für die zu implementierenden Funktionen:\n",
    "    <ul>\n",
    "    <li><tt>__init__(self, name, position, spanv1, spanv2)</tt>: Konstruktor mit Stütz- und Spannvektoren.\n",
    "    </li>\n",
    "    <li><tt>get_description(self)</tt>: Gibt die Ebenengleichung zurück (z.B. <tt><0, 0, 0>+r*<1, 0, 0>+s*<0, 1, 0></tt> )\n",
    "    </li>\n",
    "    <li><tt>contains(self, vector)</tt>: Gilt für alle Vektoren $\\vec{x}$, für die die Ebenengleichung $E$ eine Lösung hat (Tipp: Matrix und Gauss aus Kapitel 5).\n",
    "    </li>\n",
    "    <li><tt>get_area(self)</tt>: Fläche der Ebene.\n",
    "    </li>\n",
    "    </ul>\n",
    "</div>"
   ]
  },
  {
   "cell_type": "code",
   "execution_count": null,
   "id": "88362b57-87f8-4433-ae3d-158beb92144c",
   "metadata": {},
   "outputs": [],
   "source": [
    "class GeoObject2D(GeoObject):\n",
    "    # YOUR CODE HERE\n",
    "    raise NotImplementedError()\n",
    "\n",
    "class Plane(GeoObject2D):\n",
    "    \"\"\"\n",
    "    Repräsentiert eine Ebene im 3D-Raum.\n",
    "    \"\"\"\n",
    "    # YOUR CODE HERE\n",
    "    raise NotImplementedError()\n",
    "\n",
    "class TestPlane(unittest.TestCase):\n",
    "    \"\"\"\n",
    "    Unittests für die Plane-Klasse.\n",
    "    \"\"\"\n",
    "    def setUp(self):\n",
    "        \"\"\"\n",
    "        Initialisiere Variablen für den Test.\n",
    "        \"\"\"\n",
    "        self.e = Plane(\"e\", Vector([0, 0, 0]), Vector([1, 0, 0]), Vector([0, 1, 0]))\n",
    "\n",
    "    def test_01_basics(self):\n",
    "        \"\"\"\n",
    "        Testet Basiseigenschaften - Vererbung, Dimensionen, Beschreibung.\n",
    "        \"\"\"\n",
    "        self.assertTrue(isinstance(self.e, GeoObject))\n",
    "        self.assertTrue(isinstance(self.e, GeoObject2D))\n",
    "        self.assertTrue(type(self.e) is Plane)\n",
    "        \n",
    "        self.assertEqual(self.e.get_dimensions(), 2)\n",
    "        self.assertEqual(self.e.get_description(), \"<0, 0, 0>+r*<1, 0, 0>+s*<0, 1, 0>\")\n",
    "\n",
    "    def test_02_contains(self):\n",
    "        \"\"\"\n",
    "        Testet contains.\n",
    "        \"\"\"\n",
    "        self.assertTrue(self.e.contains(Vector([0, 0, 0])))\n",
    "        self.assertTrue(self.e.contains(Vector([1, 0, 0])))\n",
    "        self.assertTrue(self.e.contains(Vector([0, 1, 0])))\n",
    "        self.assertTrue(self.e.contains(Vector([7, 3, 0])))\n",
    "        self.assertFalse(self.e.contains(Vector([0, 0, 1])))\n",
    "        self.assertFalse(self.e.contains(Vector([1, 1, 1])))\n",
    "\n",
    "    def test_03_area(self):\n",
    "        \"\"\"\n",
    "        Testet get_area.\n",
    "        \"\"\"\n",
    "        self.assertEqual(self.e.get_area(), math.inf)\n",
    "\n",
    "\n",
    "if __name__ == '__main__':\n",
    "    #Durchführung der Tests\n",
    "    loader = unittest.TestLoader()\n",
    "    suite = unittest.TestSuite()\n",
    "\n",
    "    #Hier können einzelne Tests auskommentiert werden\n",
    "    suite.addTest(TestPlane(\"test_01_basics\"))\n",
    "    suite.addTest(TestPlane(\"test_02_contains\"))\n",
    "    suite.addTest(TestPlane(\"test_03_area\"))\n",
    "\n",
    "    runner = unittest.TextTestRunner()\n",
    "    runner.run(suite)"
   ]
  },
  {
   "cell_type": "markdown",
   "id": "4791204c-a477-4eab-bc29-a14a33894d49",
   "metadata": {},
   "source": [
    "<div class=\"aufgabe\">\n",
    "    <h3>Implementierung Parallelogramm</h3>\n",
    "    <img src=\"images/parallelogram.png\" width=240 align=right alt=\"selfmade\" />\n",
    "    Ergänzen Sie den untenstehenden Code um eine Klasse <tt>Parallelogram</tt>, die sich von <tt>GeoObject2D</tt> ableitet.<br>\n",
    "    Ein Parallelogram ist definiert durch die zwei Strecken der zwei benachbarten Seiten.<br>\n",
    "    Stellen Sie sicher, dass alle Tests durchlaufen!<br>\n",
    "    Folgendes gilt für die zu implementierenden Funktionen:\n",
    "    <ul>\n",
    "    <li><tt>__init__(self, name, position, segment1, segment2)</tt>: Konstruktor mit zwei Segmenten, die im gleichen Punkte beginnen.\n",
    "    </li>\n",
    "    <li><tt>get_description(self)</tt>: Gibt die vier Eckpunkte nach Koordinaten sortiert. (z.B. <tt><0, 0, 0>,<0, 0, 1>,<2, 2, 2>,<2, 3, 4></tt> )\n",
    "    </li>\n",
    "    <li><tt>contains(self, vector)</tt>: Gilt für alle Vektoren $\\vec{x}$, die auf der Ebene des Parallelogramms innerhalb der vier Eckpunkte liegen.\n",
    "    </li>\n",
    "    <li><tt>get_area(self)</tt>: Fläche des Parallelogramms.\n",
    "    </li>\n",
    "    </ul>\n",
    "</div>"
   ]
  },
  {
   "cell_type": "code",
   "execution_count": null,
   "id": "6af3a24e-6169-4cc5-ad2f-d47ffaf72758",
   "metadata": {},
   "outputs": [],
   "source": [
    "# YOUR CODE HERE\n",
    "raise NotImplementedError()\n",
    "\n",
    "class TestParallelogram(unittest.TestCase):\n",
    "    \"\"\"\n",
    "    Unittests für die Parallelogramm-Klasse.\n",
    "    \"\"\"\n",
    "    def setUp(self):\n",
    "        \"\"\"\n",
    "        Initialisiere Variablen für den Test.\n",
    "        \"\"\"\n",
    "        segment1 = Segment(\"e1\", Vector([0, 0, 0]), Vector([0, 0, 1]))\n",
    "        segment2 = Segment(\"e2\", Vector([0, 0, 0]), Vector([0, 1, 0]))\n",
    "        self.e = Parallelogram(\"e\", segment1, segment2)\n",
    "\n",
    "    def test_01_basics(self):\n",
    "        \"\"\"\n",
    "        Testet Basiseigenschaften - Vererbung, Dimensionen, Beschreibung.\n",
    "        \"\"\"\n",
    "        self.assertTrue(isinstance(self.e, GeoObject))\n",
    "        self.assertTrue(isinstance(self.e, GeoObject2D))\n",
    "        self.assertTrue(type(self.e) is Parallelogram)\n",
    "\n",
    "        self.assertEqual(self.e.get_dimensions(), 2)\n",
    "        self.assertEqual(self.e.get_description(), \n",
    "                         \"<0, 0, 0>, <0, 0, 1>, <0, 1, 0>, <0, 1, 1>\")\n",
    "\n",
    "    def test_02_contains(self):\n",
    "        \"\"\"\n",
    "        Testet contains.\n",
    "        \"\"\"\n",
    "        self.assertTrue(self.e.contains(Vector([0, 0, 0])))\n",
    "        self.assertTrue(self.e.contains(Vector([0, 0, 1])))\n",
    "        self.assertTrue(self.e.contains(Vector([0, 1, 0])))\n",
    "        self.assertTrue(self.e.contains(Vector([0, 1, 1])))\n",
    "        self.assertTrue(self.e.contains(Vector([0, 0.5, 0.5])))\n",
    "        self.assertFalse(self.e.contains(Vector([1, 1, 1])))\n",
    "        self.assertFalse(self.e.contains(Vector([0.5, 0.5, 0.5])))\n",
    "        self.assertFalse(self.e.contains(Vector([0, 0, -1])))\n",
    "    \n",
    "    def test_03_area(self):\n",
    "        \"\"\"\n",
    "        Testet get_area.\n",
    "        \"\"\"\n",
    "        self.assertEqual(self.e.get_area(), 1)  \n",
    "\n",
    "if __name__ == '__main__':\n",
    "    # Durchführung der Tests\n",
    "    loader = unittest.TestLoader()\n",
    "    suite = unittest.TestSuite()\n",
    "\n",
    "    # Hier können einzelne Tests auskommentiert werden\n",
    "    suite.addTest(TestParallelogram(\"test_01_basics\"))\n",
    "    suite.addTest(TestParallelogram(\"test_02_contains\"))\n",
    "    suite.addTest(TestParallelogram(\"test_03_area\"))\n",
    "\n",
    "    runner = unittest.TextTestRunner()\n",
    "    runner.run(suite)"
   ]
  },
  {
   "cell_type": "markdown",
   "id": "6a98f5b0-418f-4e55-a16a-f8c886b38b6f",
   "metadata": {},
   "source": [
    "### Erweiterte Techniken der Vererbung"
   ]
  },
  {
   "cell_type": "markdown",
   "id": "a9563f61-e8fb-45b4-84e3-0115f5b17f68",
   "metadata": {},
   "source": [
    "- Methoden, die von einer anderen Klassen geerbt wurden, können in der spezielleren Klasse neu definiert werden, man spricht hier von Überschreiben. Hierzu ist keine Spezialkonstruktion notwendig, sondern es muss lediglich die Methode mit dem gleichen Methodenbezeichner erneut definiert werden.\n",
    "- Möchte man dennoch auf die Methode der generelleren Klasse zugreifen, so ist dies direkt nicht möglich, da sie den gleichen Namen hat wie die Methode, mit der überschrieben wurde. Um dennoch einen Zugriff auf die generellere Klasse zu ermöglichen, gibt es in der spezielleren Klasse die Methode `super()`. Der Zugriff auf die überschriebene Methode erfolgt dann mit `super().generelleMethode()`. Die Liste der Parameter muss nicht gleich sein.\n",
    "- Es ist auch möglich, dass eine Klasse von mehreren Methoden erbt, man spricht dann von **Mehrfachvererbung**. Im Code wird dies dadurch umgesetzt, dass in der Klammer nach dem Klassenbezeichner alls generelleren Klassen mit Komma getrennt aufgelistet werden, z. B. `class Firmenkunde(Kunde, Firma):`"
   ]
  },
  {
   "cell_type": "markdown",
   "id": "0b5154dc-2a02-46ca-8add-78619a5fea03",
   "metadata": {},
   "source": [
    "## Weitere Aufgaben"
   ]
  },
  {
   "cell_type": "markdown",
   "id": "46b50d89-cf7c-4087-b840-43686c8b5c30",
   "metadata": {},
   "source": [
    "<div class=\"aufgabe\">\n",
    "<h3>Zusatzaufgabe 1</h3>\n",
    "Implementieren Sie einen <b>Strahl</b> als zweidimensionale Figur. Ein Strahl ist eine Halbgerade, d. h. eine Gerade, die von einem Punkt startend in nur einer Richtung ins Unendliche geht. Nutzen Sie als Basis Ihrer Implementierung die Klassen <tt>GeoObject1D</tt> und <tt>Line</tt>, die Sie bereits weiter oben implementiert haben."
   ]
  },
  {
   "cell_type": "code",
   "execution_count": null,
   "id": "1306ef8d-545a-48be-b6d8-ce81aadbc6e5",
   "metadata": {},
   "outputs": [],
   "source": [
    "class GeoObject1D(GeoObject):\n",
    "    \"\"\"\n",
    "    Basisklasse für 1-dimensionale Objekte.\n",
    "    \"\"\"\n",
    "    # YOUR CODE HERE\n",
    "    raise NotImplementedError()\n",
    "\n",
    "class Line(GeoObject1D):\n",
    "    # YOUR CODE HERE\n",
    "    raise NotImplementedError()\n",
    "\n",
    "class Ray(Line):\n",
    "    # YOUR CODE HERE\n",
    "    raise NotImplementedError()\n",
    "\n",
    "class TestRay(unittest.TestCase):\n",
    "    \"\"\"\n",
    "    Unittests für den Ray-Datentyp.\n",
    "    \"\"\"\n",
    "    def setUp(self):\n",
    "        \"\"\"\n",
    "        Initialisiere Variablen für den Test.\n",
    "        \"\"\"\n",
    "        self.e  = Ray(\"e\", Vector([0,0,0]), Vector([1,0,0]), Vector([2,0,0]))\n",
    "\n",
    "    def test_01_basics(self):\n",
    "        \"\"\"\n",
    "        Testet Basiseigenschaften - Vererbung, Dimensionen, Beschreibung.\n",
    "        \"\"\"\n",
    "        self.assertTrue(isinstance(self.e, GeoObject))\n",
    "        self.assertTrue(isinstance(self.e, GeoObject1D))\n",
    "        self.assertTrue(isinstance(self.e, Line))\n",
    "        self.assertTrue(type(self.e) is Ray)\n",
    "        \n",
    "        self.assertEqual(self.e.get_dimensions(), 1)\n",
    "        self.assertEqual(self.e.get_description(), \"<0, 0, 0>+r*<1, 0, 0> starting at <2, 0, 0>\")\n",
    "\n",
    "if __name__ == '__main__':\n",
    "    #Durchführung der Tests\n",
    "    loader = unittest.TestLoader()\n",
    "    suite = unittest.TestSuite()\n",
    "\n",
    "    #Hier können einzelne Tests auskommentiert werden\n",
    "    suite.addTest(TestRay(\"test_01_basics\"))\n",
    "\n",
    "    runner = unittest.TextTestRunner()\n",
    "    runner.run(suite)"
   ]
  },
  {
   "cell_type": "markdown",
   "id": "5e269af0-0130-4384-81a2-2164a08bc97a",
   "metadata": {},
   "source": [
    "### Zusatzaufgabe 2:\n",
    "Implementieren Sie einen **Kreis** als zweidimensionale Figur, der beliebig im Raum rotiert und positioniert sein darf. Nutzen Sie als Basis Ihrer Implementierung die Klassen ```GeoObject2D``` und ```Plane```, die Sie bereits weiter oben implementiert haben."
   ]
  },
  {
   "cell_type": "code",
   "execution_count": null,
   "id": "5b977a0b-0624-49f5-a7af-a0dd55a8320c",
   "metadata": {},
   "outputs": [],
   "source": [
    "class GeoObject2D(GeoObject):\n",
    "    # YOUR CODE HERE\n",
    "    raise NotImplementedError()\n",
    "\n",
    "class Plane(GeoObject2D):\n",
    "    \"\"\"\n",
    "    Repräsentiert eine Ebene im 3D-Raum.\n",
    "    \"\"\"\n",
    "    # YOUR CODE HERE\n",
    "    raise NotImplementedError()\n",
    "\n",
    "class Circle(Plane):\n",
    "    # YOUR CODE HERE\n",
    "    raise NotImplementedError()\n",
    "\n",
    "class TestCircle(unittest.TestCase):\n",
    "    \"\"\"\n",
    "    Unittests für die Circle-Klasse.\n",
    "    \"\"\"\n",
    "    def setUp(self):\n",
    "        \"\"\"\n",
    "        Initialisiere Variablen für den Test.\n",
    "        \"\"\"\n",
    "        self.c = Circle(\"e\", Vector([0, 0, 0]), Vector([1, 0, 0]), Vector([0, 1, 0]), 12.4)\n",
    "\n",
    "    def test_01_basics(self):\n",
    "        \"\"\"\n",
    "        Testet Basiseigenschaften - Vererbung, Dimensionen, Beschreibung.\n",
    "        \"\"\"\n",
    "        self.assertTrue(isinstance(self.c, GeoObject))\n",
    "        self.assertTrue(isinstance(self.c, GeoObject2D))\n",
    "        self.assertTrue(isinstance(self.c, Plane))\n",
    "        self.assertTrue(type(self.c) is Circle)\n",
    "        \n",
    "        self.assertEqual(self.c.get_dimensions(), 2)\n",
    "        self.assertEqual(self.c.get_description(), \"<0, 0, 0>+r*<1, 0, 0>+s*<0, 1, 0> with radius 12.4\")\n",
    "    \n",
    "    def test_02_area(self):\n",
    "        \"\"\"\n",
    "        Testet Flächenberechnung des Kreises\n",
    "        \"\"\"\n",
    "        self.assertAlmostEqual(self.c.get_area(), 483.05, 2)    \n",
    "\n",
    "if __name__ == '__main__':\n",
    "    #Durchführung der Tests\n",
    "    loader = unittest.TestLoader()\n",
    "    suite = unittest.TestSuite()\n",
    "\n",
    "    #Hier können einzelne Tests auskommentiert werden\n",
    "    suite.addTest(TestCircle(\"test_01_basics\"))\n",
    "    suite.addTest(TestCircle(\"test_02_area\"))\n",
    "\n",
    "    runner = unittest.TextTestRunner()\n",
    "    runner.run(suite)"
   ]
  },
  {
   "cell_type": "markdown",
   "id": "aa57cf30-cbf1-467a-baa2-4b9438050248",
   "metadata": {},
   "source": [
    "### Zusatzaufgabe 3:\n",
    "Implementieren Sie einen **Kubus**, der beliebig im Raum rotiert und positioniert werden kann. Nutzen Sie als Basis Ihrer Implementierung die Klassen ```GeoObject3D``` und ```Cube```, die Sie bereits weiter oben implementiert haben."
   ]
  },
  {
   "cell_type": "code",
   "execution_count": null,
   "id": "024b4cec-da16-4de9-ad94-a90ea087ddca",
   "metadata": {},
   "outputs": [],
   "source": [
    "class GeoObject3D(GeoObject):\n",
    "    \"\"\"\n",
    "    Basisklasse für 3-dimensionale Objekte.\n",
    "    \"\"\"        \n",
    "    def __init__(self, name):\n",
    "        super().__init__(name)\n",
    "        self.name = name\n",
    "\n",
    "    def get_dimensions(self):\n",
    "        return 3\n",
    "\n",
    "    def get_volume(self):\n",
    "        pass\n",
    "\n",
    "\n",
    "class Cube(GeoObject3D):\n",
    "\n",
    "# YOUR CODE HERE\n",
    "raise NotImplementedError()\n",
    "\n",
    "class CubeRot(Cube):\n",
    "    \n",
    "# YOUR CODE HERE\n",
    "raise NotImplementedError()\n",
    "\n",
    "class TestCubeRot(unittest.TestCase):\n",
    "    \"\"\"\n",
    "    Unittests für den Cube-Datentyp.\n",
    "    \"\"\"\n",
    "    def setUp(self):\n",
    "        \"\"\"\n",
    "        Initialisiere Variablen für den Test.\n",
    "        \"\"\"\n",
    "        self.c  = CubeRot(\"e\", Vector([0,0,0]), Vector([1,1,1]), 35, 120)\n",
    "\n",
    "    def test_01_basics(self):\n",
    "        \"\"\"\n",
    "        Testet Basiseigenschaften - Vererbung, Dimensionen, Beschreibung.\n",
    "        \"\"\"\n",
    "        self.assertTrue(isinstance(self.c, GeoObject))\n",
    "        self.assertTrue(isinstance(self.c, GeoObject3D))\n",
    "        self.assertTrue(isinstance(self.c, Cube))\n",
    "        self.assertTrue(type(self.c) is CubeRot)\n",
    "        \n",
    "        self.assertEqual(self.c.get_dimensions(), 3)\n",
    "        self.assertEqual(self.c.get_description(), \"x=0-1, y=0-1, z=0-1, aX=35, aY=120\")\n",
    "\n",
    "if __name__ == '__main__':\n",
    "    # Durchführung der Tests\n",
    "    loader = unittest.TestLoader()\n",
    "    suite = unittest.TestSuite()\n",
    "\n",
    "    # Hier können einzelne Tests auskommentiert werden\n",
    "    suite.addTest(TestCubeRot(\"test_01_basics\"))\n",
    "\n",
    "    runner = unittest.TextTestRunner()\n",
    "    runner.run(suite)\n"
   ]
  },
  {
   "cell_type": "markdown",
   "id": "3291432e-598b-4b9c-97b9-a64bd862cd1f",
   "metadata": {},
   "source": [
    "# Footer"
   ]
  },
  {
   "cell_type": "code",
   "execution_count": null,
   "id": "7392d151",
   "metadata": {},
   "outputs": [],
   "source": [
    "#Ausführen, um den aktuellen Footer anzuzeigen\n",
    "from IPython.display import HTML\n",
    "HTML(filename='files/footer.html')"
   ]
  }
 ],
 "metadata": {
  "file_extension": ".py",
  "kernelspec": {
   "display_name": "Python 3",
   "language": "python",
   "name": "python3"
  },
  "language_info": {
   "codemirror_mode": {
    "name": "ipython",
    "version": 3
   },
   "file_extension": ".py",
   "mimetype": "text/x-python",
   "name": "python",
   "nbconvert_exporter": "python",
   "pygments_lexer": "ipython3",
   "version": "3.13.3"
  },
  "mimetype": "text/x-python",
  "name": "python",
  "npconvert_exporter": "python",
  "pygments_lexer": "ipython3",
  "rise": {
   "autolaunch": false,
   "backimage": "images/python-logo-only.svg",
   "enable_chalkboard": true,
   "footer": "<h3>DHBW Stuttgart</h3>",
   "header": "<h1>Scientific Programming Lab</h1>",
   "scroll": true,
   "theme": "serif",
   "transition": "convex"
  },
  "version": 3
 },
 "nbformat": 4,
 "nbformat_minor": 5
}
