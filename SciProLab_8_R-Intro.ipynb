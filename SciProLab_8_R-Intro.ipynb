{
 "cells": [
  {
   "cell_type": "code",
   "execution_count": 1,
   "id": "3283f910-8a3d-44cc-ba61-c413d301e032",
   "metadata": {
    "editable": true,
    "slideshow": {
     "slide_type": ""
    },
    "tags": []
   },
   "outputs": [],
   "source": [
    "library(IRdisplay)\n",
    "# Bitte diese Cell mit Run ausführen, damit die Styles geladen werden\n",
    "# Bei Änderungen des CSS muss das Notebook im Browser neu geladen werden\n",
    "display_html('<link rel=\"stylesheet\" href=\"./styles/sciprolab.css\">')"
   ]
  },
  {
   "cell_type": "markdown",
   "id": "3fa4af82-633b-496b-baae-8461ce8da055",
   "metadata": {
    "editable": true,
    "slideshow": {
     "slide_type": "slide"
    },
    "tags": []
   },
   "source": [
    "# Scientific Programming Lab"
   ]
  },
  {
   "cell_type": "markdown",
   "id": "902bef6f-f993-4193-99e9-19076376e1e5",
   "metadata": {
    "editable": true,
    "slideshow": {
     "slide_type": "slide"
    },
    "tags": []
   },
   "source": [
    "# Einführung in die Sprache R\n",
    "\n",
    "<img src=\"./images/RIntro/Rlogo.png\" width=300 align=right alt=\"R Logo\">\n",
    "\n",
    "Diese Einführung kann nur einen kleinen Einblick in R und das große Ökosystem rund um R geben. Nicht umsonst war lange unklar, welche Sprache den Bereich Data Science beherrschen wird - Python oder R. Das artete in einen förmlichen Glaubenskrieg aus, der mit der folgenden Quintessenz beigelegt wurde: <br/>\n",
    "__Für den Bereich Data Science beherrscht man am besten beide, denn R und Python ergänzen sich gut.__"
   ]
  },
  {
   "cell_type": "markdown",
   "id": "e57c9ced-1507-4828-87e4-858a27a8530e",
   "metadata": {
    "editable": true,
    "slideshow": {
     "slide_type": "subslide"
    },
    "tags": []
   },
   "source": [
    "### Was sagt die [R-Projekt Seite](https://www.r-project.org) über R:\n",
    "\n",
    "\"R is an integrated suite of software facilities for data manipulation, calculation and graphical display. It includes\n",
    "-   an effective data handling and storage facility,\n",
    "-   a suite of operators for calculations on arrays, in particular matrices,\n",
    "-   a large, coherent, integrated collection of intermediate tools for data analysis,\n",
    "-   graphical facilities for data analysis and display either on-screen or on hardcopy, and\n",
    "-   a well-developed, simple and effective programming language which includes conditionals, loops, user-defined recursive functions and input and output facilities.\""
   ]
  },
  {
   "cell_type": "markdown",
   "id": "4c13ce20-df85-4819-8a52-0e845b794800",
   "metadata": {
    "editable": true,
    "slideshow": {
     "slide_type": "subslide"
    },
    "tags": []
   },
   "source": [
    "### Was sagen andere dazu?\n",
    "\n",
    "Dr. Jonathan Carroll in \"Beyond Spreadsheets with R\":\n",
    "> Although R (well, S) was originally built for statistics, it can be considered a general purpose language (GPL) in that it isn't tied to completing just one single task.\""
   ]
  },
  {
   "cell_type": "markdown",
   "id": "2e8cd46f-aa3e-4eeb-a729-d8c74acff39b",
   "metadata": {
    "editable": true,
    "slideshow": {
     "slide_type": "subslide"
    },
    "tags": []
   },
   "source": [
    "Joe Cheng, CTO of RStudio (heute **posit**):\n",
    "> R is not a DSL. It's a language for writing DSLs, which is something that's altogether more powerful.\n",
    "\n",
    "> One person may have a finance data goal in mind, another may be interested in natural language processing, and someone else may be aiming to predict what decisions a customer will make next. The common link between all these is data, but R is so flexible that it provides a capable mechanism to work within each of these domains."
   ]
  },
  {
   "cell_type": "markdown",
   "id": "64030f25-f7b9-4b52-9b2f-b00bd915236f",
   "metadata": {
    "editable": true,
    "slideshow": {
     "slide_type": "subslide"
    },
    "tags": []
   },
   "source": [
    "Hadley Wickham, *Chief Scientist* of RStudio/**posit** - *rstudio::conf 2022*:\n",
    "\n",
    "<a href=\"https://en.wikipedia.org/wiki/Hadley_Wickham\"><img src=\"./images/RIntro/Hadley-wickham2016-02-04.jpg\" width=200 align=right alt=\"Hadley Wickham\"></a>\n",
    "\n",
    "> \"R is not a language driven by the purity of its philosophy; R is a language designed to get shit done.\""
   ]
  },
  {
   "cell_type": "markdown",
   "id": "667b691b-8df8-49bf-9a95-f9a76701c284",
   "metadata": {
    "editable": true,
    "slideshow": {
     "slide_type": "subslide"
    },
    "tags": []
   },
   "source": [
    "### R läßt sich mit folgenden Kategorien klassifizieren\n",
    "\n",
    "-   **Open Source** - der unterligende Source-Code ist frei und kann nach belieben modifiziert werden\n",
    "-   **Interpretiert** - R Code wird nicht kompiliert sondern vom Interpreter ausgeführt. Reiner R-Code ist deshalb nicht in jedem Fall die performanteste Wahl (hier kommen die Packages ins Spiel - siehe unten)\n",
    "-   **Allgemein** - R ist nicht auf einen spezifischen Bereich beschränkt sondern läßt sich auf Probleme in mehreren Domänen anwenden\n",
    "-   **Funktional** - R macht umfangreichen Gebrauch von Funktionen die auf unveränderlichen Daten operieren\n",
    "-   **Werkzeugkasten** - R hat ein bewährtes Package-System durch das es sich mit nativen, performanten Funktionen erweitern läßt, z.B. in Fortran, C/C++, Rust ... etc."
   ]
  },
  {
   "cell_type": "markdown",
   "id": "1baf601a-278d-47e2-b8a0-3c6385160f9d",
   "metadata": {
    "editable": true,
    "slideshow": {
     "slide_type": "slide"
    },
    "tags": []
   },
   "source": [
    "## Geschichtliches oder vom Seminarraum  in die New York Times\n",
    "\n",
    "<a href=\"https://www.nytimes.com/2009/01/07/technology/business-computing/07program.html\"><img src=\"./images/RIntro/GentlemanIhaka.jpg\" width=500 align=right alt=\"Robert Gentleman (li.) und Ross Ihaka (re.) starten 1992 ihr Projekt und geben 1996 ihr erstes Code-Release frei\"></a>\n",
    "\n",
    "Robert Gentleman (li.) und Ross Ihaka (re.) starten 1992 ihr Projekt und geben 1996 ihr erstes Code-Release frei [^1] , d.h. Python ist nur ca. ein Jahr älter als R\n",
    "\n",
    "[^1]: [Ashlee Vance, *Data Analysts Captivated by R's Power*, New York Times, Januar 2009](https://www.nytimes.com/2009/01/07/technology/business-computing/07program.html)\n"
   ]
  },
  {
   "cell_type": "markdown",
   "id": "522d5849-c945-4c95-8b18-acb38ba642a2",
   "metadata": {
    "editable": true,
    "slideshow": {
     "slide_type": "subslide"
    },
    "tags": []
   },
   "source": [
    "### R - vom Seminarraum in die New York Times ...\n",
    "\n",
    "<img src=\"./images/RIntro/useR-Logo.png\" width=200 align=right alt=\"useR!\">\n",
    "\n",
    "-   1992 Start von R als studentisches Projekt\n",
    "-   1995 R unter der GPL\n",
    "-   1997 R Core Team\n",
    "-   1998 CRAN (Comprehensive R Archive Network)\n",
    "-   2002 R-Foundation\n",
    "-   2004 Erste R-User-Konferenz *useR!2004* in Wien, dann 2006 und seit 2007 jährlich"
   ]
  },
  {
   "cell_type": "markdown",
   "id": "8b1841d1-09a4-46e2-a957-a8b74a1bf771",
   "metadata": {
    "editable": true,
    "slideshow": {
     "slide_type": "subslide"
    },
    "tags": []
   },
   "source": [
    "### R - vom Seminarraum in die New York Times ...\n",
    "\n",
    "-   2007 Gründung von Revolution Analytics - erste große Firma im R-Ökosystem (\"RedHat von R\")\n",
    "-   2008 R Foundation Compliance document [^2] für FDA-Submissions - wichtig in streng regulierten Bereichen, wie Gesundheitswesen und Life-Science\n",
    "-   2009 Gründung von *RStudio* durch J.J. Allaire - heute praktisch das \"RedHat von R\"\n",
    "-   2011 RStudio IDE\n",
    "-   2012 Shiny (Interaktive Dashboards)\n",
    "\n",
    "[^2]: www.r-project.org/doc/R-FDA.pdf"
   ]
  },
  {
   "cell_type": "markdown",
   "id": "39bbbc3c-deb0-437d-8804-69322b150642",
   "metadata": {
    "editable": true,
    "slideshow": {
     "slide_type": "subslide"
    },
    "tags": []
   },
   "source": [
    "### R - vom Seminarraum in die New York Times und darüber hinaus ...\n",
    "\n",
    "-   2015\n",
    "    -   Microsoft übernimmt Revolution Analytics und kündigt später die Unterstützung von R im SQL Server 2016 an\n",
    "    -   Gründung des *R Consortium* als Teil der Linux Foundation - Industriekonsortium (Microsoft, IBM, Google, HP, Oracle, RStudio, TIBCO, ...) zur Unterstützung der R-Foundation\n",
    "-   2016\n",
    "    -   R Tools for Visual Studio (RTVS)\n",
    "    -   *Tidyverse* - moderner Ansatz zur datengetriebenen Programmierung in R\n",
    "-   2020 *rstudio::conf* mit 2250 Teilnehmern\n",
    "-   2022 RStudio Inc. benennt sich in *posit* um, um mit dem gesamten Data-Science-Bereich assoziiert zu werden\n"
   ]
  },
  {
   "cell_type": "markdown",
   "id": "a48c820a-25d3-48bf-8e2a-8177768a0d2e",
   "metadata": {
    "editable": true,
    "slideshow": {
     "slide_type": "subslide"
    },
    "tags": []
   },
   "source": [
    "### R zitieren\n",
    "\n",
    "Wenn man R benutzt sollte man das auch klar dokumentieren. R erklärt selbst wie:"
   ]
  },
  {
   "cell_type": "code",
   "execution_count": 2,
   "id": "bee57f75-124b-401f-b2d9-a2b345f01dbd",
   "metadata": {
    "editable": true,
    "slideshow": {
     "slide_type": "fragment"
    },
    "tags": []
   },
   "outputs": [],
   "source": [
    "citation()"
   ]
  },
  {
   "cell_type": "markdown",
   "id": "cb3231f3-86a1-4185-b35d-3e2c5725b786",
   "metadata": {
    "editable": true,
    "slideshow": {
     "slide_type": "subslide"
    },
    "tags": []
   },
   "source": [
    "### R zitieren\n",
    "\n",
    "... und das gleiche ist auch für genutzte Packages möglich und üblich:"
   ]
  },
  {
   "cell_type": "code",
   "execution_count": 3,
   "id": "c9d4e5e2-4e5a-4e19-81b0-25d19a34ed71",
   "metadata": {
    "editable": true,
    "slideshow": {
     "slide_type": "fragment"
    },
    "tags": []
   },
   "outputs": [],
   "source": [
    "library(ggplot2) # laden des Packages ggplot2 - einer Bibliothek zur Visualisierung\n",
    "citation(\"ggplot2\")"
   ]
  },
  {
   "cell_type": "markdown",
   "id": "d1333762-1fd5-4b01-bf81-a3b23d5be2d8",
   "metadata": {
    "editable": true,
    "slideshow": {
     "slide_type": "subslide"
    },
    "tags": []
   },
   "source": [
    "### ... zum Teil von Prüfungsfragen renommierter Universitäten\n",
    "\n",
    "<img src=\"./images/RIntro/RimCambridgePartIIMathematicsTripos.png\" width=500 align=center alt=\"R als Teil des Cambridge Tripos\">"
   ]
  },
  {
   "cell_type": "markdown",
   "id": "78762dec-7eba-4614-b2a4-9aafdfd18315",
   "metadata": {
    "editable": true,
    "slideshow": {
     "slide_type": "subslide"
    },
    "tags": []
   },
   "source": [
    "### ... in das allgemeine Programmiersprachen Ranking\n",
    "\n",
    "<img src=\"./images/RIntro/IEEE_SprachRanking_2024.png\" width=300 align=right alt=\"IEEE-Ranking der Programmiersprachen 2024\">\n",
    "\n",
    "-   Platz 20 im aktuellen IEEE-Ranking für das Jahr 2024 (Matlab dahinter auf 24, SAS auf 16) [^3]\n",
    "-   Platz 18 im TIOBE Index für Jan. 2025 - von 23 im Jan. 2024 (Matlab davor auf 15, SAS auf 23) [^4]\n",
    "-   Platz 6 im PYPL(PopularitY of Programming Language)-Index Jan. 2025 [^5]\n",
    "\n",
    "[^3]: spectrum.ieee.org/top-programming-languages\n",
    "[^4]: www.tiobe.com/tiobe-index/\n",
    "[^5]: pypl.github.io/PYPL.html"
   ]
  },
  {
   "cell_type": "markdown",
   "id": "228b2e4e-bc41-4152-a9b9-e4a0b8782db1",
   "metadata": {
    "editable": true,
    "slideshow": {
     "slide_type": "subslide"
    },
    "tags": []
   },
   "source": [
    "### R vs. Python vs. Java für Data Science Aufgaben\n",
    "\n",
    "<img src=\"./images/RIntro/DataAnalysisWorkflow_Java_vs_Python_vs_R.png\" width=600 align=\"center\" alt=\"R vs. Python vs. Java für Data Science Workflows\">\n",
    "\n"
   ]
  },
  {
   "cell_type": "markdown",
   "id": "e1302216-7764-4ace-8a24-1b0f83116e9b",
   "metadata": {
    "editable": true,
    "slideshow": {
     "slide_type": "subslide"
    },
    "tags": []
   },
   "source": [
    "### R vs. Python\n",
    "\n",
    "... und hier noch einmal eine andere Meinung zur Einordnung:\n",
    "\n",
    "<a href=\"https://youtu.be/4lcwTGA7MZw\"><img src=\"./images/RIntro/RvsPython.png\" width=500 align=center alt=\"R vs. Python by IBM\"></a>\n"
   ]
  },
  {
   "cell_type": "markdown",
   "id": "0334848b-db22-49c7-9b84-f75463339e8f",
   "metadata": {
    "editable": true,
    "slideshow": {
     "slide_type": "subslide"
    },
    "tags": []
   },
   "source": [
    "### R auf einen Blick ....\n",
    "\n",
    "R eignet sich hervorragend für die Visualisierung von Daten - einfach oder komplex ...\n"
   ]
  },
  {
   "cell_type": "markdown",
   "id": "3d69f250-3dcb-458c-a380-d7c291d10c17",
   "metadata": {
    "editable": true,
    "slideshow": {
     "slide_type": "fragment"
    },
    "tags": []
   },
   "source": [
    "### R auf einen Blick ... 3D\n",
    "\n",
    "<img src=\"./images/RIntro/knot_3D2.png\" width=600 align=\"center\" alt=\"3D\">\n",
    "\n",
    "Quelle [R Graph Gallery](www.r-graph-gallery.com)"
   ]
  },
  {
   "cell_type": "markdown",
   "id": "4d931203-5f2b-42f1-a834-3efe9c6649da",
   "metadata": {
    "editable": true,
    "slideshow": {
     "slide_type": "subslide"
    },
    "tags": []
   },
   "source": [
    "### R auf einen Blick ... Kontourplots\n",
    "\n",
    "<img src=\"./images/RIntro/galaxy_density_contours.png\" width=600 align=\"center\" alt=\"Kontourplots\">\n",
    "\n",
    "Quelle [R Graph Gallery](www.r-graph-gallery.com)"
   ]
  },
  {
   "cell_type": "markdown",
   "id": "6a7364bf-f3e4-43e8-9255-c05495fd4c70",
   "metadata": {
    "editable": true,
    "slideshow": {
     "slide_type": "subslide"
    },
    "tags": []
   },
   "source": [
    "### R auf einen Blick ... Kontour in 3 D &rarr; Kernel Density Estimator\n",
    "\n",
    "<img src=\"./images/RIntro/KernelDensityEst.png\" width=600 align=\"center\" alt=\"Kernel Density Estimator\">\n",
    "\n",
    "Quelle [R Graph Gallery](www.r-graph-gallery.com)"
   ]
  },
  {
   "cell_type": "markdown",
   "id": "bac066b6-4f76-4ca5-a65c-2416fa2beafa",
   "metadata": {
    "editable": true,
    "slideshow": {
     "slide_type": "subslide"
    },
    "tags": []
   },
   "source": [
    "### R auf einen Blick ... Linienplots\n",
    "\n",
    "<img src=\"./images/RIntro/plot_lines_with_error_envelopes_ggplot2.png\" width=600 align=\"center\" alt=\"Linienplots\">\n",
    "\n",
    "Quelle [R Graph Gallery](www.r-graph-gallery.com)"
   ]
  },
  {
   "cell_type": "markdown",
   "id": "e6b47bad-6f74-433d-bcea-7f1757099721",
   "metadata": {
    "editable": true,
    "slideshow": {
     "slide_type": "subslide"
    },
    "tags": []
   },
   "source": [
    "### R auf einen Blick ... einfache Karten\n",
    "\n",
    "<img src=\"./images/RIntro/maps_leafletR1.png\" width=600 align=\"center\" alt=\"Karten\">\n",
    "\n",
    "Quelle [R Graph Gallery](www.r-graph-gallery.com)"
   ]
  },
  {
   "cell_type": "markdown",
   "id": "c64b0425-67bc-4415-96b4-964f374347cb",
   "metadata": {
    "editable": true,
    "slideshow": {
     "slide_type": "subslide"
    },
    "tags": []
   },
   "source": [
    "### R auf einen Blick ... die US-Wahlen von 2004\n",
    "\n",
    "<img src=\"./images/RIntro/USElectionMap2004.png\" width=600 align=\"center\" alt=\"US-Wahlen von 2004\">\n",
    "\n",
    "Quelle [R Graph Gallery](www.r-graph-gallery.com)"
   ]
  },
  {
   "cell_type": "markdown",
   "id": "28b15e3f-33ed-47c5-a457-2cc06e37fe13",
   "metadata": {
    "editable": true,
    "slideshow": {
     "slide_type": "subslide"
    },
    "tags": []
   },
   "source": [
    "### R auf einen Blick ... Karten in besonders schön mit dem Package rayrender/rayshader\n",
    "\n",
    "<img src=\"./images/RIntro/rayshader_geo_map.png\" width=600 align=\"center\" alt=\"Geo-Visualisierung mit rayshader\">\n"
   ]
  },
  {
   "cell_type": "markdown",
   "id": "18126382-5ab7-4d15-b2da-a901bfba3c75",
   "metadata": {
    "editable": true,
    "slideshow": {
     "slide_type": "subslide"
    },
    "tags": []
   },
   "source": [
    "### R auf einen Blick ... Korrelationsellipsen\n",
    "\n",
    "<img src=\"./images/RIntro/CorEllipse.png\" width=600 align=\"center\" alt=\"Korrelationsellipsen\">\n",
    "\n",
    "Quelle [R Graph Gallery](www.r-graph-gallery.com)"
   ]
  },
  {
   "cell_type": "markdown",
   "id": "33987e7b-e93c-47d8-ad30-218bd13f3629",
   "metadata": {
    "editable": true,
    "slideshow": {
     "slide_type": "subslide"
    },
    "tags": []
   },
   "source": [
    "### R auf einen Blick ... noch ein wenig mehr Information als Corrgrams\n",
    "\n",
    "<img src=\"./images/RIntro/Corrgram.png\" width=600 align=\"center\" alt=\"Corrgrams\">\n",
    "\n",
    "Quelle [R Graph Gallery](www.r-graph-gallery.com)"
   ]
  },
  {
   "cell_type": "markdown",
   "id": "673f2363-5be0-43d5-91da-1124acad18f6",
   "metadata": {
    "editable": true,
    "slideshow": {
     "slide_type": "subslide"
    },
    "tags": []
   },
   "source": [
    "### R auf einen Blick ... TidyTuesday 2022-23\n",
    "\n",
    "<img src=\"https://raw.githubusercontent.com/mvbloois/tidytuesday/main/plots/2022-32/2022-32_Ferris-Wheels.png\" width=600 align=\"center\" alt=\"TidyTuesday 2022-23\">"
   ]
  },
  {
   "cell_type": "markdown",
   "id": "fa2a6e8b-ae00-4542-bf88-b19a7a9ef3bd",
   "metadata": {
    "editable": true,
    "slideshow": {
     "slide_type": "subslide"
    },
    "tags": []
   },
   "source": [
    "### R auf einen Blick ... TidyTuesday 2022-31\n",
    "\n",
    "<img src=\"https://raw.githubusercontent.com/mvbloois/tidytuesday/main/plots/2022-31/2022-31_Oregon-Spotted-Frog.png\" width=600 align=\"center\" alt=\"TidyTuesday 2022-31\">"
   ]
  },
  {
   "cell_type": "markdown",
   "id": "27eb08cb-99e3-4f83-95a5-10b77f4e26b9",
   "metadata": {
    "editable": true,
    "slideshow": {
     "slide_type": "subslide"
    },
    "tags": []
   },
   "source": [
    "### R auf einen Blick ... TidyTuesday 2022-28\n",
    "\n",
    "<img src=\"https://raw.githubusercontent.com/mvbloois/tidytuesday/main/plots/2022-28/2022-28_European-Flights.png\" width=600 align=\"center\" alt=\"TidyTuesday 2022-28\">"
   ]
  },
  {
   "cell_type": "markdown",
   "id": "88cd52c6-8e50-4f50-a53e-2e5e7b5f0af6",
   "metadata": {
    "editable": true,
    "slideshow": {
     "slide_type": "subslide"
    },
    "tags": []
   },
   "source": [
    "### R auf einen Blick ... TidyTuesday 2022-26\n",
    "\n",
    "<img src=\"https://raw.githubusercontent.com/mvbloois/tidytuesday/main/plots/2022-26/2022-26_UK-Gender-Pay-Gap.png\" width=600 align=\"center\" alt=\"TidyTuesday 2022-26\">"
   ]
  },
  {
   "cell_type": "markdown",
   "id": "d4f0db6d-5337-49c8-a033-5bdd3f47b8cf",
   "metadata": {
    "editable": true,
    "slideshow": {
     "slide_type": "subslide"
    },
    "tags": []
   },
   "source": [
    "### R auf einen Blick ... TidyTuesday 2022-24\n",
    "\n",
    "<img src=\"https://raw.githubusercontent.com/mvbloois/tidytuesday/main/plots/2022-24/2022_24_US_Drought.png\" width=600 align=\"center\" alt=\"TidyTuesday 2022-24\">"
   ]
  },
  {
   "cell_type": "markdown",
   "id": "2f5d51f0-4eea-43e5-8c58-ba025bd58578",
   "metadata": {
    "editable": true,
    "slideshow": {
     "slide_type": "subslide"
    },
    "tags": []
   },
   "source": [
    "### Grundlegende Konzepte in R (J. Chambers[^10])\n",
    "\n",
    "-   Funktionale Programmierung\n",
    "-   OOP\n",
    "-   Data Frames\n",
    "-   Open Source\n",
    "-   Komponenten bzw. Modularisierung - Core/Packages\n",
    "-   Algorithmen und Interfaces\n",
    "\n",
    "[^10]: John M. Chambers, *Software for Data Analysis: Programming with R*, Springer Berlin, 2008"
   ]
  },
  {
   "cell_type": "markdown",
   "id": "ef926ec9-78e2-4864-8b6f-522d7e08384e",
   "metadata": {
    "editable": true,
    "slideshow": {
     "slide_type": "subslide"
    },
    "tags": []
   },
   "source": [
    "### Literatur- und Online-Quellen I\n",
    "\n",
    "-   [R-Projekt Seite](www.r-project.org \"R-Project\"):\n",
    "    -   Manuals www.cran.r-project.org/manuals.html:\n",
    "        -   *An Introduction to R*\n",
    "        -   *R Data Import/Export*\n",
    "        -   *R Installation and Administration*\n",
    "        -   ...\n",
    "    -   CRAN → www.cran.r-project.org\n",
    "    -   FAQ → www.cran.r-project.org/faqs.html\n",
    "    -   The R Journal → www.journal.r-project.org\n"
   ]
  },
  {
   "cell_type": "markdown",
   "id": "6a9c30b0-9429-4013-a9cf-c31614538975",
   "metadata": {
    "editable": true,
    "slideshow": {
     "slide_type": "subslide"
    },
    "tags": []
   },
   "source": [
    "### Literatur- und Online-Quellen II\n",
    "\n",
    "-   Sonstige Online-Quellen\n",
    "    -   **R**-bloggers www.r-bloggers.com\n",
    "    -   Verzeichnis aller Mailinglisten (*R-help*, ...) unter www.r-project.org/mail.html\n",
    "    -   [*The Elements of Statisical Learning*](https://statweb.stanford.edu/~tibs/ElemStatLearn/ \"The Elements of Statisical Learning\")\n",
    "    -   [Kurs von den Autoren von *The Elements of Statistical Learning* zum Maschinellen Lernen](https://www.r-bloggers.com/in-depth-introduction-to-machine-learning-in-15-hours-of-expert-videos/ \"Youtube-Kurs zum Maschinellen Lernen\")\n",
    "    -   Stack Overflow\n",
    "    -   Google, Bing, DuckDuckGo, ... etc.\n",
    "    -   ChatGPT, Claude, DeepSeek, ... etc.\n"
   ]
  },
  {
   "cell_type": "markdown",
   "id": "f0d87040-fd40-4598-b367-322ac1abb20e",
   "metadata": {
    "editable": true,
    "slideshow": {
     "slide_type": "subslide"
    },
    "tags": []
   },
   "source": [
    "### R for Data Science (2e)\n",
    "\n",
    "<img src=\"./images/RIntro/r4ds_cover_2e.jpg\" width=300 align=\"right\" alt=\"R for Data Science (2e) Cover\">\n",
    "\n",
    "-   \"Das große Buch zu R\" in seiner zweiten Auflage\n",
    "-   Hadley Wickham, Mine Çetinkaya-Rundel, Garrett Grolemund\n",
    "-   O'Reilly Media, Inc., Juni 2023\n",
    "-   ISBN: 9781492097402\n",
    "-   Online lesbar unter: [R for Data Science (2e)](https://r4ds.hadley.nz/)\n"
   ]
  },
  {
   "cell_type": "markdown",
   "id": "a2270264-8ca2-439b-baa3-a0babd039c3b",
   "metadata": {
    "editable": true,
    "slideshow": {
     "slide_type": "subslide"
    },
    "tags": []
   },
   "source": [
    "### Grundsätzliches zu R\n",
    "\n",
    "Stärken und Schwächen aus der persönlichen Sicht:\n",
    "\n",
    "-   Stärken:\n",
    "    -   Frei\n",
    "    -   Umfassendes Paket/Sprache zur Statistik, Mathematik, Datenvisualisierung ...\n",
    "    -   Große Menge bereits vorhandener Packages\n",
    "    -   Gut erweiterbar durch\n",
    "        -   eigene R-Skripte\n",
    "        -   native Routinen in C/C++, Rust, Fortran, Java ...\n",
    "        -   R-Package-Mechanismus"
   ]
  },
  {
   "cell_type": "markdown",
   "id": "85a6cead-8622-4393-accc-630851160fbe",
   "metadata": {
    "editable": true,
    "slideshow": {
     "slide_type": "subslide"
    },
    "tags": []
   },
   "source": [
    "### Grundsätzliches zu R\n",
    "\n",
    "-   Schwächen:\n",
    "    -   Für manche Dinge besteht eine  Lernkurve\n",
    "    -   In manchen, sehr rechenintensiven Dingen hinkt R (Python und Julia) hinterher (Deep Learning), aber es existieren Ankopplungen an die entsprechende Bibliotheken der anderen Ökosysteme\n"
   ]
  },
  {
   "cell_type": "markdown",
   "id": "d7dfd8fa-844a-463f-bcec-319a42ad003f",
   "metadata": {
    "editable": true,
    "slideshow": {
     "slide_type": "slide"
    },
    "tags": []
   },
   "source": [
    "## Erste Schritte in R"
   ]
  },
  {
   "cell_type": "markdown",
   "id": "e8ab4ab1-81a9-4f74-addb-c26c7642e4ce",
   "metadata": {
    "editable": true,
    "slideshow": {
     "slide_type": "subslide"
    },
    "tags": []
   },
   "source": [
    "### Einfacher Erstkontakt ohne Anaconda\n",
    "- R-Umgebungen:\n",
    "  - _Standard R_ &rarr; www.r-project.org\n",
    "  - Anaconda Environment mit R &rarr; https://www.anaconda.com\n",
    "- Editoren/IDE's:\n",
    "  - RStudio → posit.co/download/rstudio-desktop/\n",
    "  - *Positron → github.com/posit-dev/positron/* - möglicherweise die zukünftig erste Wahl, aber aktuell noch in der $\\beta$-Pahse\n",
    "  - Visual Studio Code\n",
    "  - PyCharm\n",
    "  - JupyterLab \n",
    "  - **E**macs **S**peaks **S**tatistics (**ESS**) → http://ess.r-project.org/\n",
    "  - ..."
   ]
  },
  {
   "cell_type": "markdown",
   "id": "5e375a14-f14e-4059-9568-04dd75c65c5e",
   "metadata": {
    "editable": true,
    "slideshow": {
     "slide_type": "subslide"
    },
    "tags": []
   },
   "source": [
    "### Einfacher Erstkontakt ohne Anaconda\n",
    "\n",
    "Arbeitsumgebung:\n",
    "-   Konsole\n",
    "-   Workspace\n",
    "    -   `ls`, `rm`, `rm(list=ls())`, `attach`, `detach`\n",
    "    -   `getwd`, `setwd`, `q`\n",
    "-   History\n",
    "    -   `loadhistory`, `savehistory` → `.Rhistory`\n",
    "-   Image\n",
    "    -   `load`, `save.image` → `*.RData`\n",
    "\n",
    "→ Explorativ/Demo → R → RStudio"
   ]
  },
  {
   "cell_type": "markdown",
   "id": "47f01d29-cdd2-4846-a30a-6f358193140f",
   "metadata": {
    "editable": true,
    "slideshow": {
     "slide_type": "subslide"
    },
    "tags": []
   },
   "source": [
    "### Einfacher Erstkontakt ohne Anaconda\n",
    "\n",
    "Wo und wie bekomme ich Hilfe?\n",
    "\n",
    "Hilfesystem(e):\n",
    "\n",
    "-   `apropos(\"so\")` → Suche nach Befehlen, die ein `so` enthalten\n",
    "-   `?solve` → Was macht der Befehl `solve`?\n",
    "-   `help.start()` → öffnet ein Browserfenster mit den Tutorials und dem Hilfesystem\n",
    "-   Durchsuchen der Referenz nach (statistischen und/oder ML-)Stichworten\n",
    "-   `demo()` → Demos zu einzelnen Packeten ansehen\n",
    "-   `vignette()` → Vignetten, Tutorials als PDF-Dokumente mit R-Code und zugehörigen Erklärungen (Sweave)\n",
    "-   Jemanden fragen, der sich damit auskennt ... oder eben die KI"
   ]
  },
  {
   "cell_type": "markdown",
   "id": "67e0412c-8a54-4d5c-ad61-e4e5b8ff4aa5",
   "metadata": {
    "editable": true,
    "slideshow": {
     "slide_type": "subslide"
    },
    "tags": []
   },
   "source": [
    "### Packages\n",
    "\n",
    "- Packages widerpiegeln das breite Ökosystem von R \n",
    "- Aktuell (06.02.2025) 22001 Packages auf CRAN\n",
    "    -   Historie:\n",
    "        -   07.10.2024: 21463\n",
    "        -   15.10.2023: 20011\n",
    "        -   16.10.2022: 18733\n",
    "    -   [Package-Count](https://cran.r-project.org/web/packages/#:~:text=Currently%2C%20the%20CRAN%20package%20repository%20features%2018729%20available%20packages.)\n",
    "    -   [Verfügbare Packages nach Datum sortiert](https://cran.r-project.org/web/packages/available_packages_by_date.html)\n",
    "-   Basis-Installation kommt mit grundlegenden Packages, unter anderen:\n",
    "    -   `base`, `datasets`, `utils`, `grDevices`, `graphics`, `stats`, `methods`, ...\n"
   ]
  },
  {
   "cell_type": "markdown",
   "id": "3308e106-df0d-4347-9ebf-2d003cfb4cf1",
   "metadata": {
    "editable": true,
    "slideshow": {
     "slide_type": "subslide"
    },
    "tags": []
   },
   "source": [
    "### Verwaltung der Packages\n",
    "\n",
    "| Funktion | Ergebnis |\n",
    "|--------------------------------------|----------------------------------|\n",
    "| `.libPaths()` | Verzeichnisse in denen die R-Packages installiert sind |\n",
    "| `library()` | Auflistung aller installierten Packages |\n",
    "| `installed.packages()` | Auflistung aller installierten Packages mit zugehörigen Details |\n",
    "| `install.packages()` | Startet Dialog zum Installieren eines Packages |\n",
    "| `install.packages(\"gclus\")` | Installiert das Package `gclus` |\n",
    "| `update.packages()` | Update der installierten Packages |\n",
    "| `library(rpart)` | Laden eines installierten Packages in einen Workspace (hier `rpart`) |"
   ]
  },
  {
   "cell_type": "markdown",
   "id": "9761acc9-e69e-414b-b522-a11726008df2",
   "metadata": {
    "editable": true,
    "slideshow": {
     "slide_type": "subslide"
    },
    "tags": []
   },
   "source": [
    "### \"Stolperfallen\"\n",
    "\n",
    "-   Falsche Groß- und Kleinschreibung → `help()`, `Help()` oder `HELP()`\n",
    "-   Vergessen der Anführungszeichen, wo sie notwendig sind → `install.packages(gclus)` statt `install.packages(\"gclus\")`\n",
    "-   Vergessen der Klammern am Ende der Funktion → `help` statt `help()` (Funktionen keine Statements!)"
   ]
  },
  {
   "cell_type": "markdown",
   "id": "77e531e1-4567-4e2a-a8c9-24e966921055",
   "metadata": {
    "editable": true,
    "slideshow": {
     "slide_type": "subslide"
    },
    "tags": []
   },
   "source": [
    "### \"Stolperfallen\"\n",
    "\n",
    "-   Verwendung von \"`\\`\" in Pfaden statt \"`/`\" unter Windows, für R ist der Backslash ein Escape-Zeichen, also statt `setwd(c:\\foo)` → `setwd(c:/foo)` oder `setwd(c:\\\\foo)`\n",
    "-   Benutzen einer Funktion ohne das die Bibliothek vorher geladen wurde - kann einem schnell beim teilweisen Ausführen von Code passieren, wenn man das Image des alten Workspaces lädt → Bibliotheken werden dabei nicht geladen\n",
    "-   Das Schließen des graphischen Devices nach dem Plotten nicht vergessen → `dev.off()` schreibt erst alles raus!\n",
    "-   Sehr große Datensätze - R hält Datensätze im Hauptspeicher → hängt ab vom Hauptspeicherausbau und sehr, sehr große Datensätze (GB- bis TB-Bereich) sind mit speziellen Methoden und Packages möglich"
   ]
  },
  {
   "cell_type": "markdown",
   "id": "db2fbf79-651f-4637-aa00-03ecea0ab70d",
   "metadata": {
    "editable": true,
    "slideshow": {
     "slide_type": "subslide"
    },
    "tags": []
   },
   "source": [
    "### R als einfacher Taschenrechner"
   ]
  },
  {
   "cell_type": "code",
   "execution_count": 4,
   "id": "808705eb-9a5b-4e09-a9e5-feacc9757bd8",
   "metadata": {
    "editable": true,
    "slideshow": {
     "slide_type": "fragment"
    },
    "tags": []
   },
   "outputs": [],
   "source": [
    "1 + 2 * 3"
   ]
  },
  {
   "cell_type": "code",
   "execution_count": 5,
   "id": "f5ecd03c-b968-435e-bf86-47f5a51f3abc",
   "metadata": {
    "editable": true,
    "slideshow": {
     "slide_type": "fragment"
    },
    "tags": []
   },
   "outputs": [],
   "source": [
    "2 * 5^2 - 10 * 5"
   ]
  },
  {
   "cell_type": "code",
   "execution_count": 6,
   "id": "5e8a9f6c-73ce-44dc-aaa4-d6b1619605ee",
   "metadata": {
    "editable": true,
    "slideshow": {
     "slide_type": "fragment"
    },
    "tags": []
   },
   "outputs": [],
   "source": [
    "4 * sin(pi/2)"
   ]
  },
  {
   "cell_type": "code",
   "execution_count": 7,
   "id": "232c87fa-06ea-4a52-b838-39587d711e8a",
   "metadata": {
    "editable": true,
    "slideshow": {
     "slide_type": "fragment"
    },
    "tags": []
   },
   "outputs": [],
   "source": [
    "0 / 0"
   ]
  },
  {
   "cell_type": "markdown",
   "id": "e2adf8ef-5403-4b4b-927f-d53d96ce90b9",
   "metadata": {
    "editable": true,
    "slideshow": {
     "slide_type": "subslide"
    },
    "tags": []
   },
   "source": [
    "### R kennt die Rechenregeln und interpretiert die Eingabe(Typen)\n",
    "\n",
    "-   Aufruf von `?Syntax` liefert Erklärung zu einzelnen Operatoren und ihrer Präzendenz"
   ]
  },
  {
   "cell_type": "code",
   "execution_count": 8,
   "id": "a4ecec09-420c-4026-b98c-140f7108202e",
   "metadata": {
    "editable": true,
    "slideshow": {
     "slide_type": ""
    },
    "tags": []
   },
   "outputs": [],
   "source": [
    "\"Hello World!\"\n",
    "1.31\n",
    "-3.2"
   ]
  },
  {
   "cell_type": "code",
   "execution_count": 9,
   "id": "665d6ffc-b349-4831-bb83-7ed6e6443834",
   "metadata": {
    "editable": true,
    "slideshow": {
     "slide_type": "fragment"
    },
    "tags": []
   },
   "outputs": [],
   "source": [
    "1,31"
   ]
  },
  {
   "cell_type": "markdown",
   "id": "36d1dae8-f891-46cf-9ad9-b5ab9950de0b",
   "metadata": {
    "editable": true,
    "slideshow": {
     "slide_type": "fragment"
    },
    "tags": []
   },
   "source": [
    "R ist standardmäßig internantional und verwendet \"`.`\" als Dezimalpunkt → \"`1,31`\" liefert einen Fehler"
   ]
  },
  {
   "cell_type": "markdown",
   "id": "1a1f862f-0481-40ee-b0e9-abcdc4060e57",
   "metadata": {
    "editable": true,
    "slideshow": {
     "slide_type": "subslide"
    },
    "tags": []
   },
   "source": [
    "### \"Taschenrechner mit Speicher\" - Der Zuweisungsoperator\n",
    "\n",
    "Aufgrund des \"funktionalen Erbes\" von R ist für Zuweisungen traditionell der Zuweisungsoperator (Assignment-Opterator) \"`<-`\" üblich, allerdings kann auch \"`=`\""
   ]
  },
  {
   "cell_type": "code",
   "execution_count": 10,
   "id": "7194b328-a275-4943-a82a-9ede4848cb34",
   "metadata": {
    "editable": true,
    "slideshow": {
     "slide_type": "fragment"
    },
    "tags": []
   },
   "outputs": [],
   "source": [
    "a <- 1.4\n",
    "a\n",
    "b = 2.4\n",
    "b"
   ]
  },
  {
   "cell_type": "markdown",
   "id": "8f906728-0183-4497-a5e1-48d35dcc5fe7",
   "metadata": {
    "editable": true,
    "slideshow": {
     "slide_type": "subslide"
    },
    "tags": []
   },
   "source": [
    "### Vektoren\n",
    "\n",
    "Da R von Anfang an auf die Datenverarbeitung und Statistik ausgerichtet war, sind Vektoren und Matrizen ebenfalls als atomare Datenstrukturen angelegt, mit denen viele Funktionen und Operatoren umgehen können.\n",
    "\n",
    "Einfache Funktionen für Vektoren `c()`, `length()`, `names()`, `rep()`, `seq()`, `:`"
   ]
  },
  {
   "cell_type": "code",
   "execution_count": 11,
   "id": "5f1e210b-1a0a-494e-91c3-358d4e3a128b",
   "metadata": {
    "editable": true,
    "slideshow": {
     "slide_type": "fragment"
    },
    "tags": []
   },
   "outputs": [],
   "source": [
    "a <- c(34,13,3.5) # numerischer Vektor\n",
    "b <- c(\"ab\",\"cd\",\"bd\",\"st\") # Zeichenketten-Vektor\n",
    "c <- c(T,T,F,T,F) # logischer Vektor\n",
    "length(a); length(b); length(c)"
   ]
  },
  {
   "cell_type": "code",
   "execution_count": 12,
   "id": "ec27d9a1-ccc8-4d6a-a2d6-ff86c88da88e",
   "metadata": {
    "editable": true,
    "slideshow": {
     "slide_type": "subslide"
    },
    "tags": []
   },
   "outputs": [],
   "source": [
    "names(a) <- c(\"Val1\",\"Val2\",\"Val3\") # Namen für die Elemente\n",
    "a"
   ]
  },
  {
   "cell_type": "code",
   "execution_count": 13,
   "id": "ef656d70-fef5-4ebe-96ba-59189daffd66",
   "metadata": {
    "editable": true,
    "slideshow": {
     "slide_type": "fragment"
    },
    "tags": []
   },
   "outputs": [],
   "source": [
    "rep(c(2,3,4), c(1,2,3)) # Wiederholungen von Elementen"
   ]
  },
  {
   "cell_type": "code",
   "execution_count": 14,
   "id": "aea7fbb2-499a-4922-b336-dd47ec357751",
   "metadata": {
    "editable": true,
    "slideshow": {
     "slide_type": "fragment"
    },
    "tags": []
   },
   "outputs": [],
   "source": [
    "seq(from = -5, to = 5, by = 2) # Sequenzen\n",
    "2:-3 # Einfache Sequenzen im Abstand 1"
   ]
  },
  {
   "cell_type": "code",
   "execution_count": 15,
   "id": "121ed4aa-b4b5-4898-bdc6-0c2d03eac907",
   "metadata": {
    "editable": true,
    "slideshow": {
     "slide_type": "subslide"
    },
    "tags": []
   },
   "outputs": [],
   "source": [
    "a[c(2,3)] # Zugriff über Index-Vektor\n",
    "a[c(\"Val2\",\"Val3\")] # Gemischter Zugriff über Name und Index\n",
    "a[c(F,T,T)] # Zugriff über logischen Index-Vektor"
   ]
  },
  {
   "cell_type": "markdown",
   "id": "7515da35-4fd5-4d38-a4ad-1a7231857fc9",
   "metadata": {
    "editable": true,
    "slideshow": {
     "slide_type": "subslide"
    },
    "tags": []
   },
   "source": [
    "### Arithmetische Operatoren\n",
    "\n",
    "| Operator      | Bedeutung                |\n",
    "|---------------|--------------------------|\n",
    "| `^` oder `**` | Potenz                   |\n",
    "| `*`, `/`      | Multiplikation, Division |\n",
    "| `+`, `-`      | Addition, Subtraktion    |\n",
    "| `%/%`         | Ganzzahlige Division     |\n",
    "| `%%`          | Modulo                   |\n"
   ]
  },
  {
   "cell_type": "code",
   "execution_count": 16,
   "id": "547a8ee3-f1a7-499a-9796-6763a03da178",
   "metadata": {
    "editable": true,
    "slideshow": {
     "slide_type": "subslide"
    },
    "tags": []
   },
   "outputs": [],
   "source": [
    "3^2\n",
    "c(-5,1.5,3.6)^2\n",
    "(1:20)^2\n",
    "(1:20)%%3"
   ]
  },
  {
   "cell_type": "markdown",
   "id": "72b4e16d-260b-4104-96af-b58deeba0cfc",
   "metadata": {
    "editable": true,
    "slideshow": {
     "slide_type": "subslide"
    },
    "tags": []
   },
   "source": [
    "### Vordefinierte Werte\n",
    "\n",
    "| Wert          | Bedeutung                        |\n",
    "|---------------|----------------------------------|\n",
    "| `pi`          | π                                |\n",
    "| `Inf`, `-Inf` | *Infinity* → Unendlich           |\n",
    "| `NaN`         | *Not a Number* → nicht definiert |\n",
    "| `NA`          | *Not Available* → fehlender Wert |\n",
    "| `NULL`        | Leere Menge                      |"
   ]
  },
  {
   "cell_type": "markdown",
   "id": "9f2f06fa-5aa6-4401-a07a-45e6058fd60d",
   "metadata": {
    "editable": true,
    "slideshow": {
     "slide_type": "subslide"
    },
    "tags": []
   },
   "source": [
    "### Mathematische Funktionen\n",
    "\n",
    "| Funktion | Bedeutung |\n",
    "|--------------------------------------|----------------------------------|\n",
    "| `max()`, `min()` | Extremwerte |\n",
    "| `abs()` | Betrag |\n",
    "| `sqrt()` | Quadratwurzel |\n",
    "| `round()`, `floor()`, `ceiling()` | Runden, Ab-, Aufrunden |\n",
    "| `sum()`, `prod()` | Summe, Produkt |\n",
    "| `log()`, `log2()`, `log10()` | Logarithmen |\n",
    "| `exp()` | Exponentialfunktion |\n",
    "| `sin()`, `cos()`, `tan()`, `asin()`, `acos()`, `atan()` | Trigonometrische Funktionen |\n"
   ]
  },
  {
   "cell_type": "code",
   "execution_count": 17,
   "id": "b33f7434-5508-4071-b463-56219b150c09",
   "metadata": {
    "editable": true,
    "slideshow": {
     "slide_type": "subslide"
    },
    "tags": []
   },
   "outputs": [],
   "source": [
    "a <- c(-7,-482,50,-48,-148,-295,-381,-185,-449,506)\n",
    "max(a)\n",
    "round(sin(a),2)\n",
    "round(sqrt(abs(a)),2)"
   ]
  },
  {
   "cell_type": "markdown",
   "id": "7470af37-9ecb-4ac4-a3d0-d14ec1678ca8",
   "metadata": {
    "editable": true,
    "slideshow": {
     "slide_type": "subslide"
    },
    "tags": []
   },
   "source": [
    "<div class=\"aufgabe\">\n",
    "    <h3>Rechnen mit R</h3>\n",
    "    Berechnen Sie die Summe und das Produkt der Zahlen 1 bis 10 (nutzen Sie <tt>sum()</tt> und <tt>prod()</tt>) und bestimmen Sie dann den Logarithmus zur Basis 5 der Resultate! <br/>\n",
    "    Nutzen Sie die Hilfe, um sich über die genaue Implementierung der Logarithmus-Funktion(en) in R zu informieren!\n",
    "</div>"
   ]
  },
  {
   "cell_type": "code",
   "execution_count": 18,
   "id": "dfaa084e-395f-4693-808d-7851a1792fcc",
   "metadata": {
    "editable": true,
    "slideshow": {
     "slide_type": "fragment"
    },
    "tags": []
   },
   "outputs": [],
   "source": [
    "# YOUR CODE HERE\n",
    "fail()"
   ]
  },
  {
   "cell_type": "markdown",
   "id": "2c622923-00b0-40b9-8f20-fb56bc26b927",
   "metadata": {
    "editable": true,
    "slideshow": {
     "slide_type": "subslide"
    },
    "tags": []
   },
   "source": [
    "### Logische Operatoren\n",
    "\n",
    "| Wert                      | Bedeutung    |\n",
    "|---------------------------|--------------|\n",
    "| `TRUE`, `FALSE` (`T`,`F`) | Wahr, Falsch |"
   ]
  },
  {
   "cell_type": "code",
   "execution_count": 19,
   "id": "7777742a-a086-491d-9f37-74f86ee46633",
   "metadata": {
    "editable": true,
    "slideshow": {
     "slide_type": "subslide"
    },
    "tags": []
   },
   "outputs": [],
   "source": [
    "4 < 3\n",
    "(3+1) != 3\n",
    "-3< -2"
   ]
  },
  {
   "cell_type": "code",
   "execution_count": 20,
   "id": "ea2deea7-41be-48fb-916c-040b8d269c6a",
   "metadata": {
    "editable": true,
    "slideshow": {
     "slide_type": "fragment"
    },
    "tags": []
   },
   "outputs": [],
   "source": [
    "(3 >= 2) && (4 == (3 + 1))\n",
    "TRUE && FALSE\n",
    "TRUE || FALSE"
   ]
  },
  {
   "cell_type": "markdown",
   "id": "636c04bf-88db-4718-8110-21d5c4bdc5e9",
   "metadata": {
    "editable": true,
    "slideshow": {
     "slide_type": "subslide"
    },
    "tags": []
   },
   "source": [
    "### Logische Operatoren\n",
    "\n",
    "| Funktion, Operator | Bedeutung                     |\n",
    "|--------------------|-------------------------------|\n",
    "| `==`, `!=`         | gleich, ungleich              |\n",
    "| `>`, `>=`          | größer als, größer gleich     |\n",
    "| `<`, `<=`          | kleiner als, kleiner gleich   |\n",
    "| `!`                | nicht, Negation               |\n",
    "| `&`, `&&`          | und                           |\n",
    "| \\|, \\|\\|           | oder                          |\n",
    "| `xor()`            | entweder oder (ausschließend) |\n",
    "| `any()`            | einer der Werte ...    |\n",
    "| `all()`            | alle Werte ...         |\n",
    "| `which()`          | welche Werte → Indizes |"
   ]
  },
  {
   "cell_type": "markdown",
   "id": "935cecf4-0935-4a4c-a60f-412f91429cf6",
   "metadata": {
    "editable": true,
    "slideshow": {
     "slide_type": "subslide"
    },
    "tags": []
   },
   "source": [
    "### Logische Operatoren\n",
    "\n",
    "Vektorwertige vs. nicht vektorwertige Auswertung:"
   ]
  },
  {
   "cell_type": "code",
   "execution_count": 21,
   "id": "91fd494b-fa06-4770-a5cf-3b6d89bb6184",
   "metadata": {
    "editable": true,
    "slideshow": {
     "slide_type": "fragment"
    },
    "tags": []
   },
   "outputs": [],
   "source": [
    "c(TRUE, FALSE) & c(TRUE, TRUE)  # vektorwertig\n",
    "c(TRUE, FALSE) | c(TRUE, TRUE)  # vektorwertig\n",
    "c(TRUE) && c(FALSE) # nicht vektorwertig!!!\n",
    "c(TRUE, FALSE) && c(TRUE, TRUE) # -> Fehler "
   ]
  },
  {
   "cell_type": "markdown",
   "id": "a04e3fa9-dea0-4b5e-b12b-63ecfc1b34ad",
   "metadata": {
    "editable": true,
    "slideshow": {
     "slide_type": "subslide"
    },
    "tags": []
   },
   "source": [
    "## Rechnen mit logischen Werten\n",
    "\n",
    "Manchmal gefährlich, aber mitunter sehr nützlich:"
   ]
  },
  {
   "cell_type": "code",
   "execution_count": 22,
   "id": "6b5e0ee9-cf2d-41f2-938a-f76caad079b6",
   "metadata": {
    "editable": true,
    "slideshow": {
     "slide_type": "fragment"
    },
    "tags": []
   },
   "outputs": [],
   "source": [
    "TRUE + FALSE + TRUE + TRUE\n",
    "TRUE + FALSE - TRUE + TRUE\n",
    "x <- c(-5,-3,1,7,-2,8,12)\n",
    "x < 0\n",
    "sum(x < 0) # Wieviele Zahlen sind kleiner als 0?"
   ]
  },
  {
   "cell_type": "code",
   "execution_count": 23,
   "id": "dc0d46a4-0f43-4cec-b4f5-012bdc8f0b44",
   "metadata": {
    "editable": true,
    "slideshow": {
     "slide_type": "subslide"
    },
    "tags": []
   },
   "outputs": [],
   "source": [
    "a\n",
    "all(a<0)\n",
    "a[which(a>0)]"
   ]
  },
  {
   "cell_type": "markdown",
   "id": "1392ff9a-1634-4ace-90ac-ebbeea37d35f",
   "metadata": {
    "editable": true,
    "slideshow": {
     "slide_type": "subslide"
    },
    "tags": []
   },
   "source": [
    "### Der besondere Wert NA\n",
    "\n",
    "- `NA` ist ein besonderer Wert, der die Abwesenheit einer Zahl anzeigt - im Gegensatz zu `NaN`, das anzeigt, dass eine Zahl nicht berechnet werden konnte\n",
    "- Testen auf `NA` mit `is.na()` ... und auf `NaN` mit `is.nan()`"
   ]
  },
  {
   "cell_type": "code",
   "execution_count": 24,
   "id": "2f2aba64-12f9-42ed-913a-0da02024a8f3",
   "metadata": {
    "editable": true,
    "slideshow": {
     "slide_type": "fragment"
    },
    "tags": []
   },
   "outputs": [],
   "source": [
    "x <- c(2,7,9,NA,12)\n",
    "is.na(x) # vektorwertig\n",
    "sum(x) # Uns fehlt eine Zahl -> wir werden darauf hingewiesen\n",
    "sum(x,na.rm=TRUE)"
   ]
  },
  {
   "cell_type": "markdown",
   "id": "e4b5bd40-9874-48f5-9b6a-178ddadb4db4",
   "metadata": {
    "editable": true,
    "slideshow": {
     "slide_type": "subslide"
    },
    "tags": []
   },
   "source": [
    "## Mögliche atomare Datentypen\n",
    "\n",
    "`mode(x)`:\n",
    "\n",
    "-   `NULL` → `x <- NULL`\n",
    "-   `logical` → `x <- TRUE`, `x <- logical(length=0)`\n",
    "-   `numeric` → `x <- 3`, `x <- numeric(length=0)`\n",
    "-   `complex` → `x <- 3i`, `x <- complex(length=0)`\n",
    "-   `character`→ `x <- \"abcd\"`, `x <- character(length=0)`"
   ]
  },
  {
   "cell_type": "markdown",
   "id": "f65e2fe6-bfec-4bef-8acb-f57d762e9f01",
   "metadata": {
    "editable": true,
    "slideshow": {
     "slide_type": "subslide"
    },
    "tags": []
   },
   "source": [
    "## Kategoriale Daten - Nominal und Ordinal\n",
    "\n",
    "Ein Datentyp der für die Statistik und das maschinelle Lernen sehr wichtig ist\n",
    "\n",
    "-   Nominal - nur Kategorien:\n",
    "    -   **Diabetes** → *Type1*, *Type2*\n",
    "-   Ordinal - zusätzlich eine Ordnung der Kategorien:\n",
    "    -   **Status** → *poor*, *improved*, *excellent*\n",
    "\n",
    "Wichtiger Typ von Daten, der in R abgebbildet werden muß → Datentyp `factor()`"
   ]
  },
  {
   "cell_type": "code",
   "execution_count": 25,
   "id": "28847d3e-20dc-4b15-b0a8-e3a8d851acfe",
   "metadata": {
    "editable": true,
    "slideshow": {
     "slide_type": "subslide"
    },
    "tags": []
   },
   "outputs": [],
   "source": [
    "diabetes <- c(\"Type1\",\"Type2\",\"Type1\",\"Type1\")\n",
    "diabetes <- factor(diabetes)\n",
    "diabetes\n",
    "summary(diabetes)"
   ]
  },
  {
   "cell_type": "code",
   "execution_count": 26,
   "id": "bd00118d-4453-4e8b-90f8-b2fd2798b77d",
   "metadata": {
    "editable": true,
    "slideshow": {
     "slide_type": "fragment"
    },
    "tags": []
   },
   "outputs": [],
   "source": [
    "str(diabetes) # Interne Struktur / Codierung\n",
    "is.ordered(diabetes) # Ordinaler Datentyp?"
   ]
  },
  {
   "cell_type": "code",
   "execution_count": 27,
   "id": "6b6dd9c0-a8bc-4810-8a58-add26a86c70e",
   "metadata": {
    "editable": true,
    "scrolled": true,
    "slideshow": {
     "slide_type": "subslide"
    },
    "tags": []
   },
   "outputs": [],
   "source": [
    "status <- c(\"Poor\",\"Improved\",\"Excellent\",\"Improved\")\n",
    "status <- factor(status,ordered=TRUE, levels = c(\"Poor\",\"Improved\",\"Excellent\"))\n",
    "status"
   ]
  },
  {
   "cell_type": "code",
   "execution_count": 28,
   "id": "25d84ccc-3b2e-4516-914a-06eed2763219",
   "metadata": {
    "editable": true,
    "slideshow": {
     "slide_type": "fragment"
    },
    "tags": []
   },
   "outputs": [],
   "source": [
    "str(status)\n",
    "is.ordered(status)"
   ]
  },
  {
   "cell_type": "markdown",
   "id": "61b065c1-1af3-46ec-ab38-cf7654d31154",
   "metadata": {
    "editable": true,
    "slideshow": {
     "slide_type": "subslide"
    },
    "tags": []
   },
   "source": [
    "### Matrizen\n",
    "\n",
    "Für Matrizen stehen alle üblichen Verfahren zur Verfügung, wie in Python über `numpy` auch, z.B.:"
   ]
  },
  {
   "cell_type": "code",
   "execution_count": 29,
   "id": "491721b7-1b2e-4f11-9d00-8077f81dc311",
   "metadata": {
    "editable": true,
    "slideshow": {
     "slide_type": "subslide"
    },
    "tags": []
   },
   "outputs": [],
   "source": [
    "a <- c(1,2,3); b <- c(5,6,7)\n",
    "t(a) %*% b # Skalarprodukt -> Skalar\n",
    "a %*% t(b) # Äußeres Produkt -> 3x3 Matrix"
   ]
  },
  {
   "cell_type": "markdown",
   "id": "f1fa207d-80fc-4e17-9277-8ba8c2750241",
   "metadata": {
    "editable": true,
    "slideshow": {
     "slide_type": "subslide"
    },
    "tags": []
   },
   "source": [
    "### Matrizen\n",
    "\n",
    "Zugehörige Funktionen `matrix()`, `nrow()`, `ncol()`, `dim()`, `[]`, `as.matrix()`, `is.matrix()`, ..."
   ]
  },
  {
   "cell_type": "code",
   "execution_count": 30,
   "id": "81dd0516-b0d8-4079-9351-c6d25721a8e9",
   "metadata": {
    "editable": true,
    "slideshow": {
     "slide_type": "subslide"
    },
    "tags": []
   },
   "outputs": [],
   "source": [
    "a <- matrix(1:15, nrow = 3, ncol = 5, byrow = FALSE)\n",
    "a\n",
    "nrow(a); ncol(a)"
   ]
  },
  {
   "cell_type": "markdown",
   "id": "98e9ba35-c6cf-4e3a-8a77-cf98226ac1ba",
   "metadata": {
    "editable": true,
    "slideshow": {
     "slide_type": "subslide"
    },
    "tags": []
   },
   "source": [
    "### Matrix-Operationen\n",
    "\n",
    "| Funktion                    | Bedeutung                                   |\n",
    "|-----------------------------|-------------------------------------------|\n",
    "| `%*%`                       | Matrix-Multiplikation                       |\n",
    "| `diag()`                    | Setzen oder Auslesen der Hauptdiagonale     |\n",
    "| `dim()`, `ncol()`, `nrow()` | Anzahl der Zeilen und Spalten               |\n",
    "| `dimnames()`, ...           | Zeilen und Spaltennamen Setzen und Auslesen |\n",
    "| `eigen()`                   | Eigenwerte und -vektoren                    |\n",
    "| `qr()`    | QR-Zerlegung einer Matrix     |\n",
    "| `solve()` | Invertieren einer Matrix, Gleichungssystem lösen ... |\n",
    "| `svd()`   | Singulärwertzerlegung         |\n",
    "| `t()`     | Transponieren einer Matrix    |"
   ]
  },
  {
   "cell_type": "code",
   "execution_count": 31,
   "id": "74411e9a-a3e1-498a-a132-f464fddcdfaa",
   "metadata": {
    "editable": true,
    "slideshow": {
     "slide_type": "subslide"
    },
    "tags": []
   },
   "outputs": [],
   "source": [
    "A <- matrix(c(4,7,0,5), nrow = 2)\n",
    "A.inv <- solve(A)\n",
    "A.inv"
   ]
  },
  {
   "cell_type": "code",
   "execution_count": 32,
   "id": "fe38c7c5-df1c-4dc8-841c-5736b331099e",
   "metadata": {
    "editable": true,
    "slideshow": {
     "slide_type": "fragment"
    },
    "tags": []
   },
   "outputs": [],
   "source": [
    "A.inv %*% A"
   ]
  },
  {
   "cell_type": "markdown",
   "id": "ec02789b-66a3-46e1-9946-9c74d177e751",
   "metadata": {
    "editable": true,
    "slideshow": {
     "slide_type": "subslide"
    },
    "tags": []
   },
   "source": [
    "### Listen\n",
    "\n",
    "Listen sind eine leistungsfähige und flexible Datenstruktur, die auch die Grundlage komplizierterer Objekte bilden, wie z.B. Data-Frames (Datentabellen) und S3-Klassen in R\n",
    "\n",
    "-   Erzeugen mit `list()`\n",
    "-   Sehr flexible Datenstruktur\n",
    "-   Rekursiv definiert\n",
    "-   Beliebige Länge\n",
    "-   Beliebiger Typ des Eintrages\n",
    "    -   Skalar\n",
    "    -   Vektor\n",
    "    -   Matrix\n",
    "    -   Liste\n",
    "    -   Data-Frame"
   ]
  },
  {
   "cell_type": "code",
   "execution_count": 33,
   "id": "fc796e0a-87fa-4384-ac3d-39b0e99a4bfe",
   "metadata": {
    "editable": true,
    "slideshow": {
     "slide_type": "subslide"
    },
    "tags": []
   },
   "outputs": [],
   "source": [
    "L <- list(1:4,matrix(1:4,2),c(\"Bla\",\"Blu\"))\n",
    "str(L)"
   ]
  },
  {
   "cell_type": "code",
   "execution_count": 34,
   "id": "a9075c49-3eb6-4432-bf07-73a1cf80c5a5",
   "metadata": {
    "editable": true,
    "slideshow": {
     "slide_type": "subslide"
    },
    "tags": []
   },
   "outputs": [],
   "source": [
    "L[[1]] # Zugriff auf das erste Listenelement\n",
    "L[[2]][2,2] # Zugriff Matrix-Element\n",
    "L[[c(3,2)]] # Rekursiver Zugriff - 3. Element der Liste und dann das 2. Element"
   ]
  },
  {
   "cell_type": "code",
   "execution_count": 35,
   "id": "f09e697b-f120-4cab-908d-c3e764a573d8",
   "metadata": {
    "editable": true,
    "slideshow": {
     "slide_type": "subslide"
    },
    "tags": []
   },
   "outputs": [],
   "source": [
    "L.named <- list(Info=\"Named List Info-String\", MyList = L) # Liste mit benannten Elementen\n",
    "str(L.named)"
   ]
  },
  {
   "cell_type": "code",
   "execution_count": 36,
   "id": "5a397774-85d9-49d0-ae7c-b8b54f54091b",
   "metadata": {
    "editable": true,
    "slideshow": {
     "slide_type": "fragment"
    },
    "tags": []
   },
   "outputs": [],
   "source": [
    "L.named[[1]] # Zugriff über Index\n",
    "L.named$Info # Zugriff über Name"
   ]
  },
  {
   "cell_type": "markdown",
   "id": "a1b1aab0-c8c4-48a1-89fb-aff189477c9d",
   "metadata": {
    "editable": true,
    "slideshow": {
     "slide_type": "subslide"
    },
    "tags": []
   },
   "source": [
    "### Data-Frame\n",
    "\n",
    "-   Anlegen mit `data.frame()`\n",
    "-   **data frames** (Datensätze oder Datentabelle) sind spezielle Listen\n",
    "-   Können nur Vektoren und Listen gleicher Länge enthalten\n",
    "-   Typische Datenstruktur für Datensätze\n",
    "-   Ausgangspunkt für viele Funktionen\n",
    "-   Waren Vorbild und Namenspate für die Data-Frames der *pandas*-Bibliothek von Python"
   ]
  },
  {
   "cell_type": "code",
   "execution_count": 37,
   "id": "eaff5b72-4fb9-4fca-a454-cea0175ce2ac",
   "metadata": {
    "editable": true,
    "slideshow": {
     "slide_type": "subslide"
    },
    "tags": []
   },
   "outputs": [],
   "source": [
    "patient.id <- 1:4\n",
    "age <- c(23,34,53,31)\n",
    "diabetes <- c(\"Type1\",\"Type2\",\"Type1\",\"Type1\")\n",
    "status <- c(\"Poor\",\"Improved\",\"Excellent\",\"Improved\")\n",
    "pat.data <- data.frame(patient.id, age, diabetes,status)\n",
    "pat.data"
   ]
  },
  {
   "cell_type": "code",
   "execution_count": 38,
   "id": "363525cd-f800-466e-8b59-18887f54de07",
   "metadata": {
    "editable": true,
    "slideshow": {
     "slide_type": "subslide"
    },
    "tags": []
   },
   "outputs": [],
   "source": [
    "str(pat.data)"
   ]
  },
  {
   "cell_type": "code",
   "execution_count": 39,
   "id": "9f0a969a-1ae7-4563-b783-dbaf6aa65bb4",
   "metadata": {
    "editable": true,
    "slideshow": {
     "slide_type": "subslide"
    },
    "tags": []
   },
   "outputs": [],
   "source": [
    "summary(pat.data)"
   ]
  },
  {
   "cell_type": "markdown",
   "id": "28b883a4-729a-494b-9bd4-67f785bfce57",
   "metadata": {
    "editable": true,
    "slideshow": {
     "slide_type": "subslide"
    },
    "tags": []
   },
   "source": [
    "### Von statischen Daten zu Dynamik &rarr; Funktionen\n",
    "\n",
    "R ist eine **Funktionale Sprache** &rarr;\n",
    "\n",
    "-   Alle Operationen erfolgen im Inneren als Funktionen, wie z.B. auch\n",
    "\n",
    "    -   Zuweisungen\n",
    "    -   Operatoren\n",
    "    -   ...\n",
    " - Funktionen können auch in einer Variable gespeichert werden\n",
    " - Aufruf immer in Form einer Funktion mit Klammern `fkts-name()` auch wenn keine Parameter angegeben werden\n",
    " - Eine Funktion liefert immer einen Wert zurück:\n",
    "     - Explitzit &rarr; `return(Rückgabewert)` als letzte Anweisung in der Funktion\n",
    "     - Implizit &rarr; existiert kein return-Statement, wird der letzte Werte innerhalb der Funktion zurückgegeben         "
   ]
  },
  {
   "cell_type": "code",
   "execution_count": 40,
   "id": "6c40a35c-4249-4ae3-ac6a-0b7eac3beaf6",
   "metadata": {
    "editable": true,
    "slideshow": {
     "slide_type": "subslide"
    },
    "tags": []
   },
   "outputs": [],
   "source": [
    "4 + 6\n",
    "\"+\"(4,6)\n",
    "a <- function(x,y) x + y # Anonyme Funktion mit impliziter Rückgabe\n",
    "a(4,6)"
   ]
  },
  {
   "cell_type": "markdown",
   "id": "6d0d9bab-c36b-4092-b613-5bd2e271896d",
   "metadata": {
    "editable": true,
    "slideshow": {
     "slide_type": "subslide"
    },
    "tags": []
   },
   "source": [
    "## Funktionsaufruf\n",
    "\n",
    "`fkts-name(Arg1 = Val1, Arg2 = Val2)`\n",
    "\n",
    "Dem Funktionsnamen folgen die runden Klammern mit den Parametern:\n",
    "\n",
    "1.  Argumente mit vollständigem Parameternamen werden zugeordnet und können in beliebiger Reihenfolge stehen\n",
    "2.  Argumente mit teilweise passendem Namen werden den übrigen formalen Argumenten zugeordnet (Anfangsbuchstaben müssen übereinstimmen und eindeutig einem noch nicht benutztem formalen Argument zuzuordnen sein)\n",
    "3.  Alle unbenannten Argumente werden, der Reihenfolge nach, den noch übrigen formalen Argumenten zugeordnet\n",
    "4.  Übrig gebliebene Argumente werden dem möglicherweise vorhandenem *Dreipunktargument* \"`...`\" zugeordnet - entsprichte dem `**kwargs`-Argument bei Python\n"
   ]
  },
  {
   "cell_type": "code",
   "execution_count": 41,
   "id": "f5db7c07-7a05-4874-ba04-096718d6dee4",
   "metadata": {
    "editable": true,
    "slideshow": {
     "slide_type": "subslide"
    },
    "tags": []
   },
   "outputs": [],
   "source": [
    "a <- c(8,3,2,4,NA)\n",
    "median(a)\n",
    "median(a, TRUE) # Reihenfolge korrekt\n",
    "median(na.rm = TRUE, x = a) # Zuordnung nach Namen\n",
    "median(na = TRUE, a) # Teilweise Zuordnung nach Namen"
   ]
  },
  {
   "cell_type": "markdown",
   "id": "dd49fab8-418e-4783-aca0-4be2ab799408",
   "metadata": {
    "editable": true,
    "slideshow": {
     "slide_type": "subslide"
    },
    "tags": []
   },
   "source": [
    "### Aufbau einer Funktion\n",
    "\n",
    "Prinzipieller Aufbau einer Funktion:"
   ]
  },
  {
   "cell_type": "code",
   "execution_count": 42,
   "id": "1fc99882-10ec-47b0-98d4-34df62100284",
   "metadata": {
    "editable": true,
    "slideshow": {
     "slide_type": "fragment"
    },
    "tags": []
   },
   "outputs": [],
   "source": [
    "my.function <- function(x) {\n",
    "  a <- x^2\n",
    "  c <- sum(a)\n",
    "  return(c)\n",
    "}\n",
    "\n",
    "y <- runif(10) # 10 gleichverteilte Zufallszahlen zwischen 0 und 1\n",
    "my.function(y)"
   ]
  },
  {
   "cell_type": "markdown",
   "id": "2289df5e-e345-4ce2-9f1d-bb8ad6ec618f",
   "metadata": {
    "editable": true,
    "slideshow": {
     "slide_type": "slide"
    },
    "tags": []
   },
   "source": [
    "## Daten laden, filtern und visualisieren - Explorative Datenanalyse (EDA)"
   ]
  },
  {
   "cell_type": "markdown",
   "id": "898cd151-89d1-4c4e-b394-fa6433e0da7c",
   "metadata": {
    "editable": true,
    "slideshow": {
     "slide_type": "subslide"
    },
    "tags": []
   },
   "source": [
    "### Datenquellen\n",
    "\n",
    "Daten können aus einer Vielzahl von Quellen ausgelesen werden:\n",
    "\n",
    "- Lokale Files:\n",
    "  - Textfiles wie CSV-Files (_Comma-Separated Values_)\n",
    "  - File-Formate diverser Programme wie Excel, SPSS, ... etc.\n",
    "  - Spezifische binäre Datenforamte, wie Parquet, HDF5, ... etc.\n",
    "- Datenbanken, wie Oracle, SQL-Server, PostgreSQL, SQLite, DuckDB, ...\n",
    "- Web-API's\n",
    "- Web-Scraping\n",
    "- ..."
   ]
  },
  {
   "cell_type": "markdown",
   "id": "ae6175a5-bbad-4b08-ae33-dbcfb5c64050",
   "metadata": {
    "editable": true,
    "slideshow": {
     "slide_type": "subslide"
    },
    "tags": []
   },
   "source": [
    "### Daten aus Files laden\n",
    "\n",
    "Das Auslesen einer CSV-Datei ist mit den folgenden beiden Befehlen möglich, zu beachten ist dabei die große Menge an einstellbaren Parametern (siehe `?read.csv` oder `?read.table`):\n",
    "\n",
    "```R\n",
    "data <- read.table(\"path-to-file/file-name.csv\")\n",
    "\n",
    "data <- read.csv(\"path-to-file/file-name.csv\")\n",
    "```"
   ]
  },
  {
   "cell_type": "markdown",
   "id": "93d51420-96b4-4b63-9435-338b0d55107c",
   "metadata": {
    "editable": true,
    "slideshow": {
     "slide_type": "subslide"
    },
    "tags": []
   },
   "source": [
    "### Der Iris-Datensatz oder Schwertlilien-Datensatz\n",
    "\n",
    "In R bzw. R-Packages sind sehr oft bereits Datensätze enthalten, um die implementierte Funktionalität am Beispiel zu demonstrieren. Einer dieser Datensätze ist der berühmte _Iris-Datensatz_ ([Wikipedia: Schwertlilien-Datensatz](https://de.wikipedia.org/wiki/Schwertlilien-Datensatz)). Er enthält die Längen- und Breitenmessung von Kelch- und Kronblatt dreier Schwertlilienarten und wird gern zur Demonstration von Klassifikationsverfahren verwendet, die anhand der Breiten- und Längenmessung die jeweillige Schwertlilienart vorhersagt.\n",
    "\n",
    "Das Hilfesystem von R liefert für Datensätze auch zusätzliche Information, wie Beschreibung und Quelle:\n",
    "```R\n",
    "?iris\n",
    "```\n",
    "_Anmerkung_: Beim Ausführen kommt einen ensprechend große Hilfeseite mit der Beschreibung der Daten zurück."
   ]
  },
  {
   "cell_type": "code",
   "execution_count": 43,
   "id": "048b0900-733b-4801-a3fc-367dfd7d1dc4",
   "metadata": {
    "editable": true,
    "slideshow": {
     "slide_type": "subslide"
    },
    "tags": []
   },
   "outputs": [],
   "source": [
    "ls() # Was ist im Speicher"
   ]
  },
  {
   "cell_type": "code",
   "execution_count": 44,
   "id": "f5a8e62d-6f49-42f4-bcee-a54f1b4b1aef",
   "metadata": {
    "editable": true,
    "slideshow": {
     "slide_type": "fragment"
    },
    "tags": []
   },
   "outputs": [],
   "source": [
    "rm(list=ls()) # löschen aller Objekte im Speicher\n",
    "ls() # Überprüfen, dass der Speicher auch wirklich leer ist"
   ]
  },
  {
   "cell_type": "code",
   "execution_count": 45,
   "id": "c04fc360-1d0c-407e-8b77-d7678b155337",
   "metadata": {
    "editable": true,
    "slideshow": {
     "slide_type": "subslide"
    },
    "tags": []
   },
   "outputs": [],
   "source": [
    "data(iris) # Laden des Datensatzes als Date-Frame\n",
    "head(iris) # Anzeigen der ersten 6 Einträge"
   ]
  },
  {
   "cell_type": "markdown",
   "id": "b10f0763-9e7b-4d07-95e8-fd1241db2ef2",
   "metadata": {
    "editable": true,
    "slideshow": {
     "slide_type": "subslide"
    },
    "tags": []
   },
   "source": [
    "<div class=\"aufgabe\">\n",
    "    <h3>Datentypen im Datensatz</h3>\n",
    "    Aus welchen Datentypen ist der Datensatz bzw. der Data-Frame zusammengesetzt?\n",
    "    Geben Sie insbesondere bei der Angabe der Schwertlinienart ganz genau an welcher Datentyp hier verwendet wird!\n",
    "</div>"
   ]
  },
  {
   "cell_type": "code",
   "execution_count": 46,
   "id": "1f817cbd-7d6e-45cf-a6fb-0c57df351687",
   "metadata": {
    "editable": true,
    "slideshow": {
     "slide_type": "fragment"
    },
    "tags": []
   },
   "outputs": [],
   "source": [
    "# YOUR CODE HERE\n",
    "fail()"
   ]
  },
  {
   "cell_type": "markdown",
   "id": "d09d94a2-eda4-4469-9eea-81c806daa9c1",
   "metadata": {
    "editable": true,
    "slideshow": {
     "slide_type": "subslide"
    },
    "tags": []
   },
   "source": [
    "Werfen wir noch einmal einen Blick ins \"Innere\" des Datensatzes bzw. Data-Frames:"
   ]
  },
  {
   "cell_type": "code",
   "execution_count": 47,
   "id": "43120c6d-5209-4e12-b6d0-5874f32a0a88",
   "metadata": {
    "editable": true,
    "slideshow": {
     "slide_type": "fragment"
    },
    "tags": []
   },
   "outputs": [],
   "source": [
    "str(iris)"
   ]
  },
  {
   "cell_type": "markdown",
   "id": "d7b1b960-77a9-4dbc-be76-4fabbdba803e",
   "metadata": {
    "editable": true,
    "slideshow": {
     "slide_type": "fragment"
    },
    "tags": []
   },
   "source": [
    "Es sind 150 Messungen bzw. Exemplare von 3 verschiedenen Schwertlilienarten, aber wieviele von welcher Sorte?"
   ]
  },
  {
   "cell_type": "markdown",
   "id": "7eaa1e07-cecd-4dc3-b504-da4ea7bd510d",
   "metadata": {
    "editable": true,
    "slideshow": {
     "slide_type": "subslide"
    },
    "tags": []
   },
   "source": [
    "Verschaffen wir uns einen besseren Überblick über den Datensatz:"
   ]
  },
  {
   "cell_type": "code",
   "execution_count": 48,
   "id": "0b05b867-9582-468f-a54e-01dbdb38256e",
   "metadata": {
    "editable": true,
    "slideshow": {
     "slide_type": "fragment"
    },
    "tags": []
   },
   "outputs": [],
   "source": [
    "summary(iris)"
   ]
  },
  {
   "cell_type": "markdown",
   "id": "6988f588-fd19-4852-b4aa-e11061db6bb7",
   "metadata": {
    "editable": true,
    "slideshow": {
     "slide_type": "fragment"
    },
    "tags": []
   },
   "source": [
    "R kann anhand der Datentypen sinnvolle deskriptive Werte berechnen und wir erfahren, dass jeweils 50 Exemplare einer jeden Sorte enthalten sind. "
   ]
  },
  {
   "cell_type": "markdown",
   "id": "e7c958e2-850b-4752-9353-a3ec69b487c7",
   "metadata": {
    "editable": true,
    "slideshow": {
     "slide_type": "subslide"
    },
    "tags": []
   },
   "source": [
    "### Grafische Darstellungen\n",
    "\n",
    "Der Mensch ist ein \"Augentier\", d.h. er hat einen sehr gut ausgeprägten optischen Sinn und ein mehr oder weniger eingeschränktes Vorstellungsvermögen von Zahlenräumen. Deshalb sind grafische Darstellung sehr wichtig und verschaffen einen besseren Ein- und Überblick über Zahlenmengen.\n",
    "\n",
    "R bringt in seiner Grundinstallation schon eine Basisgrafik mit, die auch komplexe Grafiken darstellen kann. "
   ]
  },
  {
   "cell_type": "markdown",
   "id": "01e28102-9a0d-4519-b7b2-0d05fbde906c",
   "metadata": {
    "editable": true,
    "slideshow": {
     "slide_type": "subslide"
    },
    "tags": []
   },
   "source": [
    "### Histogramm\n",
    "\n",
    "Ein Histogramm diskretisiert den Messbereich einer kontinuierlichen Größe (\"Binning\") und stellt die Häufigkeit des Auftrettens der einzelnen \"Bins\" als Länge einer Säule an. Man kann das Histogramm als eine empirische (gemessene) Häufigkeitsverteilung bezeichnen.\n",
    "\n",
    "Schauen wir uns das Histogramm für _Petal Width_ an:"
   ]
  },
  {
   "cell_type": "code",
   "execution_count": 49,
   "id": "d98dda7d-9955-417b-939e-2ce35b283d27",
   "metadata": {
    "editable": true,
    "slideshow": {
     "slide_type": "subslide"
    },
    "tags": []
   },
   "outputs": [],
   "source": [
    "hist(iris$Petal.Width, main=\"Histogram of Petal Width\", xlab=\"Petal Width\")"
   ]
  },
  {
   "cell_type": "markdown",
   "id": "68946f22-10f5-46ff-a44f-da315294c232",
   "metadata": {
    "editable": true,
    "slideshow": {
     "slide_type": "subslide"
    },
    "tags": []
   },
   "source": [
    "Hier erkennt man, dass _Petal Width_ zwei Häufungspunkte hat, was in der Summenstatistik nicht zu erkennen war.\n",
    "\n",
    "<div class=\"remark\">\n",
    "    <img src=\"images/caution1695.png\" width=120 align=right alt=\"https://openclipart.org/detail/1695/warning-sign\" />   \n",
    "    <h3>Wert einer Explorativen Datenanalyse (EDA)</h3>\n",
    "    <p>\n",
    "    Es ist immer wichtig sich mit seinem Datensatz vertraut zu machen - ihn zu \"explorieren\" - und ein \"Gefühl\" für die Daten und das was an Erkenntnissen in ihnen stecken könnte zu entwickeln, bevor man irgendwelche statistischen Auswertungen vornimmt.\n",
    "    </p>\n",
    "</div>"
   ]
  },
  {
   "cell_type": "markdown",
   "id": "5761dc3c-ee91-4522-847b-5ed53c337697",
   "metadata": {
    "editable": true,
    "slideshow": {
     "slide_type": "subslide"
    },
    "tags": []
   },
   "source": [
    "### Box-Plot\n",
    "\n",
    "Der Box-Plot ist eine platzsparende Variante - \"vereinfachtes Histogramm von oben\" - so dass auch \"mehrere Verteilungen\" nebeneinander dargestellt und verglichen werden können.\n",
    "\n",
    "<div class=\"aufgabe\">\n",
    "    <h3>Box-Plot</h3>\n",
    "    Schauen Sie sich die Erklärung und Beschreibung des Box-Plots auf der Wikipedia-Seite <a href=\"https://de.wikipedia.org/wiki/Box-Plot\">Box-Plot</a> an und versuchen Sie die nachfolgende Darstellung der einzelnen Blatt-Messungen in Abhängigkeit der Schwertlilienart zu verstehen und zu interpretieren!\n",
    "</div>"
   ]
  },
  {
   "cell_type": "code",
   "execution_count": 50,
   "id": "f61e2ef8-e809-4bf8-9565-3c407430d5bb",
   "metadata": {
    "editable": true,
    "slideshow": {
     "slide_type": "subslide"
    },
    "tags": []
   },
   "outputs": [],
   "source": [
    "# Sichern der alten Einstellung und Aufteilung des Grafik-Devices in ein 2x2-Layout\n",
    "op <- par(mfrow = c(2,2))\n",
    "# 4 Plots für die ersten 4 Variablen des Datensatzes mit 3 parallelen Boxplots für alle 3 Gruppen von Species\n",
    "for (i in 1:4){\n",
    "  boxplot(iris[,i] ~ iris$Species, main = colnames(iris)[i], ylab = colnames(iris)[i], xlab = \"Species\")\n",
    "}\n",
    "par(op) # Rücksetzen der Grafikeinstellungen"
   ]
  },
  {
   "cell_type": "markdown",
   "id": "50d6a4cc-fa25-4eaa-ad6b-7a31785c93cf",
   "metadata": {
    "editable": true,
    "slideshow": {
     "slide_type": "subslide"
    },
    "tags": []
   },
   "source": [
    "Testen wir aus, welche Darstellung der Aufruf der Basis-Plot-Funktion auf unserem Datensatz liefert!"
   ]
  },
  {
   "cell_type": "code",
   "execution_count": 51,
   "id": "619ee5c6-cb65-4783-af0c-078525d34564",
   "metadata": {
    "editable": true,
    "slideshow": {
     "slide_type": "fragment"
    },
    "tags": []
   },
   "outputs": [],
   "source": [
    "plot(iris, main = \"Der Iris-Datensatz\")"
   ]
  },
  {
   "cell_type": "markdown",
   "id": "8ca3923d-1283-41e8-b3af-02def8d55949",
   "metadata": {
    "editable": true,
    "slideshow": {
     "slide_type": "subslide"
    },
    "tags": []
   },
   "source": [
    "Das ist eine sogenannte Scatterplot-Matrix - manchmal auch kurz als _SPLOM_ bezeichnet - die jede Kombination zweier Variablen aus dem Datensatz gegeneinander darstellt. "
   ]
  },
  {
   "cell_type": "markdown",
   "id": "0d04ab15-0160-4d49-b465-9cde5da1e08a",
   "metadata": {
    "editable": true,
    "slideshow": {
     "slide_type": "subslide"
    },
    "tags": []
   },
   "source": [
    "Mit etwas Farbe für die verschiedenen Schwertlilienarten sollte die Dartstellung noch etwas besser interpretierbar sein:"
   ]
  },
  {
   "cell_type": "code",
   "execution_count": 52,
   "id": "723ec7eb-0929-4f65-b872-41e6319eacda",
   "metadata": {
    "editable": true,
    "slideshow": {
     "slide_type": "fragment"
    },
    "tags": []
   },
   "outputs": [],
   "source": [
    "# Ausnutzen der Factor-Codierung und Farb-Codierung in Form von ganzen Zahlen  \n",
    "plot(iris, main = \"Der Iris-Datensatz\", col = iris$Species) "
   ]
  },
  {
   "cell_type": "markdown",
   "id": "c52e22f8-16ba-4a48-88ef-e8639071aa13",
   "metadata": {
    "editable": true,
    "slideshow": {
     "slide_type": "subslide"
    },
    "tags": []
   },
   "source": [
    "<div class=\"aufgabe\">\n",
    "    <h3>Scatterplot-Matrizen (SPLOMs)</h3>\n",
    "    Schauen Sie sich den (SPLOM-)Plot des Iris-Datensatzes an und versuchen Sie genau zu verstehen, was wo wie abgebildet wird und warum! Lassen sich bereits hieraus Vermutungen anstellen, wie gut eine Klassifikation der drei Arten anhand der gemessen Kron- und Kelchblätter gelingen wird oder kann? \n",
    "</div>"
   ]
  },
  {
   "cell_type": "markdown",
   "id": "d1f006cc-edda-4d8e-89a2-1731d19fd314",
   "metadata": {
    "editable": true,
    "slideshow": {
     "slide_type": "subslide"
    },
    "tags": []
   },
   "source": [
    "### ggplot2-Grafik\n",
    "\n",
    "Die Basis-Grafik ist eigentlich schon sehr gut, funktional und reicht für einen Eindruck während der interaktiven Arbeit aus. Für die Erstellung noch schönerer, finaler Grafiken, die in abschließenden Reports oder Veröffentlichungen verwendet werden, hat sich jedoch das Grafik-Paket _ggplot2_ etabliert.\n",
    "\n",
    "Schauen wir uns einige grafische Darstellungen mit _ggplot2_ an:"
   ]
  },
  {
   "cell_type": "code",
   "execution_count": 53,
   "id": "8a29a438-aeaf-4e5c-a519-6732fedb7ed3",
   "metadata": {
    "editable": true,
    "slideshow": {
     "slide_type": "subslide"
    },
    "tags": []
   },
   "outputs": [],
   "source": [
    "library(ggplot2)\n",
    "ggplot(data=iris, aes(x=Petal.Width)) +\n",
    "  geom_histogram(fill=\"steelblue\", color=\"black\", bins=20) +\n",
    "  ggtitle(\"Petal Width\") +\n",
    "  xlab(\"Petal Width\")"
   ]
  },
  {
   "cell_type": "code",
   "execution_count": 54,
   "id": "613c5013-89aa-4e7c-9278-abb3909a293d",
   "metadata": {
    "editable": true,
    "slideshow": {
     "slide_type": "subslide"
    },
    "tags": []
   },
   "outputs": [],
   "source": [
    "ggplot(data=iris, aes(x=Species, y=Petal.Width)) + \n",
    "  geom_boxplot(fill=\"steelblue\") +\n",
    "  ggtitle(\"Petal Width per Species\") +\n",
    "  ylab(\"Petal Width\")"
   ]
  },
  {
   "cell_type": "code",
   "execution_count": 55,
   "id": "1b2114a6-182c-47a3-bdfe-f3c0c9e6a23f",
   "metadata": {
    "editable": true,
    "slideshow": {
     "slide_type": "subslide"
    },
    "tags": []
   },
   "outputs": [],
   "source": [
    "ggplot(data=iris, aes(x=Species, y=Petal.Length)) + \n",
    "  geom_boxplot(fill=\"steelblue\") +\n",
    "  ggtitle(\"Petal Length per Species\") +\n",
    "  ylab(\"Petal Length\")"
   ]
  },
  {
   "cell_type": "code",
   "execution_count": 56,
   "id": "da287e00-25bd-43dc-90b0-10447731222b",
   "metadata": {
    "editable": true,
    "slideshow": {
     "slide_type": "subslide"
    },
    "tags": []
   },
   "outputs": [],
   "source": [
    "ggplot(data=iris,aes(x=Petal.Width, y=Petal.Length,color=Species)) + \n",
    "  geom_point() +\n",
    "  ggtitle(\"Petal Length vs. Petal Width\") +\n",
    "  xlab(\"Petal Width\") + \n",
    "  ylab(\"Petal Length\")"
   ]
  },
  {
   "cell_type": "markdown",
   "id": "23fc943c-e4ef-4eb7-85e8-605c3e6b5619",
   "metadata": {
    "editable": true,
    "slideshow": {
     "slide_type": "subslide"
    },
    "tags": []
   },
   "source": [
    "### Entscheidungsbaum\n",
    "\n",
    "Eine einfache und intuitive Möglichkeit eine Klassfiaktion bzw. Einteilung anhand von Eigenschaften von Objekten vorzunehmen stellen sogenannte Entscheidungsbäume dar. Sie sind dem manuellen Vorgehen bei einer Einordnung von Objekten sehr ähnlich. \n",
    "- Schrittweise wird immer genauer unterschieden, ob eine bestimmte Eigenschaft größer oder kleiner als ein bestimmter Schwellenwert für diese Eigenschaft ist.\n",
    "- Nach der ersten Aufteilung, wird diese mit der nächsten Eigenschaft weiter aufgeteilt ... und immer weiter, bis am Ende die aufgeteilten Teilmengen soweit wie möglich nur einer Klasse oder Art angehören.\n",
    "- Einen ersten Einblick gibt hierzu auch die Wikipedia-Seite [Entscheidungsbaum](https://de.wikipedia.org/wiki/Entscheidungsbaum)!"
   ]
  },
  {
   "cell_type": "markdown",
   "id": "11cc39e3-e4be-496d-ba3f-ddbf70a72f5f",
   "metadata": {
    "editable": true,
    "slideshow": {
     "slide_type": "subslide"
    },
    "tags": []
   },
   "source": [
    "### Schätzen eines Entscheidungsbaumes\n",
    "\n",
    "Es gibt eine Reihe von Verfahren, um Entscheidungsbäume aus Daten zu bestimmen. Als Beispiel benutzen wir ein Verfahren, das im Package _rpart_ implementiert ist, weshalb diese Bibliothek installiert und geladen werden muss. Das genaue Verfahren und die weiteren Einstellungen werden wir hier nicht vertiefen, sondern es standardmäßig anwenden:"
   ]
  },
  {
   "cell_type": "code",
   "execution_count": 57,
   "id": "74e769a9-2825-4165-b46a-71000b965d2a",
   "metadata": {
    "editable": true,
    "slideshow": {
     "slide_type": "subslide"
    },
    "tags": []
   },
   "outputs": [],
   "source": [
    "library(rpart) # laden der Bibliothek\n",
    "# Funktion zur Ableitung eines Entscheidungsbaumes, um die 3 Arten aus den Kron- und Kelchblattmessunge \n",
    "# zu bestimmen\n",
    "tree <- rpart(Species ~ ., data = iris) # tree ist das Objekt in dem der Entscheidungsbaum abgelegt wird \n",
    "plot(tree, margin = 0.1, branch = 0.5) # Zeichnen des Baums\n",
    "text(tree) # Beschriften des Baums"
   ]
  },
  {
   "cell_type": "markdown",
   "id": "3d65fc66-7e7e-41fa-a044-b8286df14c55",
   "metadata": {
    "editable": true,
    "slideshow": {
     "slide_type": "subslide"
    },
    "tags": []
   },
   "source": [
    "Die `summary()`-Funktion für eine zusammenfassende Beschreibung eines übergebenen Objektes ist, ähnlich wie die `plot()`-Funktion eine generische Funktion, die anhand des Typ's des übergebenen Objektes entscheidet, was die passend Funktionalität ist. So liefert\n",
    "```R\n",
    "summary(tree)\n",
    "```\n",
    "eine genaue Beschreibung des gefundenen Entscheidungsbaumes inklusive verschiedener Leistungsparameter, auf die wir hier nicht näher eingehen.\n",
    "\n",
    "_Anmerkung_: Vorsicht - falls Sie es ausprobieren - die Ausgabe ist recht umfangreich!"
   ]
  },
  {
   "cell_type": "markdown",
   "id": "fe91c07f-925d-49ab-be3d-26575b2d7c77",
   "metadata": {
    "editable": true,
    "slideshow": {
     "slide_type": "subslide"
    },
    "tags": []
   },
   "source": [
    "Sehr oft exisitieren ergänzende Bibliotheken, die noch eine schönere Darstellung anbieten. \n",
    "Für Entscheidungsbäume ist das zum Beispiel mit der Bibliothek _rpart.plot_ der Fall: \n",
    "- Der gezeichnete Entscheidungsbaum ist hier farblich unterlegt\n",
    "- ... und in den einzelnen Knoten ist die prozentuale Zusammensetzung angegeben. "
   ]
  },
  {
   "cell_type": "code",
   "execution_count": 58,
   "id": "0c299d92-ee0f-45b5-89c2-b0a83a4dfc53",
   "metadata": {
    "editable": true,
    "slideshow": {
     "slide_type": "subslide"
    },
    "tags": []
   },
   "outputs": [],
   "source": [
    "library(rpart.plot) # laden der Bibliothek\n",
    "rpart.plot(tree, main = \"Entscheidungsbaum für den Schwertliliendatensatz\") # Plot des Entscheidungsbaums"
   ]
  },
  {
   "cell_type": "markdown",
   "id": "edb98d6b-8b24-4b24-9067-182983b584ab",
   "metadata": {
    "editable": true,
    "slideshow": {
     "slide_type": "subslide"
    },
    "tags": []
   },
   "source": [
    "Damit sind lediglich E _Petal Length_ und _Petal Width_ an der Entscheidungsfindung beteilligt:\n",
    "- _Petal Length_ < 2.5 &rarr; _Setosa_\n",
    "- _Petal Length_ >= 2.5 &rarr;\n",
    "    - Petal.Width < 1.8 &rarr; _Versicolor_ (zumindest zu 91 % & 9 % _Virginica_)\n",
    "    - Petal.Width >= 1.8 &rarr; _Virginica_ (zumindest zu 98 % & 2 % _Versicolor_)\n",
    "\n",
    "Das kann man grafisch im Scatterplot \"_Petal Length_ vs. _Sepal Length_ grafisch darstellen!"
   ]
  },
  {
   "cell_type": "code",
   "execution_count": 59,
   "id": "2f7b0481-d1fc-4028-bf82-39b795ed2f9b",
   "metadata": {
    "editable": true,
    "slideshow": {
     "slide_type": "subslide"
    },
    "tags": []
   },
   "outputs": [],
   "source": [
    "ggplot(data=iris,aes(x=Petal.Width, y=Petal.Length,color=Species)) + geom_point() + \n",
    "  geom_hline(yintercept=2.5, linetype = \"dashed\", col=\"coral4\", linewidth=1) + \n",
    "  annotate(geom=\"text\", x=0.1, y=2.7, label=\"2.5\", col=\"coral4\", size=7) +\n",
    "  annotate(\"rect\", xmin = 0.0, xmax = 2.8, ymin = -0.1, ymax = 2.5, alpha = 0.1, fill= \"red\") + \n",
    "  geom_vline(xintercept = 1.8,linetype = \"dashed\", col=\"coral4\", linewidth=1) +\n",
    "  annotate(geom=\"text\", x= 1.8, y=1, label=\"1.8\", col=\"coral4\", size=7) +\n",
    "  annotate(\"rect\", xmin = 0.0, xmax = 1.8, ymin = 2.5, ymax = 7.2, alpha = 0.1, fill= \"green\") +\n",
    "  annotate(\"rect\", xmin = 1.8, xmax = 2.8, ymin = 2.5, ymax = 7.2, alpha = 0.1, fill= \"blue\") +\n",
    "  ggtitle(\"Petal Length vs. Petal Width\") + xlab(\"Petal Width\") +  ylab(\"Petal Length\")"
   ]
  },
  {
   "cell_type": "markdown",
   "id": "6b9e1ccf-fb03-47e9-b3db-1ffcaa48d7ec",
   "metadata": {
    "editable": true,
    "slideshow": {
     "slide_type": "subslide"
    },
    "tags": []
   },
   "source": [
    "### Gesamt-Plot des Iris-Datensatzes\n",
    "\n",
    "Zum Abschluss ist hier noch einmal die \"ggplot2-Variante\" des Basis-Plot-Aufrufs von vorhin mit Hilfe des Packages _GGally_: "
   ]
  },
  {
   "cell_type": "code",
   "execution_count": 60,
   "id": "47b570bc-fd33-4ecb-b841-0b67c69e44da",
   "metadata": {
    "editable": true,
    "slideshow": {
     "slide_type": "subslide"
    },
    "tags": []
   },
   "outputs": [],
   "source": [
    "library(GGally)\n",
    "ggpairs(iris, columns = 1:4, ggplot2::aes(colour = Species, alpha = 0.5)) +\n",
    "    ggtitle(\"Der Iris-Datensatz\")"
   ]
  },
  {
   "cell_type": "markdown",
   "id": "9df1264c-c9f0-438e-a160-c7f7ce3ba928",
   "metadata": {
    "editable": true,
    "slideshow": {
     "slide_type": "slide"
    },
    "tags": []
   },
   "source": [
    "## R - das Fazit\n",
    "\n",
    "Schon dieser kleine, oberflächliche Ausflug in das R-Ökosystem, sollte ausreichend belegen, wie reichhaltig und vielfältig die Möglichkeiten von R für die Datenbe- und -verarbeitung, sowie deren Darstellung sind.\n",
    "\n",
    "R ist keine Sprache, die am Reißbrett logisch konsistent entworfen und umgesetzt worden ist. Ihre Entwicklung ist vor allem von praktischen Anforderungen aus der Mathematik, Statistik, Data Science und den verschiedenstene Anwendungsdomänen, wie Bioinformatik, Pharmakologie, Medizin, ... etc. immer weiter vorangetrieben worden.\n",
    "\n",
    "Das bereits erwähnte Zitat von Hadley Wickham trifft die Charakterisierung von R wirklich außerordentlich gut und sei deshalb zum Abschluss noch einmal wiederholt:\n",
    "> \"R is not a language driven by the purity of its philosophy; R is a language designed to get shit done.\""
   ]
  },
  {
   "cell_type": "markdown",
   "id": "ef01f3bb-6e2d-4b46-996d-756fd4dfe5c9",
   "metadata": {
    "editable": true,
    "slideshow": {
     "slide_type": "subslide"
    },
    "tags": []
   },
   "source": [
    "## ... und am Ende noch ein humorvoll satirischer Blick auf R\n",
    "\n",
    "<a href=\"https://youtu.be/nziSP3vELCk\"><img src=\"./images/RIntro/TheRInfernoSong.png\" width=500 align=center alt=\"The R Inferno Song\"></a>"
   ]
  }
 ],
 "metadata": {
  "file_extension": ".py",
  "kernelspec": {
   "display_name": "R",
   "language": "R",
   "name": "ir"
  },
  "language_info": {
   "codemirror_mode": "r",
   "file_extension": ".r",
   "mimetype": "text/x-r-source",
   "name": "R",
   "pygments_lexer": "r",
   "version": "4.4.2"
  },
  "mimetype": "text/x-python",
  "name": "python",
  "npconvert_exporter": "python",
  "pygments_lexer": "ipython3",
  "rise": {
   "autolaunch": false,
   "backimage": "images/python-logo-only.svg",
   "enable_chalkboard": true,
   "footer": "<h3>DHBW Stuttgart</h3>",
   "header": "<h1>Scientific Programming Lab</h1>",
   "scroll": true,
   "theme": "serif",
   "transition": "convex"
  },
  "version": 3
 },
 "nbformat": 4,
 "nbformat_minor": 5
}
